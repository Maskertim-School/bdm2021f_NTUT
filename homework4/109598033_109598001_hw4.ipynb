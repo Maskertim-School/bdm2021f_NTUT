{
 "cells": [
  {
   "cell_type": "code",
   "execution_count": 1,
   "metadata": {},
   "outputs": [],
   "source": [
    "import time\n",
    "import findspark\n",
    "findspark.init()\n",
    "import pyspark\n",
    "import pandas as pd\n",
    "import numpy as np\n",
    "from pyspark.sql import SparkSession\n",
    "import os"
   ]
  },
  {
   "cell_type": "code",
   "execution_count": 2,
   "metadata": {},
   "outputs": [],
   "source": [
    "from pyspark import SparkConf, SparkContext\n",
    "from pyspark.sql import SparkSession"
   ]
  },
  {
   "cell_type": "code",
   "execution_count": 3,
   "metadata": {},
   "outputs": [
    {
     "name": "stderr",
     "output_type": "stream",
     "text": [
      "2021-12-20 09:22:07,370 WARN util.Utils: Your hostname, osboxes resolves to a loopback address: 127.0.1.1; using 10.0.2.15 instead (on interface enp0s3)\n",
      "2021-12-20 09:22:07,410 WARN util.Utils: Set SPARK_LOCAL_IP if you need to bind to another address\n",
      "2021-12-20 09:22:09,000 WARN util.NativeCodeLoader: Unable to load native-hadoop library for your platform... using builtin-java classes where applicable\n",
      "Setting default log level to \"WARN\".\n",
      "To adjust logging level use sc.setLogLevel(newLevel). For SparkR, use setLogLevel(newLevel).\n",
      "2021-12-20 09:22:10,781 WARN spark.SparkConf: Note that spark.local.dir will be overridden by the value set by the cluster manager (via SPARK_LOCAL_DIRS in mesos/standalone/kubernetes and LOCAL_DIRS in YARN).\n"
     ]
    }
   ],
   "source": [
    "spark=SparkSession.builder\\\n",
    "    .config(\"spark.local.dir\", '/home/osboxes/hw/hw4/')\\\n",
    "    .appName(\"hw4\")\\\n",
    "    .getOrCreate()\n",
    "sc=spark.sparkContext"
   ]
  },
  {
   "cell_type": "code",
   "execution_count": 4,
   "metadata": {},
   "outputs": [],
   "source": [
    "path = \"/home/osboxes/hw/hw4/\""
   ]
  },
  {
   "cell_type": "code",
   "execution_count": 5,
   "metadata": {},
   "outputs": [],
   "source": [
    "if not os.path.isdir(\"./outputs\"): os.mkdir(\"./outputs\")"
   ]
  },
  {
   "cell_type": "markdown",
   "metadata": {},
   "source": [
    "# Q1 Q2"
   ]
  },
  {
   "cell_type": "code",
   "execution_count": 8,
   "metadata": {},
   "outputs": [],
   "source": [
    "#將資料以\"::\"分隔\n",
    "def deal_process(data):\n",
    "    data = data.map(lambda x : x.split('::'))\n",
    "    return data"
   ]
  },
  {
   "cell_type": "code",
   "execution_count": 9,
   "metadata": {},
   "outputs": [],
   "source": [
    "file_name = 'file:'+path+'./datasets/ratings.dat'\n",
    "text_file = sc.textFile(file_name)\n",
    "start = time.time()"
   ]
  },
  {
   "cell_type": "code",
   "execution_count": 10,
   "metadata": {},
   "outputs": [
    {
     "name": "stderr",
     "output_type": "stream",
     "text": [
      "2021-12-20 09:23:57,302 WARN scheduler.TaskSetManager: Stage 1 contains a task of very large size (14954 KiB). The maximum recommended task size is 1000 KiB.\n",
      "                                                                                \r"
     ]
    },
    {
     "name": "stdout",
     "output_type": "stream",
     "text": [
      "+------+-------+------+---------+\n",
      "|UserID|MovieID|Rating|Timestamp|\n",
      "+------+-------+------+---------+\n",
      "|     1|   1193|     5|978300760|\n",
      "|     1|    661|     3|978302109|\n",
      "|     1|    914|     3|978301968|\n",
      "|     1|   3408|     4|978300275|\n",
      "|     1|   2355|     5|978824291|\n",
      "|     1|   1197|     3|978302268|\n",
      "|     1|   1287|     5|978302039|\n",
      "|     1|   2804|     5|978300719|\n",
      "|     1|    594|     4|978302268|\n",
      "|     1|    919|     4|978301368|\n",
      "|     1|    595|     5|978824268|\n",
      "|     1|    938|     4|978301752|\n",
      "|     1|   2398|     4|978302281|\n",
      "|     1|   2918|     4|978302124|\n",
      "|     1|   1035|     5|978301753|\n",
      "|     1|   2791|     4|978302188|\n",
      "|     1|   2687|     3|978824268|\n",
      "|     1|   2018|     4|978301777|\n",
      "|     1|   3105|     5|978301713|\n",
      "|     1|   2797|     4|978302039|\n",
      "+------+-------+------+---------+\n",
      "only showing top 20 rows\n",
      "\n"
     ]
    }
   ],
   "source": [
    "data = deal_process(text_file)\n",
    "data = data.collect()\n",
    "rating_df = spark.createDataFrame(data).toDF('UserID','MovieID','Rating','Timestamp')\n",
    "rating_df.show(20)"
   ]
  },
  {
   "cell_type": "code",
   "execution_count": 11,
   "metadata": {},
   "outputs": [],
   "source": [
    "file_name = 'file:'+path+'./datasets/users.dat'\n",
    "text_file = sc.textFile(file_name)"
   ]
  },
  {
   "cell_type": "code",
   "execution_count": 12,
   "metadata": {},
   "outputs": [
    {
     "name": "stderr",
     "output_type": "stream",
     "text": [
      "\r\n",
      "[Stage 2:=============================>                             (1 + 1) / 2]\r\n",
      "\r\n",
      "                                                                                \r"
     ]
    },
    {
     "name": "stdout",
     "output_type": "stream",
     "text": [
      "+------+------+---+----------+--------+\n",
      "|UserID|Gender|Age|Occupation|Zip-code|\n",
      "+------+------+---+----------+--------+\n",
      "|     1|     F|  1|        10|   48067|\n",
      "|     2|     M| 56|        16|   70072|\n",
      "|     3|     M| 25|        15|   55117|\n",
      "|     4|     M| 45|         7|   02460|\n",
      "|     5|     M| 25|        20|   55455|\n",
      "|     6|     F| 50|         9|   55117|\n",
      "|     7|     M| 35|         1|   06810|\n",
      "|     8|     M| 25|        12|   11413|\n",
      "|     9|     M| 25|        17|   61614|\n",
      "|    10|     F| 35|         1|   95370|\n",
      "|    11|     F| 25|         1|   04093|\n",
      "|    12|     M| 25|        12|   32793|\n",
      "|    13|     M| 45|         1|   93304|\n",
      "|    14|     M| 35|         0|   60126|\n",
      "|    15|     M| 25|         7|   22903|\n",
      "|    16|     F| 35|         0|   20670|\n",
      "|    17|     M| 50|         1|   95350|\n",
      "|    18|     F| 18|         3|   95825|\n",
      "|    19|     M|  1|        10|   48073|\n",
      "|    20|     M| 25|        14|   55113|\n",
      "+------+------+---+----------+--------+\n",
      "only showing top 20 rows\n",
      "\n"
     ]
    }
   ],
   "source": [
    "data = deal_process(text_file)\n",
    "data = data.collect()\n",
    "user_df =  spark.createDataFrame(data).toDF('UserID','Gender','Age','Occupation','Zip-code')\n",
    "user_df.show(20)"
   ]
  },
  {
   "cell_type": "code",
   "execution_count": 13,
   "metadata": {},
   "outputs": [
    {
     "name": "stderr",
     "output_type": "stream",
     "text": [
      "2021-12-20 09:24:29,499 WARN scheduler.TaskSetManager: Stage 5 contains a task of very large size (14954 KiB). The maximum recommended task size is 1000 KiB.\n",
      "                                                                                \r"
     ]
    },
    {
     "name": "stdout",
     "output_type": "stream",
     "text": [
      "+------+-------+------+---------+------+---+----------+--------+\n",
      "|UserID|MovieID|Rating|Timestamp|Gender|Age|Occupation|Zip-code|\n",
      "+------+-------+------+---------+------+---+----------+--------+\n",
      "|  1090|   1250|     3|974931632|     M| 25|         7|   94105|\n",
      "|  1090|   2997|     3|974931925|     M| 25|         7|   94105|\n",
      "|  1090|    589|     4|974930654|     M| 25|         7|   94105|\n",
      "|  1090|    593|     3|974930569|     M| 25|         7|   94105|\n",
      "|  1090|   1287|     4|974931632|     M| 25|         7|   94105|\n",
      "|  1090|   1293|     4|974931575|     M| 25|         7|   94105|\n",
      "|  1090|    908|     3|974930672|     M| 25|         7|   94105|\n",
      "|  1090|    909|     3|974931763|     M| 25|         7|   94105|\n",
      "|  1090|    912|     4|974931647|     M| 25|         7|   94105|\n",
      "|  1090|    913|     3|974932091|     M| 25|         7|   94105|\n",
      "|  1090|    923|     3|974931727|     M| 25|         7|   94105|\n",
      "|  1090|    924|     3|974931710|     M| 25|         7|   94105|\n",
      "|  1090|   2268|     4|974931188|     M| 25|         7|   94105|\n",
      "|  1090|   3219|     2|974932144|     M| 25|         7|   94105|\n",
      "|  1090|   2273|     4|974932415|     M| 25|         7|   94105|\n",
      "|  1090|   2428|     2|974932031|     M| 25|         7|   94105|\n",
      "|  1090|    953|     3|974931805|     M| 25|         7|   94105|\n",
      "|  1090|    954|     4|974931710|     M| 25|         7|   94105|\n",
      "|  1090|   2433|     3|974931961|     M| 25|         7|   94105|\n",
      "|  1090|   3095|     3|974931519|     M| 25|         7|   94105|\n",
      "+------+-------+------+---------+------+---+----------+--------+\n",
      "only showing top 20 rows\n",
      "\n"
     ]
    }
   ],
   "source": [
    "df_union = rating_df.join(user_df, on='UserID', how='inner')\n",
    "df_union.show(20)"
   ]
  },
  {
   "cell_type": "code",
   "execution_count": 14,
   "metadata": {},
   "outputs": [
    {
     "name": "stdout",
     "output_type": "stream",
     "text": [
      "root\n",
      " |-- UserID: string (nullable = true)\n",
      " |-- MovieID: string (nullable = true)\n",
      " |-- Rating: double (nullable = true)\n",
      " |-- Timestamp: string (nullable = true)\n",
      " |-- Gender: string (nullable = true)\n",
      " |-- Age: string (nullable = true)\n",
      " |-- Occupation: string (nullable = true)\n",
      " |-- Zip-code: string (nullable = true)\n",
      "\n"
     ]
    }
   ],
   "source": [
    "df_union = df_union.withColumn('Rating', df_union['Rating'].cast('double'))\n",
    "df_union.printSchema()"
   ]
  },
  {
   "cell_type": "code",
   "execution_count": 15,
   "metadata": {},
   "outputs": [
    {
     "name": "stderr",
     "output_type": "stream",
     "text": [
      "2021-12-20 09:24:43,146 WARN scheduler.TaskSetManager: Stage 8 contains a task of very large size (14954 KiB). The maximum recommended task size is 1000 KiB.\n",
      "                                                                                \r"
     ]
    },
    {
     "name": "stdout",
     "output_type": "stream",
     "text": [
      "+-------+-----------------+\n",
      "|MovieID|      avg(Rating)|\n",
      "+-------+-----------------+\n",
      "|   3382|              5.0|\n",
      "|   3233|              5.0|\n",
      "|   3656|              5.0|\n",
      "|   3881|              5.0|\n",
      "|   3172|              5.0|\n",
      "|   3280|              5.0|\n",
      "|   1830|              5.0|\n",
      "|   3607|              5.0|\n",
      "|    787|              5.0|\n",
      "|    989|              5.0|\n",
      "|   3245|              4.8|\n",
      "|     53|             4.75|\n",
      "|   2503|4.666666666666667|\n",
      "|   2905|4.608695652173913|\n",
      "|   2019|4.560509554140127|\n",
      "|    318|4.554557700942973|\n",
      "|    858|4.524966261808367|\n",
      "|    745| 4.52054794520548|\n",
      "|     50|4.517106001121705|\n",
      "|    527|4.510416666666667|\n",
      "+-------+-----------------+\n",
      "only showing top 20 rows\n",
      "\n",
      "-------start-writing-------------\n"
     ]
    },
    {
     "name": "stderr",
     "output_type": "stream",
     "text": [
      "2021-12-20 09:25:16,104 WARN scheduler.TaskSetManager: Stage 12 contains a task of very large size (14954 KiB). The maximum recommended task size is 1000 KiB.\n",
      "                                                                                \r"
     ]
    },
    {
     "name": "stdout",
     "output_type": "stream",
     "text": [
      "--------finish-writing-----------\n"
     ]
    }
   ],
   "source": [
    "avg = df_union.select('MovieID','Rating')\n",
    "avg = avg.groupBy('MovieID').mean().sort('avg(Rating)',ascending=False)\n",
    "avg.show()\n",
    "print('-------start-writing-------------')\n",
    "avg.toPandas().to_csv(\"./outputs/q1_rating_avg.csv\",index=False)\n",
    "print('--------finish-writing-----------')"
   ]
  },
  {
   "cell_type": "code",
   "execution_count": 16,
   "metadata": {},
   "outputs": [
    {
     "name": "stderr",
     "output_type": "stream",
     "text": [
      "2021-12-20 09:25:47,638 WARN scheduler.TaskSetManager: Stage 20 contains a task of very large size (14954 KiB). The maximum recommended task size is 1000 KiB.\n",
      "                                                                                \r"
     ]
    },
    {
     "name": "stdout",
     "output_type": "stream",
     "text": [
      "+-------+------+-----------+\n",
      "|MovieID|Gender|avg(Rating)|\n",
      "+-------+------+-----------+\n",
      "|    854|     F|        5.0|\n",
      "|   1420|     F|        5.0|\n",
      "|   3172|     M|        5.0|\n",
      "|   1780|     F|        5.0|\n",
      "|   3607|     F|        5.0|\n",
      "|    130|     M|        5.0|\n",
      "|   2981|     F|        5.0|\n",
      "|   2332|     F|        5.0|\n",
      "|    394|     F|        5.0|\n",
      "|   2538|     F|        5.0|\n",
      "|   1830|     M|        5.0|\n",
      "|   3656|     M|        5.0|\n",
      "|    687|     F|        5.0|\n",
      "|   2129|     F|        5.0|\n",
      "|   3517|     M|        5.0|\n",
      "|   3817|     F|        5.0|\n",
      "|   2675|     F|        5.0|\n",
      "|   3280|     M|        5.0|\n",
      "|   3245|     F|        5.0|\n",
      "|   3233|     M|        5.0|\n",
      "+-------+------+-----------+\n",
      "only showing top 20 rows\n",
      "\n",
      "-------start-writing-------------\n"
     ]
    },
    {
     "name": "stderr",
     "output_type": "stream",
     "text": [
      "2021-12-20 09:26:09,103 WARN scheduler.TaskSetManager: Stage 24 contains a task of very large size (14954 KiB). The maximum recommended task size is 1000 KiB.\n",
      "                                                                                \r"
     ]
    },
    {
     "name": "stdout",
     "output_type": "stream",
     "text": [
      "--------finish-writing-----------\n"
     ]
    }
   ],
   "source": [
    "avg = df_union.select('MovieID','Rating','Gender')\n",
    "avg = avg.groupBy('MovieID','Gender').mean().sort('avg(Rating)',ascending=False)\n",
    "avg.show()\n",
    "\n",
    "print('-------start-writing-------------')\n",
    "avg.toPandas().to_csv(\"./outputs/q2_rating_avg_gender.csv\",index=False)\n",
    "print('--------finish-writing-----------')"
   ]
  },
  {
   "cell_type": "code",
   "execution_count": 17,
   "metadata": {},
   "outputs": [
    {
     "name": "stderr",
     "output_type": "stream",
     "text": [
      "2021-12-20 09:26:37,183 WARN scheduler.TaskSetManager: Stage 33 contains a task of very large size (14954 KiB). The maximum recommended task size is 1000 KiB.\n",
      "                                                                                \r"
     ]
    },
    {
     "name": "stdout",
     "output_type": "stream",
     "text": [
      "+-------+---+-----------+\n",
      "|MovieID|Age|avg(Rating)|\n",
      "+-------+---+-----------+\n",
      "|   3881| 18|        5.0|\n",
      "|   2215| 18|        5.0|\n",
      "|   1493| 50|        5.0|\n",
      "|     90| 45|        5.0|\n",
      "|    668|  1|        5.0|\n",
      "|   1286|  1|        5.0|\n",
      "|   3634|  1|        5.0|\n",
      "|   1348| 56|        5.0|\n",
      "|    937|  1|        5.0|\n",
      "|   2480| 50|        5.0|\n",
      "|    666| 50|        5.0|\n",
      "|   1743| 18|        5.0|\n",
      "|   2905| 56|        5.0|\n",
      "|   3161| 45|        5.0|\n",
      "|   2756| 56|        5.0|\n",
      "|   3245| 45|        5.0|\n",
      "|   1899| 56|        5.0|\n",
      "|   1553| 25|        5.0|\n",
      "|    613|  1|        5.0|\n",
      "|   3792|  1|        5.0|\n",
      "+-------+---+-----------+\n",
      "only showing top 20 rows\n",
      "\n",
      "-------start-writing-------------\n"
     ]
    },
    {
     "name": "stderr",
     "output_type": "stream",
     "text": [
      "2021-12-20 09:26:54,438 WARN scheduler.TaskSetManager: Stage 38 contains a task of very large size (14954 KiB). The maximum recommended task size is 1000 KiB.\n",
      "                                                                                \r"
     ]
    },
    {
     "name": "stdout",
     "output_type": "stream",
     "text": [
      "--------finish-writing-----------\n"
     ]
    }
   ],
   "source": [
    "avg = df_union.select('MovieID','Rating','Age')\n",
    "avg = avg.groupBy('MovieID','Age').mean().sort('avg(Rating)',ascending=False)\n",
    "avg.show()\n",
    "\n",
    "print('-------start-writing-------------')\n",
    "avg.toPandas().to_csv(\"./outputs/q2_rating_avg_age.csv\",index=False)\n",
    "print('--------finish-writing-----------')"
   ]
  },
  {
   "cell_type": "code",
   "execution_count": 18,
   "metadata": {},
   "outputs": [
    {
     "name": "stderr",
     "output_type": "stream",
     "text": [
      "2021-12-20 09:27:17,681 WARN scheduler.TaskSetManager: Stage 46 contains a task of very large size (14954 KiB). The maximum recommended task size is 1000 KiB.\n",
      "                                                                                \r"
     ]
    },
    {
     "name": "stdout",
     "output_type": "stream",
     "text": [
      "+-------+----------+-----------+\n",
      "|MovieID|Occupation|avg(Rating)|\n",
      "+-------+----------+-----------+\n",
      "|   1420|         4|        5.0|\n",
      "|    304|         3|        5.0|\n",
      "|   1300|         5|        5.0|\n",
      "|    578|        20|        5.0|\n",
      "|    556|        15|        5.0|\n",
      "|    853|        17|        5.0|\n",
      "|   2101|         6|        5.0|\n",
      "|   1329|         2|        5.0|\n",
      "|   1582|         9|        5.0|\n",
      "|   3143|        18|        5.0|\n",
      "|   3570|         3|        5.0|\n",
      "|   3736|        15|        5.0|\n",
      "|   3742|        18|        5.0|\n",
      "|    927|        19|        5.0|\n",
      "|   3303|         2|        5.0|\n",
      "|    909|        18|        5.0|\n",
      "|   2205|         3|        5.0|\n",
      "|   2810|        16|        5.0|\n",
      "|   2731|        18|        5.0|\n",
      "|   3172|         0|        5.0|\n",
      "+-------+----------+-----------+\n",
      "only showing top 20 rows\n",
      "\n",
      "-------start-writing-------------\n"
     ]
    },
    {
     "name": "stderr",
     "output_type": "stream",
     "text": [
      "2021-12-20 09:27:33,872 WARN scheduler.TaskSetManager: Stage 51 contains a task of very large size (14954 KiB). The maximum recommended task size is 1000 KiB.\n",
      "                                                                                \r"
     ]
    },
    {
     "name": "stdout",
     "output_type": "stream",
     "text": [
      "--------finish-writing-----------\n"
     ]
    }
   ],
   "source": [
    "avg = df_union.select('MovieID','Rating','Occupation')\n",
    "avg = avg.groupBy('MovieID','Occupation').mean().sort('avg(Rating)',ascending=False)\n",
    "avg.show()\n",
    "\n",
    "print('-------start-writing-------------')\n",
    "avg.toPandas().to_csv(\"./outputs/q2_rating_avg_occupation.csv\",index=False)\n",
    "print('--------finish-writing-----------')"
   ]
  },
  {
   "cell_type": "markdown",
   "metadata": {},
   "source": [
    "# Q3"
   ]
  },
  {
   "cell_type": "code",
   "execution_count": 19,
   "metadata": {},
   "outputs": [],
   "source": [
    "file_name = 'file:'+path+'./datasets/movies.dat'\n",
    "text_file = sc.textFile(file_name)"
   ]
  },
  {
   "cell_type": "code",
   "execution_count": 20,
   "metadata": {},
   "outputs": [
    {
     "name": "stderr",
     "output_type": "stream",
     "text": [
      "                                                                                \r"
     ]
    },
    {
     "name": "stdout",
     "output_type": "stream",
     "text": [
      "+-------+--------------------+--------------------+\n",
      "|MovieID|               Title|              Genres|\n",
      "+-------+--------------------+--------------------+\n",
      "|      1|    Toy Story (1995)|Animation|Childre...|\n",
      "|      2|      Jumanji (1995)|Adventure|Childre...|\n",
      "|      3|Grumpier Old Men ...|      Comedy|Romance|\n",
      "|      4|Waiting to Exhale...|        Comedy|Drama|\n",
      "|      5|Father of the Bri...|              Comedy|\n",
      "|      6|         Heat (1995)|Action|Crime|Thri...|\n",
      "|      7|      Sabrina (1995)|      Comedy|Romance|\n",
      "|      8| Tom and Huck (1995)|Adventure|Children's|\n",
      "|      9| Sudden Death (1995)|              Action|\n",
      "|     10|    GoldenEye (1995)|Action|Adventure|...|\n",
      "|     11|American Presiden...|Comedy|Drama|Romance|\n",
      "|     12|Dracula: Dead and...|       Comedy|Horror|\n",
      "|     13|        Balto (1995)|Animation|Children's|\n",
      "|     14|        Nixon (1995)|               Drama|\n",
      "|     15|Cutthroat Island ...|Action|Adventure|...|\n",
      "|     16|       Casino (1995)|      Drama|Thriller|\n",
      "|     17|Sense and Sensibi...|       Drama|Romance|\n",
      "|     18|   Four Rooms (1995)|            Thriller|\n",
      "|     19|Ace Ventura: When...|              Comedy|\n",
      "|     20|  Money Train (1995)|              Action|\n",
      "+-------+--------------------+--------------------+\n",
      "only showing top 20 rows\n",
      "\n"
     ]
    }
   ],
   "source": [
    "data = deal_process(text_file)\n",
    "data = data.collect()\n",
    "movie_df =  spark.createDataFrame(data).toDF('MovieID','Title','Genres')\n",
    "movie_df.show(20)"
   ]
  },
  {
   "cell_type": "code",
   "execution_count": 22,
   "metadata": {},
   "outputs": [
    {
     "name": "stderr",
     "output_type": "stream",
     "text": [
      "2021-12-20 09:42:48,393 WARN scheduler.TaskSetManager: Stage 61 contains a task of very large size (14954 KiB). The maximum recommended task size is 1000 KiB.\n",
      "                                                                                \r"
     ]
    },
    {
     "name": "stdout",
     "output_type": "stream",
     "text": [
      "+-------+------+------+---------+------+---+----------+--------+--------------+---------+\n",
      "|MovieID|UserID|Rating|Timestamp|Gender|Age|Occupation|Zip-code|         Title|   Genres|\n",
      "+-------+------+------+---------+------+---+----------+--------+--------------+---------+\n",
      "|   1090|  3414|   4.0|967488067|     M| 25|        17|   75146|Platoon (1986)|Drama|War|\n",
      "|   1090|  4821|   4.0|962945683|     M| 18|        19|   75080|Platoon (1986)|Drama|War|\n",
      "|   1090|  3441|   3.0|972795776|     F| 25|        14|   94109|Platoon (1986)|Drama|War|\n",
      "|   1090|  3650|   5.0|973026311|     M| 25|         0|   60611|Platoon (1986)|Drama|War|\n",
      "|   1090|   451|   4.0|976415081|     M| 56|        13|   54720|Platoon (1986)|Drama|War|\n",
      "|   1090|  4975|   4.0|962607595|     M| 35|         0|   90065|Platoon (1986)|Drama|War|\n",
      "|   1090|  5523|   4.0|959649371|     M| 35|         0|   60187|Platoon (1986)|Drama|War|\n",
      "|   1090|  1361|   4.0|974771289|     F| 25|         0|   97401|Platoon (1986)|Drama|War|\n",
      "|   1090|  2725|   4.0|973270245|     M| 35|         7|   30071|Platoon (1986)|Drama|War|\n",
      "|   1090|  2917|   3.0|972269526|     M| 25|         0|   60201|Platoon (1986)|Drama|War|\n",
      "|   1090|  3949|   4.0|965681902|     M| 45|         0|   44266|Platoon (1986)|Drama|War|\n",
      "|   1090|   870|   3.0|975274860|     F| 25|         1|   02144|Platoon (1986)|Drama|War|\n",
      "|   1090|   919|   3.0|975206086|     F| 35|         1|   92056|Platoon (1986)|Drama|War|\n",
      "|   1090|  1903|   4.0|974694619|     M| 35|         0|   90401|Platoon (1986)|Drama|War|\n",
      "|   1090|  2888|   4.0|972064201|     M| 25|        14|   55438|Platoon (1986)|Drama|War|\n",
      "|   1090|  2895|   4.0|971985672|     M| 25|        11|   07039|Platoon (1986)|Drama|War|\n",
      "|   1090|  3266|   5.0|968213238|     F| 25|         4|   95616|Platoon (1986)|Drama|War|\n",
      "|   1090|  3312|   5.0|967957675|     F| 18|         4|   90039|Platoon (1986)|Drama|War|\n",
      "|   1090|   447|   5.0|976236087|     F| 45|        11|   55105|Platoon (1986)|Drama|War|\n",
      "|   1090|   591|   3.0|975911705|     M| 25|         0|   76201|Platoon (1986)|Drama|War|\n",
      "+-------+------+------+---------+------+---+----------+--------+--------------+---------+\n",
      "only showing top 20 rows\n",
      "\n"
     ]
    }
   ],
   "source": [
    "df_union = df_union.join(movie_df, on='MovieID', how='inner')\n",
    "df_union.show(20)"
   ]
  },
  {
   "cell_type": "code",
   "execution_count": 41,
   "metadata": {},
   "outputs": [
    {
     "name": "stderr",
     "output_type": "stream",
     "text": [
      "2021-12-20 21:13:36,692 WARN scheduler.TaskSetManager: Stage 140 contains a task of very large size (14954 KiB). The maximum recommended task size is 1000 KiB.\n",
      "                                                                                \r"
     ]
    },
    {
     "name": "stdout",
     "output_type": "stream",
     "text": [
      "+------+------------------+\n",
      "|UserID|       avg(Rating)|\n",
      "+------+------------------+\n",
      "|   283| 4.962962962962963|\n",
      "|  2339| 4.956521739130435|\n",
      "|  3324| 4.904761904761905|\n",
      "|  3902| 4.890909090909091|\n",
      "|   446|4.8431372549019605|\n",
      "|   447| 4.837837837837838|\n",
      "|  4649| 4.818181818181818|\n",
      "|  4634| 4.813725490196078|\n",
      "|  1131| 4.796116504854369|\n",
      "|  4925| 4.761904761904762|\n",
      "|  4755|              4.76|\n",
      "|  5069|              4.76|\n",
      "|  4801|  4.73469387755102|\n",
      "|   682| 4.733333333333333|\n",
      "|  1670| 4.714285714285714|\n",
      "|    91| 4.704545454545454|\n",
      "|  3461| 4.702702702702703|\n",
      "|  5768| 4.702702702702703|\n",
      "|  5984|               4.7|\n",
      "|  1021| 4.694656488549619|\n",
      "+------+------------------+\n",
      "only showing top 20 rows\n",
      "\n",
      "-------start-writing-------------\n"
     ]
    },
    {
     "name": "stderr",
     "output_type": "stream",
     "text": [
      "2021-12-20 21:16:32,945 WARN scheduler.TaskSetManager: Stage 146 contains a task of very large size (14954 KiB). The maximum recommended task size is 1000 KiB.\n",
      "                                                                                \r"
     ]
    },
    {
     "name": "stdout",
     "output_type": "stream",
     "text": [
      "--------finish-writing-----------\n"
     ]
    }
   ],
   "source": [
    "avg = df_union.select('UserID','Rating')\n",
    "avg = avg.groupBy('UserID').mean().sort('avg(Rating)',ascending=False)\n",
    "avg.show()\n",
    "\n",
    "print('-------start-writing-------------')\n",
    "avg.toPandas().to_csv(\"./outputs/q3_user_avg.csv\",index=False)\n",
    "print('--------finish-writing-----------')"
   ]
  },
  {
   "cell_type": "code",
   "execution_count": 42,
   "metadata": {},
   "outputs": [
    {
     "name": "stderr",
     "output_type": "stream",
     "text": [
      "2021-12-20 21:17:50,773 WARN scheduler.TaskSetManager: Stage 159 contains a task of very large size (14954 KiB). The maximum recommended task size is 1000 KiB.\n",
      "                                                                                \r"
     ]
    },
    {
     "name": "stdout",
     "output_type": "stream",
     "text": [
      "+------+--------------------+-----------+\n",
      "|UserID|              Genres|avg(Rating)|\n",
      "+------+--------------------+-----------+\n",
      "|   702|Adventure|Childre...|        5.0|\n",
      "|   234|       Drama|Romance|        5.0|\n",
      "|  4367|Adventure|Childre...|        5.0|\n",
      "|  3299|Adventure|Childre...|        5.0|\n",
      "|  1748|Adventure|Childre...|        5.0|\n",
      "|  1643|           Drama|War|        5.0|\n",
      "|  5980|Adventure|Childre...|        5.0|\n",
      "|  2762|Action|Crime|Dram...|        5.0|\n",
      "|  1727|Comedy|Sci-Fi|Wes...|        5.0|\n",
      "|  2279|Action|Crime|Dram...|        5.0|\n",
      "|  4332|         Crime|Drama|        5.0|\n",
      "|  5219|Action|Adventure|...|        5.0|\n",
      "|  1800|         Crime|Drama|        5.0|\n",
      "|  4731|Action|Comedy|Wes...|        5.0|\n",
      "|  2242|Comedy|Sci-Fi|Wes...|        5.0|\n",
      "|  4494|Action|Comedy|Wes...|        5.0|\n",
      "|  5539|    Animation|Comedy|        5.0|\n",
      "|  1507|Action|Comedy|Wes...|        5.0|\n",
      "|  5480|Adventure|Childre...|        5.0|\n",
      "|  5868|Action|Comedy|Wes...|        5.0|\n",
      "+------+--------------------+-----------+\n",
      "only showing top 20 rows\n",
      "\n",
      "-------start-writing-------------\n"
     ]
    },
    {
     "name": "stderr",
     "output_type": "stream",
     "text": [
      "2021-12-20 21:18:20,501 WARN scheduler.TaskSetManager: Stage 166 contains a task of very large size (14954 KiB). The maximum recommended task size is 1000 KiB.\n",
      "                                                                                \r"
     ]
    },
    {
     "name": "stdout",
     "output_type": "stream",
     "text": [
      "--------finish-writing-----------\n"
     ]
    }
   ],
   "source": [
    "avg = df_union.select('UserID','Rating','Genres')\n",
    "avg = avg.groupBy('UserID','Genres').mean().sort('avg(Rating)',ascending=False)\n",
    "avg.show()\n",
    "\n",
    "print('-------start-writing-------------')\n",
    "avg.toPandas().to_csv(\"./outputs/q3_user_avg_genres.csv\",index=False)\n",
    "print('--------finish-writing-----------')"
   ]
  },
  {
   "cell_type": "code",
   "execution_count": null,
   "metadata": {},
   "outputs": [],
   "source": []
  },
  {
   "cell_type": "markdown",
   "metadata": {},
   "source": [
    "# Q4 Q5"
   ]
  },
  {
   "cell_type": "code",
   "execution_count": 43,
   "metadata": {},
   "outputs": [],
   "source": [
    "#Establish matrix - user-user\n",
    "def cal_matrix_user(UserID_avg , MovieID_avg , Compare_Data):\n",
    "    matrix = [[None] * len(MovieID_avg) for i in range(len(UserID_avg))]\n",
    "    for i in range(len(UserID_avg)):\n",
    "        for j in range(len(MovieID_avg)):\n",
    "            frequency = 0\n",
    "            for z in range(len(Compare_Data)):\n",
    "                if (str(UserID_avg[i][0]) == str(Compare_Data[z][0])) and (str(MovieID_avg[j][0]) == str(Compare_Data[z][1])):\n",
    "                    frequency = frequency + Compare_Data[z][2] - UserID_avg[i][1]\n",
    "            matrix[i][j] = frequency\n",
    "    return matrix"
   ]
  },
  {
   "cell_type": "code",
   "execution_count": 44,
   "metadata": {},
   "outputs": [],
   "source": [
    "#Establish matrix2 - user-user_cos_sim\n",
    "def cal_matrix_user_cos_sim(UserID_avg , MovieID_avg , Compare_Data):\n",
    "    #get v1\n",
    "    list = []\n",
    "    vector1 = [None] * len(MovieID_avg)\n",
    "    for i in range(1):\n",
    "        for j in range(len(MovieID_avg)):\n",
    "            frequency = 0\n",
    "            for z in range(len(Compare_Data)):\n",
    "                if (str(UserID_avg[i][0]) == str(Compare_Data[z][0])) and (str(MovieID_avg[j][0]) == str(Compare_Data[z][1])):\n",
    "                    frequency = frequency + Compare_Data[z][2] - UserID_avg[i][1]\n",
    "            vector1[j] = frequency\n",
    "    #compare v1&v2 get cos_sim\n",
    "    for i in range(len(UserID_avg)):\n",
    "        tmp = []\n",
    "        vector2 = [None] * len(MovieID_avg)\n",
    "        for j in range(len(MovieID_avg)):\n",
    "            frequency = 0\n",
    "            for z in range(len(Compare_Data)):\n",
    "                if (str(UserID_avg[i][0]) == str(Compare_Data[z][0])) and (str(MovieID_avg[j][0]) == str(Compare_Data[z][1])):\n",
    "                    frequency = frequency + Compare_Data[z][2] - UserID_avg[i][1]\n",
    "            vector2[j] = frequency\n",
    "        tmp.append('S1'+str(i+1))\n",
    "        if(i==0):\n",
    "            tmp.append(1)\n",
    "        elif((np.linalg.norm(vector1)*(np.linalg.norm(vector2)!=0))):\n",
    "            tmp.append(np.dot(vector1,vector2) / (np.linalg.norm(vector1)*(np.linalg.norm(vector2))))\n",
    "        else:\n",
    "            tmp.append(0)\n",
    "        list.append(tmp)\n",
    "        \n",
    "    return list"
   ]
  },
  {
   "cell_type": "code",
   "execution_count": 45,
   "metadata": {},
   "outputs": [],
   "source": [
    "#Establish matrix - item-item\n",
    "def cal_matrix_item(UserID_avg , MovieID_avg , Compare_Data):\n",
    "    matrix = [[None] * len(UserID_avg) for i in range(len(MovieID_avg))]\n",
    "    for i in range(len(MovieID_avg)):\n",
    "        for j in range(len(UserID_avg)):\n",
    "            frequency = 0\n",
    "            for z in range(len(Compare_Data)):\n",
    "                if (str(UserID_avg[j][0]) == str(Compare_Data[z][0])) and (str(MovieID_avg[i][0]) == str(Compare_Data[z][1])):\n",
    "                    frequency = frequency + Compare_Data[z][2] - MovieID_avg[i][1]\n",
    "            matrix[i][j] = frequency\n",
    "    return matrix"
   ]
  },
  {
   "cell_type": "code",
   "execution_count": 46,
   "metadata": {},
   "outputs": [],
   "source": [
    "#Establish matrix - item-item_cos_sim\n",
    "def cal_matrix_item_cos_sim(UserID_avg , MovieID_avg , Compare_Data):\n",
    "    #get v1\n",
    "    list = []\n",
    "    vector1 = [None] * len(UserID_avg)\n",
    "    for i in range(1):\n",
    "        for j in range(len(UserID_avg)):\n",
    "            frequency = 0\n",
    "            for z in range(len(Compare_Data)):\n",
    "                if (str(UserID_avg[j][0]) == str(Compare_Data[z][0])) and (str(MovieID_avg[i][0]) == str(Compare_Data[z][1])):\n",
    "                    frequency = frequency + Compare_Data[z][2] - MovieID_avg[i][1]\n",
    "            vector1[j] = frequency \n",
    "    #compare v1&v2 get cos_sim        \n",
    "    for i in range(len(MovieID_avg)):\n",
    "        tmp = []\n",
    "        vector2 = [None] * len(UserID_avg)\n",
    "        for j in range(len(UserID_avg)):\n",
    "            frequency = 0\n",
    "            for z in range(len(Compare_Data)):\n",
    "                if (str(UserID_avg[j][0]) == str(Compare_Data[z][0])) and (str(MovieID_avg[i][0]) == str(Compare_Data[z][1])):\n",
    "                    frequency = frequency + Compare_Data[z][2] - MovieID_avg[i][1]\n",
    "            vector2[j] = frequency\n",
    "        tmp.append('S1'+str(i+1))\n",
    "        if(i == 0):\n",
    "            tmp.append(1)\n",
    "        elif((np.linalg.norm(vector1)*(np.linalg.norm(vector2)!=0))):\n",
    "            tmp.append(np.dot(vector1,vector2) / (np.linalg.norm(vector1)*(np.linalg.norm(vector2))))\n",
    "        else:\n",
    "            tmp.append(0)\n",
    "        list.append(tmp)\n",
    "        \n",
    "    return list"
   ]
  },
  {
   "cell_type": "code",
   "execution_count": 47,
   "metadata": {},
   "outputs": [],
   "source": [
    "#cosine_similarity\n",
    "def cos_sim(matrix , UserID_number , MovieID_number , tp):\n",
    "    list = []\n",
    "    if (tp == 0):\n",
    "        for i in range (1):\n",
    "            for j in range(i,UserID_number):\n",
    "                tmp = []\n",
    "                vector1 = np.array(matrix[i])\n",
    "                vector2 = np.array(matrix[j])\n",
    "                tmp.append('S'+str(i+1)+str(j+1))\n",
    "                if(i==j):\n",
    "                    tmp.append(1)\n",
    "                elif((np.linalg.norm(vector1)*(np.linalg.norm(vector2)!=0))):\n",
    "                    tmp.append(np.dot(vector1,vector2) / (np.linalg.norm(vector1)*(np.linalg.norm(vector2))))\n",
    "                else:\n",
    "                    tmp.append(0)\n",
    "                list.append(tmp)\n",
    "    else:\n",
    "        for i in range (1):\n",
    "            for j in range(i,MovieID_number):\n",
    "                tmp = []\n",
    "                vector1 = np.array(matrix[i])\n",
    "                vector2 = np.array(matrix[j])\n",
    "                tmp.append('S'+str(i+1)+str(j+1))\n",
    "                if(i==j):\n",
    "                    tmp.append(1)\n",
    "                elif((np.linalg.norm(vector1)*(np.linalg.norm(vector2)!=0))):\n",
    "                    tmp.append(np.dot(vector1,vector2) / (np.linalg.norm(vector1)*(np.linalg.norm(vector2))))\n",
    "                else:\n",
    "                    tmp.append(0)\n",
    "                list.append(tmp)\n",
    "    return list"
   ]
  },
  {
   "cell_type": "code",
   "execution_count": 48,
   "metadata": {},
   "outputs": [],
   "source": [
    "df = rating_df"
   ]
  },
  {
   "cell_type": "code",
   "execution_count": 36,
   "metadata": {},
   "outputs": [
    {
     "name": "stderr",
     "output_type": "stream",
     "text": [
      "2021-12-20 09:50:24,177 WARN scheduler.TaskSetManager: Stage 104 contains a task of very large size (14954 KiB). The maximum recommended task size is 1000 KiB.\n",
      "2021-12-20 09:50:41,526 WARN scheduler.TaskSetManager: Stage 107 contains a task of very large size (14954 KiB). The maximum recommended task size is 1000 KiB.\n",
      "2021-12-20 09:50:51,290 WARN scheduler.TaskSetManager: Stage 110 contains a task of very large size (14954 KiB). The maximum recommended task size is 1000 KiB.\n",
      "                                                                                \r"
     ]
    },
    {
     "name": "stdout",
     "output_type": "stream",
     "text": [
      "----------------------------------\n",
      "root\n",
      " |-- UserID: string (nullable = true)\n",
      " |-- avg(Rating): double (nullable = true)\n",
      "\n"
     ]
    },
    {
     "name": "stderr",
     "output_type": "stream",
     "text": [
      "2021-12-20 09:50:59,314 WARN scheduler.TaskSetManager: Stage 113 contains a task of very large size (14954 KiB). The maximum recommended task size is 1000 KiB.\n",
      "                                                                                \r"
     ]
    },
    {
     "name": "stdout",
     "output_type": "stream",
     "text": [
      "6040\n"
     ]
    },
    {
     "name": "stderr",
     "output_type": "stream",
     "text": [
      "2021-12-20 09:51:04,509 WARN scheduler.TaskSetManager: Stage 116 contains a task of very large size (14954 KiB). The maximum recommended task size is 1000 KiB.\n",
      "                                                                                \r"
     ]
    },
    {
     "name": "stdout",
     "output_type": "stream",
     "text": [
      "+------+------------------+\n",
      "|UserID|       avg(Rating)|\n",
      "+------+------------------+\n",
      "|     1| 4.188679245283019|\n",
      "|     2|3.7131782945736433|\n",
      "|     3|3.9019607843137254|\n",
      "|     4| 4.190476190476191|\n",
      "|     5|3.1464646464646466|\n",
      "|     6|3.9014084507042255|\n",
      "|     7|  4.32258064516129|\n",
      "|     8| 3.884892086330935|\n",
      "|     9|3.7358490566037736|\n",
      "|    10| 4.114713216957606|\n",
      "+------+------------------+\n",
      "only showing top 10 rows\n",
      "\n",
      "----------------------------------\n",
      "root\n",
      " |-- MovieID: string (nullable = true)\n",
      " |-- avg(Rating): double (nullable = true)\n",
      "\n"
     ]
    },
    {
     "name": "stderr",
     "output_type": "stream",
     "text": [
      "2021-12-20 09:51:39,196 WARN scheduler.TaskSetManager: Stage 118 contains a task of very large size (14954 KiB). The maximum recommended task size is 1000 KiB.\n",
      "                                                                                \r"
     ]
    },
    {
     "name": "stdout",
     "output_type": "stream",
     "text": [
      "3706\n"
     ]
    },
    {
     "name": "stderr",
     "output_type": "stream",
     "text": [
      "2021-12-20 09:51:46,335 WARN scheduler.TaskSetManager: Stage 121 contains a task of very large size (14954 KiB). The maximum recommended task size is 1000 KiB.\n",
      "                                                                                \r"
     ]
    },
    {
     "name": "stdout",
     "output_type": "stream",
     "text": [
      "+-------+------------------+\n",
      "|MovieID|       avg(Rating)|\n",
      "+-------+------------------+\n",
      "|      1| 4.146846413095811|\n",
      "|      2|  3.20114122681883|\n",
      "|      3|  3.01673640167364|\n",
      "|      4|2.7294117647058824|\n",
      "|      5|3.0067567567567566|\n",
      "|      6|3.8787234042553194|\n",
      "|      7| 3.410480349344978|\n",
      "|      8| 3.014705882352941|\n",
      "|      9| 2.656862745098039|\n",
      "|     10|3.5405405405405403|\n",
      "+-------+------------------+\n",
      "only showing top 10 rows\n",
      "\n",
      "----------------------------------\n",
      "root\n",
      " |-- UserID: string (nullable = true)\n",
      " |-- MovieID: string (nullable = true)\n",
      " |-- avg(Rating): double (nullable = true)\n",
      "\n"
     ]
    },
    {
     "name": "stderr",
     "output_type": "stream",
     "text": [
      "2021-12-20 09:51:52,495 WARN scheduler.TaskSetManager: Stage 123 contains a task of very large size (14954 KiB). The maximum recommended task size is 1000 KiB.\n",
      "                                                                                \r"
     ]
    },
    {
     "name": "stdout",
     "output_type": "stream",
     "text": [
      "+------+-------+-----------+\n",
      "|UserID|MovieID|avg(Rating)|\n",
      "+------+-------+-----------+\n",
      "|     1|   2791|        4.0|\n",
      "|     1|   3114|        4.0|\n",
      "|     1|   1962|        4.0|\n",
      "|     1|   1246|        4.0|\n",
      "|     1|   1029|        5.0|\n",
      "|     1|   3408|        4.0|\n",
      "|     1|   1207|        4.0|\n",
      "|     1|    938|        4.0|\n",
      "|     1|    527|        5.0|\n",
      "|     1|   1022|        5.0|\n",
      "+------+-------+-----------+\n",
      "only showing top 10 rows\n",
      "\n",
      "----------------------------------\n"
     ]
    }
   ],
   "source": [
    "#Dataframe deal with data\n",
    "df = df.withColumn('Rating', df['Rating'].cast('double'))\n",
    "df = df.withColumn('UserID', df['UserID'].cast('int'))\n",
    "df = df.withColumn('MovieID', df['MovieID'].cast('int'))\n",
    "# spark_df.printSchema()\n",
    "avg = df.select('UserID','MovieID','Rating')\n",
    "#ALL_UserID -> 6040 , Test_UserID -> 5\n",
    "UserID_avg = avg.groupBy('UserID').mean().sort('UserID',ascending=True)\n",
    "#ALL_MovieID -> 3706 , Test_MovieID -> 35\n",
    "MovieID_avg = avg.groupBy('MovieID').mean().sort('MovieID',ascending=True)\n",
    "#Compare_Data , Test_Compara_data -> 50\n",
    "Compare_Data = avg.groupBy('UserID','MovieID').mean().sort('UserID',ascending=True)\n",
    "#drop no-need data,Adjust type\n",
    "UserID_avg = UserID_avg.withColumn('UserID', UserID_avg['UserID'].cast('String'))\n",
    "MovieID_avg = MovieID_avg.withColumn('MovieID', MovieID_avg['MovieID'].cast('String'))\n",
    "Compare_Data = Compare_Data.withColumn('UserID', Compare_Data['UserID'].cast('String'))\n",
    "Compare_Data = Compare_Data.withColumn('MovieID', Compare_Data['MovieID'].cast('String'))\n",
    "UserID_avg = UserID_avg.drop('avg(UserID)')\n",
    "UserID_avg = UserID_avg.drop('avg(MovieID)')\n",
    "MovieID_avg = MovieID_avg.drop('avg(UserID)')\n",
    "MovieID_avg = MovieID_avg.drop('avg(MovieID)')\n",
    "Compare_Data = Compare_Data.drop('avg(UserID)')\n",
    "Compare_Data = Compare_Data.drop('avg(MovieID)')\n",
    "User_number = UserID_avg.count()\n",
    "Movie_number = MovieID_avg.count()\n",
    "Compare_Data_number = Compare_Data.count()\n",
    "print('----------------------------------')\n",
    "UserID_avg.printSchema()\n",
    "print(UserID_avg.count())\n",
    "UserID_avg.show(10)\n",
    "print('----------------------------------')\n",
    "MovieID_avg.printSchema()\n",
    "print(MovieID_avg.count())\n",
    "MovieID_avg.show(10)\n",
    "print('----------------------------------')\n",
    "Compare_Data.printSchema()\n",
    "Compare_Data.show(10)\n",
    "print('----------------------------------')"
   ]
  },
  {
   "cell_type": "code",
   "execution_count": 37,
   "metadata": {},
   "outputs": [
    {
     "name": "stdout",
     "output_type": "stream",
     "text": [
      "----------------------------------\n",
      "Compare_Data_list : \n"
     ]
    },
    {
     "name": "stderr",
     "output_type": "stream",
     "text": [
      "2021-12-20 09:52:13,741 WARN scheduler.TaskSetManager: Stage 125 contains a task of very large size (14954 KiB). The maximum recommended task size is 1000 KiB.\n",
      "                                                                                \r"
     ]
    },
    {
     "name": "stdout",
     "output_type": "stream",
     "text": [
      "----------------------------------\n",
      "[['1', '1207', 4.0], ['1', '3408', 4.0], ['1', '1022', 5.0], ['1', '938', 4.0], ['1', '527', 5.0], ['1', '1246', 4.0], ['1', '1029', 5.0], ['1', '3114', 4.0], ['1', '1962', 4.0], ['1', '2791', 4.0]]\n",
      "----------------------------------\n",
      "----------------------------------\n",
      "UserID_avg_list : \n"
     ]
    },
    {
     "name": "stderr",
     "output_type": "stream",
     "text": [
      "2021-12-20 09:53:41,110 WARN scheduler.TaskSetManager: Stage 130 contains a task of very large size (14954 KiB). The maximum recommended task size is 1000 KiB.\n",
      "                                                                                \r"
     ]
    },
    {
     "name": "stdout",
     "output_type": "stream",
     "text": [
      "----------------------------------\n",
      "[['1', 4.188679245283019], ['2', 3.7131782945736433], ['3', 3.9019607843137254], ['4', 4.190476190476191], ['5', 3.1464646464646466], ['6', 3.9014084507042255], ['7', 4.32258064516129], ['8', 3.884892086330935], ['9', 3.7358490566037736], ['10', 4.114713216957606]]\n",
      "----------------------------------\n",
      "MovieID_avg_list : \n",
      "----------------------------------\n"
     ]
    },
    {
     "name": "stderr",
     "output_type": "stream",
     "text": [
      "2021-12-20 09:55:03,833 WARN scheduler.TaskSetManager: Stage 135 contains a task of very large size (14954 KiB). The maximum recommended task size is 1000 KiB.\n",
      "                                                                                \r"
     ]
    },
    {
     "name": "stdout",
     "output_type": "stream",
     "text": [
      "[['1', 4.146846413095811], ['2', 3.20114122681883], ['3', 3.01673640167364], ['4', 2.7294117647058824], ['5', 3.0067567567567566], ['6', 3.8787234042553194], ['7', 3.410480349344978], ['8', 3.014705882352941], ['9', 2.656862745098039], ['10', 3.5405405405405403]]\n",
      "----------------------------------\n"
     ]
    }
   ],
   "source": [
    "#Dataframe transform list\n",
    "print('----------------------------------')\n",
    "print('Compare_Data_list : ')\n",
    "Compare_Data = Compare_Data.toPandas()\n",
    "Compare_Data = np.array(Compare_Data)\n",
    "Compare_Data = Compare_Data.tolist()\n",
    "print('----------------------------------')\n",
    "print(Compare_Data[0:10])\n",
    "print('----------------------------------')\n",
    "print('----------------------------------')\n",
    "print('UserID_avg_list : ')\n",
    "UserID_avg = UserID_avg.toPandas()\n",
    "UserID_avg = np.array(UserID_avg)\n",
    "UserID_avg = UserID_avg.tolist()\n",
    "print('----------------------------------')\n",
    "print(UserID_avg[0:10])\n",
    "print('----------------------------------')\n",
    "print('MovieID_avg_list : ')\n",
    "print('----------------------------------')\n",
    "MovieID_avg = MovieID_avg.toPandas()\n",
    "MovieID_avg = np.array(MovieID_avg)\n",
    "MovieID_avg = MovieID_avg.tolist()\n",
    "print(MovieID_avg[0:10])\n",
    "print('----------------------------------')"
   ]
  },
  {
   "cell_type": "code",
   "execution_count": 39,
   "metadata": {},
   "outputs": [],
   "source": [
    "#User-user sim\n",
    "\n",
    "result_cos_sim = cal_matrix_user_cos_sim(UserID_avg,MovieID_avg,Compare_Data)\n",
    "result_cos_sim.sort(key = lambda x : x[1] , reverse=True)\n",
    "# print(result_cos_sim) \n",
    "with open('./outputs/q4_User_User_Similarity.txt', 'w') as f:\n",
    "    for item in result_cos_sim:\n",
    "        f.write(\"%s\\n\" % item)"
   ]
  },
  {
   "cell_type": "code",
   "execution_count": 40,
   "metadata": {},
   "outputs": [],
   "source": [
    "#item-item sim\n",
    "result_cos_sim = cal_matrix_item_cos_sim(UserID_avg,MovieID_avg,Compare_Data)\n",
    "result_cos_sim.sort(key = lambda x : x[1] , reverse=True)\n",
    "# print(result_cos_sim)\n",
    "with open('/outputs/q5_Movie_Movie_Similarity.txt', 'w') as f:\n",
    "    for item in result_cos_sim:\n",
    "        f.write(\"%s\\n\" % item)"
   ]
  },
  {
   "cell_type": "code",
   "execution_count": 49,
   "metadata": {},
   "outputs": [],
   "source": [
    "sc.stop()"
   ]
  },
  {
   "cell_type": "code",
   "execution_count": null,
   "metadata": {},
   "outputs": [],
   "source": []
  }
 ],
 "metadata": {
  "kernelspec": {
   "display_name": "Python 3 (ipykernel)",
   "language": "python",
   "name": "python3"
  },
  "language_info": {
   "codemirror_mode": {
    "name": "ipython",
    "version": 3
   },
   "file_extension": ".py",
   "mimetype": "text/x-python",
   "name": "python",
   "nbconvert_exporter": "python",
   "pygments_lexer": "ipython3",
   "version": "3.8.10"
  }
 },
 "nbformat": 4,
 "nbformat_minor": 2
}
