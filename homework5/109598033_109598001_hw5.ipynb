{
 "cells": [
  {
   "cell_type": "code",
   "execution_count": 1,
   "id": "729ec705",
   "metadata": {},
   "outputs": [],
   "source": [
    "import time\n",
    "import pyspark\n",
    "import pandas as pd\n",
    "import numpy as np\n",
    "from pyspark import SparkConf, SparkContext\n",
    "from pyspark.sql import SparkSession\n",
    "import pyspark.sql.functions as f\n",
    "import csv\n",
    "import os"
   ]
  },
  {
   "cell_type": "code",
   "execution_count": 2,
   "id": "22f4c461",
   "metadata": {},
   "outputs": [
    {
     "name": "stderr",
     "output_type": "stream",
     "text": [
      "21/12/29 04:03:48 WARN Utils: Your hostname, osboxes resolves to a loopback address: 127.0.1.1; using 10.0.2.15 instead (on interface enp0s3)\n",
      "21/12/29 04:03:48 WARN Utils: Set SPARK_LOCAL_IP if you need to bind to another address\n",
      "Using Spark's default log4j profile: org/apache/spark/log4j-defaults.properties\n",
      "Setting default log level to \"WARN\".\n",
      "To adjust logging level use sc.setLogLevel(newLevel). For SparkR, use setLogLevel(newLevel).\n",
      "21/12/29 04:03:50 WARN NativeCodeLoader: Unable to load native-hadoop library for your platform... using builtin-java classes where applicable\n",
      "21/12/29 04:03:50 WARN SparkConf: Note that spark.local.dir will be overridden by the value set by the cluster manager (via SPARK_LOCAL_DIRS in mesos/standalone/kubernetes and LOCAL_DIRS in YARN).\n"
     ]
    }
   ],
   "source": [
    "spark=SparkSession.builder\\\n",
    "    .config(\"spark.local.dir\", '/home/osboxes/hw/hw5/')\\\n",
    "    .appName(\"hw5\")\\\n",
    "    .getOrCreate()\n",
    "sc=spark.sparkContext"
   ]
  },
  {
   "cell_type": "code",
   "execution_count": 3,
   "id": "865372c5",
   "metadata": {},
   "outputs": [],
   "source": [
    "path = \"/home/osboxes/hw/hw5/\"\n",
    "if not os.path.isdir(\"./outputs\"): os.mkdir(\"./outputs\")"
   ]
  },
  {
   "cell_type": "code",
   "execution_count": 4,
   "id": "b81be0b4",
   "metadata": {},
   "outputs": [],
   "source": [
    "file_name = 'file:'+path+'./datasets/web-Google.txt'\n",
    "text_file = sc.textFile(file_name)\n",
    "#start = time.time()"
   ]
  },
  {
   "cell_type": "code",
   "execution_count": 5,
   "id": "7e55257c",
   "metadata": {},
   "outputs": [
    {
     "name": "stderr",
     "output_type": "stream",
     "text": [
      "                                                                                \r"
     ]
    }
   ],
   "source": [
    "data = sc.textFile(file_name).map(lambda x:x.replace('# ', '').split('\\t')).filter(lambda x:len(x) > 1)\n",
    "data.take(10)\n",
    "header = data.first()"
   ]
  },
  {
   "cell_type": "code",
   "execution_count": 6,
   "id": "26347bb3",
   "metadata": {},
   "outputs": [
    {
     "name": "stdout",
     "output_type": "stream",
     "text": [
      "+----------+--------+\n",
      "|FromNodeId|ToNodeId|\n",
      "+----------+--------+\n",
      "|         0|   11342|\n",
      "|         0|  824020|\n",
      "|         0|  867923|\n",
      "|         0|  891835|\n",
      "|     11342|       0|\n",
      "|     11342|   27469|\n",
      "|     11342|   38716|\n",
      "|     11342|  309564|\n",
      "|     11342|  322178|\n",
      "|     11342|  387543|\n",
      "|     11342|  427436|\n",
      "|     11342|  538214|\n",
      "|     11342|  638706|\n",
      "|     11342|  645018|\n",
      "|     11342|  835220|\n",
      "|     11342|  856657|\n",
      "|     11342|  867923|\n",
      "|     11342|  891835|\n",
      "|    824020|       0|\n",
      "|    824020|   91807|\n",
      "+----------+--------+\n",
      "only showing top 20 rows\n",
      "\n"
     ]
    }
   ],
   "source": [
    "data = data.filter(lambda x:x != header)\n",
    "spark = SparkSession.builder.getOrCreate()\n",
    "df = spark.createDataFrame(data).toDF(\"FromNodeId\" , \"ToNodeId\")\n",
    "df.show()"
   ]
  },
  {
   "cell_type": "markdown",
   "id": "0b857f3a",
   "metadata": {},
   "source": [
    "# Q1"
   ]
  },
  {
   "cell_type": "code",
   "execution_count": 7,
   "id": "959f0787",
   "metadata": {},
   "outputs": [
    {
     "name": "stderr",
     "output_type": "stream",
     "text": [
      "[Stage 7:=====================================================> (195 + 1) / 200]\r"
     ]
    },
    {
     "name": "stdout",
     "output_type": "stream",
     "text": [
      "+----------+-----+\n",
      "|FromNodeId|count|\n",
      "+----------+-----+\n",
      "|    506742|  456|\n",
      "|    203748|  372|\n",
      "|    305229|  372|\n",
      "|    768091|  330|\n",
      "|    808643|  277|\n",
      "|    412410|  268|\n",
      "|    600479|  265|\n",
      "|    376428|  258|\n",
      "|    156950|  257|\n",
      "|    885728|  256|\n",
      "|    667584|  253|\n",
      "|    685695|  248|\n",
      "|    282140|  247|\n",
      "|    598188|  245|\n",
      "|    579314|  244|\n",
      "|    411593|  231|\n",
      "|    321091|  229|\n",
      "|    838278|  225|\n",
      "|    302733|  216|\n",
      "|    915273|  213|\n",
      "+----------+-----+\n",
      "only showing top 20 rows\n",
      "\n"
     ]
    },
    {
     "name": "stderr",
     "output_type": "stream",
     "text": [
      "\r",
      "                                                                                \r"
     ]
    }
   ],
   "source": [
    "df_out_degrees = df.groupBy('FromNodeId').count().orderBy('count', ascending=False).cache()\n",
    "df_out_degrees.show()"
   ]
  },
  {
   "cell_type": "code",
   "execution_count": 8,
   "id": "d1d7232a",
   "metadata": {
    "scrolled": true
   },
   "outputs": [
    {
     "name": "stdout",
     "output_type": "stream",
     "text": [
      "-------start-writing-------------\n"
     ]
    },
    {
     "name": "stderr",
     "output_type": "stream",
     "text": [
      "                                                                                \r"
     ]
    },
    {
     "name": "stdout",
     "output_type": "stream",
     "text": [
      "--------finish-writing-----------\n"
     ]
    }
   ],
   "source": [
    "print('-------start-writing-------------')\n",
    "df_out_degrees.toPandas().to_csv(\"./outputs/q1_out_degrees.csv\",index=False)\n",
    "print('--------finish-writing-----------')"
   ]
  },
  {
   "cell_type": "markdown",
   "id": "a67560c9",
   "metadata": {},
   "source": [
    "# Q2"
   ]
  },
  {
   "cell_type": "code",
   "execution_count": 9,
   "id": "37a1c7ae",
   "metadata": {},
   "outputs": [
    {
     "name": "stderr",
     "output_type": "stream",
     "text": [
      "[Stage 15:==================================================>   (188 + 1) / 200]\r"
     ]
    },
    {
     "name": "stdout",
     "output_type": "stream",
     "text": [
      "+--------+-----+\n",
      "|ToNodeId|count|\n",
      "+--------+-----+\n",
      "|  537039| 6326|\n",
      "|  597621| 5354|\n",
      "|  504140| 5271|\n",
      "|  751384| 5182|\n",
      "|   32163| 5097|\n",
      "|  885605| 4847|\n",
      "|  163075| 4731|\n",
      "|  819223| 4620|\n",
      "|  605856| 4550|\n",
      "|  828963| 4484|\n",
      "|  551829| 4220|\n",
      "|   41909| 4219|\n",
      "|  558791| 4206|\n",
      "|  459074| 4187|\n",
      "|  407610| 4180|\n",
      "|  213432| 4084|\n",
      "|  765334| 4015|\n",
      "|  384666| 4010|\n",
      "|  173976| 3988|\n",
      "|  687325| 3956|\n",
      "+--------+-----+\n",
      "only showing top 20 rows\n",
      "\n"
     ]
    },
    {
     "name": "stderr",
     "output_type": "stream",
     "text": [
      "\r",
      "[Stage 15:=====================================================>(199 + 1) / 200]\r",
      "\r",
      "                                                                                \r"
     ]
    }
   ],
   "source": [
    "df_in_degrees = df.groupBy('ToNodeId').count().orderBy('count', ascending=False).cache()\n",
    "df_in_degrees.show()"
   ]
  },
  {
   "cell_type": "code",
   "execution_count": 10,
   "id": "39d5d409",
   "metadata": {},
   "outputs": [
    {
     "name": "stdout",
     "output_type": "stream",
     "text": [
      "-------start-writing-------------\n"
     ]
    },
    {
     "name": "stderr",
     "output_type": "stream",
     "text": [
      "                                                                                \r"
     ]
    },
    {
     "name": "stdout",
     "output_type": "stream",
     "text": [
      "--------finish-writing-----------\n"
     ]
    }
   ],
   "source": [
    "print('-------start-writing-------------')\n",
    "df_in_degrees.toPandas().to_csv(\"./outputs/q2_in_degrees.csv\",index=False)\n",
    "print('--------finish-writing-----------')"
   ]
  },
  {
   "cell_type": "markdown",
   "id": "6ec289aa",
   "metadata": {},
   "source": [
    "# Q3"
   ]
  },
  {
   "cell_type": "code",
   "execution_count": 11,
   "id": "2520b328",
   "metadata": {},
   "outputs": [],
   "source": [
    "v = 0\n",
    "data = data.map(lambda x:[int(x[0]), int(x[1])])"
   ]
  },
  {
   "cell_type": "code",
   "execution_count": 12,
   "id": "291dd6d5",
   "metadata": {},
   "outputs": [
    {
     "name": "stderr",
     "output_type": "stream",
     "text": [
      "                                                                                \r"
     ]
    },
    {
     "data": {
      "text/plain": [
       "[11342, 824020, 867923, 891835]"
      ]
     },
     "execution_count": 12,
     "metadata": {},
     "output_type": "execute_result"
    }
   ],
   "source": [
    "list_ToNodeID = data.filter(lambda x:x[0] == v).map(lambda x:[x[0], [x[1]]]).reduceByKey(lambda x, y:x + y).collect()[0][1]\n",
    "list_ToNodeID"
   ]
  },
  {
   "cell_type": "code",
   "execution_count": 13,
   "id": "fe4bbc1e",
   "metadata": {},
   "outputs": [
    {
     "name": "stdout",
     "output_type": "stream",
     "text": [
      "-------start-writing-------------\n",
      "--------finish-writing-----------\n"
     ]
    }
   ],
   "source": [
    "print('-------start-writing-------------')\n",
    "with open('./outputs/q3_list_First_ToNodeID.csv', 'w') as f:\n",
    "    for item in list_ToNodeID:\n",
    "        f.write(\"%s\\n\" % item)\n",
    "print('--------finish-writing-----------')"
   ]
  },
  {
   "cell_type": "code",
   "execution_count": 14,
   "id": "6258698d",
   "metadata": {},
   "outputs": [
    {
     "name": "stderr",
     "output_type": "stream",
     "text": [
      "                                                                                \r"
     ]
    },
    {
     "data": {
      "text/plain": [
       "[11342,\n",
       " 824020,\n",
       " 867923,\n",
       " 891835,\n",
       " 635343,\n",
       " 600594,\n",
       " 366080,\n",
       " 500627,\n",
       " 835220,\n",
       " 543999,\n",
       " 830675,\n",
       " 95656,\n",
       " 38716,\n",
       " 322178,\n",
       " 387543,\n",
       " 638706,\n",
       " 645018,\n",
       " 856657,\n",
       " 11927,\n",
       " 180285,\n",
       " 395856,\n",
       " 450550,\n",
       " 824375,\n",
       " 143557,\n",
       " 15901,\n",
       " 108113,\n",
       " 136131,\n",
       " 320258,\n",
       " 335113,\n",
       " 512812,\n",
       " 522510,\n",
       " 854209,\n",
       " 857934,\n",
       " 859247,\n",
       " 857527,\n",
       " 828241,\n",
       " 29546,\n",
       " 535748,\n",
       " 30281,\n",
       " 468354,\n",
       " 62929,\n",
       " 31300,\n",
       " 553829,\n",
       " 136593,\n",
       " 414038,\n",
       " 428822,\n",
       " 523684,\n",
       " 684417,\n",
       " 760842,\n",
       " 765654,\n",
       " 795148,\n",
       " 815602,\n",
       " 72432,\n",
       " 96460,\n",
       " 160114,\n",
       " 193375,\n",
       " 293748,\n",
       " 365423,\n",
       " 403327,\n",
       " 491156,\n",
       " 548921,\n",
       " 609210,\n",
       " 635163,\n",
       " 636635,\n",
       " 662982,\n",
       " 692491,\n",
       " 721453,\n",
       " 728417,\n",
       " 867959,\n",
       " 43929,\n",
       " 115472,\n",
       " 494671,\n",
       " 46274,\n",
       " 877381,\n",
       " 48192,\n",
       " 50822,\n",
       " 554441,\n",
       " 56910,\n",
       " 68314,\n",
       " 71878,\n",
       " 283476,\n",
       " 701455,\n",
       " 821092,\n",
       " 73631,\n",
       " 483644,\n",
       " 644912,\n",
       " 82205,\n",
       " 86094,\n",
       " 172576,\n",
       " 628457,\n",
       " 725962,\n",
       " 780663,\n",
       " 898319,\n",
       " 89773,\n",
       " 90128,\n",
       " 215810,\n",
       " 91807,\n",
       " 695578,\n",
       " 102341,\n",
       " 463078,\n",
       " 221809,\n",
       " 232480,\n",
       " 672426,\n",
       " 130954,\n",
       " 115267,\n",
       " 803972,\n",
       " 120076,\n",
       " 500542,\n",
       " 197743,\n",
       " 612032,\n",
       " 764527,\n",
       " 479137,\n",
       " 321961,\n",
       " 578649,\n",
       " 846213,\n",
       " 415030,\n",
       " 140656,\n",
       " 149447,\n",
       " 229705,\n",
       " 152996,\n",
       " 153741,\n",
       " 164521,\n",
       " 171857,\n",
       " 175010,\n",
       " 177218,\n",
       " 247548,\n",
       " 203547,\n",
       " 254529,\n",
       " 729080,\n",
       " 677007,\n",
       " 433516,\n",
       " 235849,\n",
       " 238717,\n",
       " 240416,\n",
       " 243975,\n",
       " 247439,\n",
       " 253223,\n",
       " 255023,\n",
       " 852419,\n",
       " 541385,\n",
       " 281963,\n",
       " 487182,\n",
       " 563600,\n",
       " 284059,\n",
       " 284174,\n",
       " 287468,\n",
       " 637361,\n",
       " 302284,\n",
       " 701087,\n",
       " 740065,\n",
       " 784413,\n",
       " 914941,\n",
       " 387341,\n",
       " 319393,\n",
       " 319593,\n",
       " 754862,\n",
       " 331282,\n",
       " 358935,\n",
       " 363129,\n",
       " 430049,\n",
       " 848683,\n",
       " 363712,\n",
       " 464225,\n",
       " 560047,\n",
       " 600249,\n",
       " 781646,\n",
       " 385830,\n",
       " 400909,\n",
       " 408222,\n",
       " 732803,\n",
       " 842900,\n",
       " 426863,\n",
       " 434138,\n",
       " 442324,\n",
       " 844885,\n",
       " 542276,\n",
       " 451592,\n",
       " 453275,\n",
       " 453636,\n",
       " 456978,\n",
       " 466045,\n",
       " 881700,\n",
       " 471915,\n",
       " 699910,\n",
       " 479014,\n",
       " 480435,\n",
       " 687914,\n",
       " 520734,\n",
       " 884543,\n",
       " 543606,\n",
       " 552209,\n",
       " 685926,\n",
       " 783408,\n",
       " 677789,\n",
       " 747971,\n",
       " 561337,\n",
       " 591577,\n",
       " 855011,\n",
       " 655101,\n",
       " 660210,\n",
       " 648346,\n",
       " 663429,\n",
       " 668427,\n",
       " 676560,\n",
       " 714886,\n",
       " 734490,\n",
       " 759371,\n",
       " 856353,\n",
       " 804858,\n",
       " 807267,\n",
       " 810019,\n",
       " 893714]"
      ]
     },
     "execution_count": 14,
     "metadata": {},
     "output_type": "execute_result"
    }
   ],
   "source": [
    "list_FromNodeID = data.filter(lambda x:x[1] == v).map(lambda x:[x[1], [x[0]]]).reduceByKey(lambda x, y:x + y).collect()[0][1]\n",
    "list_FromNodeID"
   ]
  },
  {
   "cell_type": "code",
   "execution_count": 15,
   "id": "995d3747",
   "metadata": {},
   "outputs": [
    {
     "name": "stdout",
     "output_type": "stream",
     "text": [
      "-------start-writing-------------\n",
      "--------finish-writing-----------\n"
     ]
    }
   ],
   "source": [
    "print('-------start-writing-------------')\n",
    "with open('./outputs/q3_list_Second_FromNodeID.csv', 'w') as f:\n",
    "    for item in list_FromNodeID:\n",
    "        f.write(\"%s\\n\" % item)\n",
    "print('--------finish-writing-----------')"
   ]
  },
  {
   "cell_type": "code",
   "execution_count": null,
   "id": "ae0e849f",
   "metadata": {},
   "outputs": [],
   "source": []
  },
  {
   "cell_type": "code",
   "execution_count": null,
   "id": "6d006eba",
   "metadata": {},
   "outputs": [],
   "source": []
  }
 ],
 "metadata": {
  "kernelspec": {
   "display_name": "Python 3 (ipykernel)",
   "language": "python",
   "name": "python3"
  },
  "language_info": {
   "codemirror_mode": {
    "name": "ipython",
    "version": 3
   },
   "file_extension": ".py",
   "mimetype": "text/x-python",
   "name": "python",
   "nbconvert_exporter": "python",
   "pygments_lexer": "ipython3",
   "version": "3.8.10"
  }
 },
 "nbformat": 4,
 "nbformat_minor": 5
}
