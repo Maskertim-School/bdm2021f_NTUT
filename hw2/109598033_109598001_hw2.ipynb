{
 "cells": [
  {
   "cell_type": "code",
   "execution_count": 1,
   "id": "062caf5b",
   "metadata": {},
   "outputs": [],
   "source": [
    "import pyspark\n",
    "from pyspark.sql import SparkSession\n",
    "from pyspark.conf import SparkConf\n",
    "from pyspark.sql import Row,SQLContext\n",
    "from pyspark.sql.functions import col,desc,substring,lit,udf,length\n",
    "from pyspark.sql.types import StructType,StructField,IntegerType,DoubleType,StringType\n",
    "from pyspark.sql.functions import split, explode, monotonically_increasing_id, substring_index\n",
    "import pyspark.sql.functions as f"
   ]
  },
  {
   "cell_type": "code",
   "execution_count": 2,
   "id": "0a18ddca",
   "metadata": {},
   "outputs": [],
   "source": [
    "import sys\n",
    "import os\n",
    "from operator import add\n",
    "import pandas as pd"
   ]
  },
  {
   "cell_type": "code",
   "execution_count": 3,
   "id": "4c97f21f",
   "metadata": {},
   "outputs": [],
   "source": [
    "from nltk.corpus import stopwords\n",
    "stopwords = stopwords.words('english')\n",
    "stopwords.append(\"\")"
   ]
  },
  {
   "cell_type": "code",
   "execution_count": 4,
   "id": "59541eef",
   "metadata": {
    "scrolled": true
   },
   "outputs": [
    {
     "name": "stderr",
     "output_type": "stream",
     "text": [
      "Setting default log level to \"WARN\".\n",
      "To adjust logging level use sc.setLogLevel(newLevel). For SparkR, use setLogLevel(newLevel).\n",
      "2021-11-21 23:06:35,763 WARN util.NativeCodeLoader: Unable to load native-hadoop library for your platform... using builtin-java classes where applicable\n"
     ]
    }
   ],
   "source": [
    "spark=SparkSession.builder\\\n",
    "    .config(\"spark.debug.maxToStringFields\", 100000)\\\n",
    "    .appName(\"hw2\")\\\n",
    "    .getOrCreate()"
   ]
  },
  {
   "cell_type": "code",
   "execution_count": 5,
   "id": "e546dd99",
   "metadata": {
    "scrolled": true
   },
   "outputs": [
    {
     "name": "stderr",
     "output_type": "stream",
     "text": [
      "/home/osboxes/.local/lib/python3.8/site-packages/pyspark/sql/context.py:77: FutureWarning: Deprecated in 3.0.0. Use SparkSession.builder.getOrCreate() instead.\n",
      "  warnings.warn(\n"
     ]
    }
   ],
   "source": [
    "sc=spark.sparkContext\n",
    "sqlContext = SQLContext(sc)"
   ]
  },
  {
   "cell_type": "code",
   "execution_count": 6,
   "id": "00c2631f",
   "metadata": {},
   "outputs": [],
   "source": [
    "path = \"/home/osboxes/hw/hw2/\"\n",
    "if not os.path.isdir(path+\"outputs\"): os.mkdir(path+\"outputs\")"
   ]
  },
  {
   "cell_type": "code",
   "execution_count": 7,
   "id": "c3d9bbbd",
   "metadata": {
    "scrolled": true
   },
   "outputs": [
    {
     "name": "stderr",
     "output_type": "stream",
     "text": [
      "                                                                                \r"
     ]
    }
   ],
   "source": [
    "df_news = spark.read.format(\"csv\").option(\"mode\", \"DROPMALFORMED\").option(\"header\", \"true\").load(\"file:\"+path+\"datasets/News_Final.csv\", inferSchema='true')"
   ]
  },
  {
   "cell_type": "code",
   "execution_count": 8,
   "id": "4a8b9fc1",
   "metadata": {},
   "outputs": [],
   "source": [
    "#pd_df_news = pd.read_csv(\"datasets/News_Final.csv\", encoding = 'utf8')df_news = spark.read.csv(\"file:\"+path+\"datasets/News_Final.csv\",header='true', inferSchema='true')"
   ]
  },
  {
   "cell_type": "code",
   "execution_count": 9,
   "id": "1e4009bc",
   "metadata": {},
   "outputs": [],
   "source": [
    "df_news = df_news.withColumn('SentimentTitle', df_news['SentimentTitle'].cast('double'))\n",
    "df_news = df_news.withColumn('SentimentHeadline', df_news['SentimentHeadline'].cast('double'))\n",
    "df_news = df_news.withColumn('PublishDate', df_news['PublishDate'].cast('date'))\n",
    "df_news = df_news.withColumn('PublishDate', df_news['PublishDate'].cast('string'))"
   ]
  },
  {
   "cell_type": "code",
   "execution_count": 10,
   "id": "4e8de36e",
   "metadata": {
    "scrolled": true
   },
   "outputs": [
    {
     "name": "stderr",
     "output_type": "stream",
     "text": [
      "                                                                                \r"
     ]
    },
    {
     "data": {
      "text/plain": [
       "15"
      ]
     },
     "execution_count": 10,
     "metadata": {},
     "output_type": "execute_result"
    }
   ],
   "source": [
    "df_news.filter(df_news.Headline.isNull()).count()"
   ]
  },
  {
   "cell_type": "code",
   "execution_count": 11,
   "id": "7f2142da",
   "metadata": {},
   "outputs": [
    {
     "name": "stderr",
     "output_type": "stream",
     "text": [
      "                                                                                \r"
     ]
    },
    {
     "data": {
      "text/plain": [
       "279"
      ]
     },
     "execution_count": 11,
     "metadata": {},
     "output_type": "execute_result"
    }
   ],
   "source": [
    "df_news.filter(df_news.Source.isNull()).count()"
   ]
  },
  {
   "cell_type": "code",
   "execution_count": 12,
   "id": "b29edacc",
   "metadata": {},
   "outputs": [],
   "source": [
    "df_news = df_news.na.fill(\"missing\")"
   ]
  },
  {
   "cell_type": "code",
   "execution_count": 13,
   "id": "18f8d4b1",
   "metadata": {},
   "outputs": [
    {
     "data": {
      "text/plain": [
       "0"
      ]
     },
     "execution_count": 13,
     "metadata": {},
     "output_type": "execute_result"
    }
   ],
   "source": [
    "df_news.filter(df_news.Headline.isNull()).count()"
   ]
  },
  {
   "cell_type": "code",
   "execution_count": 14,
   "id": "e3ebad22",
   "metadata": {},
   "outputs": [
    {
     "data": {
      "text/plain": [
       "0"
      ]
     },
     "execution_count": 14,
     "metadata": {},
     "output_type": "execute_result"
    }
   ],
   "source": [
    "df_news.filter(df_news.Source.isNull()).count()"
   ]
  },
  {
   "cell_type": "markdown",
   "id": "55d4bb0a",
   "metadata": {},
   "source": [
    "# Q1"
   ]
  },
  {
   "cell_type": "code",
   "execution_count": 15,
   "id": "7fc76b6c",
   "metadata": {},
   "outputs": [],
   "source": [
    "if not os.path.isdir(path+\"outputs/q1\"): os.mkdir(path+\"outputs/q1\")"
   ]
  },
  {
   "cell_type": "code",
   "execution_count": 16,
   "id": "16f85937",
   "metadata": {
    "scrolled": true
   },
   "outputs": [],
   "source": [
    "df_news_title_total = df_news.select('Title')\n",
    "df_news_head_total = df_news.select('Headline')"
   ]
  },
  {
   "cell_type": "code",
   "execution_count": 17,
   "id": "528856eb",
   "metadata": {},
   "outputs": [],
   "source": [
    "def lower_clean_str(x):\n",
    "    punc='!\"#”$%&\\'()*+—–,./:;<=>?@[\\\\]^_’‘`{|}~-…'\n",
    "    #punc = '''!()-—–[]{};:”'\"\\[\\\\]{|}, <>.…/?+@#$%^&*_~\\n=’‘'''\n",
    "    lowercased_str = x.lower()\n",
    "    for ch in punc:\n",
    "        lowercased_str = lowercased_str.replace(ch, '')\n",
    "    return lowercased_str\n",
    "def handle(df_news_total):\n",
    "    rdd_lines = df_news_total.rdd.map(lambda r: lower_clean_str(r[0]))\n",
    "    rdd_news_counts = rdd_lines.flatMap(lambda x: x.split(' ')) \\\n",
    "                      .map(lambda x: (x, 1)) \\\n",
    "                      .reduceByKey(add).filter(lambda x: x[0] not in stopwords).toDF((\"word\", \"total\"))\n",
    "    rdd_news_counts = rdd_news_counts.orderBy(desc(\"total\"), \"word\")\n",
    "    return rdd_news_counts"
   ]
  },
  {
   "cell_type": "code",
   "execution_count": 18,
   "id": "80f5825e",
   "metadata": {
    "scrolled": true
   },
   "outputs": [
    {
     "name": "stderr",
     "output_type": "stream",
     "text": [
      "                                                                                \r"
     ]
    },
    {
     "name": "stdout",
     "output_type": "stream",
     "text": [
      "Title total\n"
     ]
    },
    {
     "name": "stderr",
     "output_type": "stream",
     "text": [
      "                                                                                \r"
     ]
    },
    {
     "name": "stdout",
     "output_type": "stream",
     "text": [
      "+-----------+-----+\n",
      "|       word|total|\n",
      "+-----------+-----+\n",
      "|    economy|26198|\n",
      "|      obama|22576|\n",
      "|  microsoft|17570|\n",
      "|     obamas| 5203|\n",
      "|         us| 4713|\n",
      "|  palestine| 3812|\n",
      "|        new| 3740|\n",
      "|       says| 3518|\n",
      "|  president| 3039|\n",
      "|   economic| 2951|\n",
      "| microsofts| 2939|\n",
      "|    windows| 2734|\n",
      "|       2016| 2428|\n",
      "|     global| 2197|\n",
      "|         10| 2150|\n",
      "|     growth| 1936|\n",
      "|      trump| 1721|\n",
      "|palestinian| 1599|\n",
      "|      china| 1543|\n",
      "|      could| 1361|\n",
      "+-----------+-----+\n",
      "only showing top 20 rows\n",
      "\n",
      "Headline total\n"
     ]
    },
    {
     "name": "stderr",
     "output_type": "stream",
     "text": [
      "\r",
      "[Stage 33:>                                                         (0 + 3) / 3]\r"
     ]
    },
    {
     "name": "stdout",
     "output_type": "stream",
     "text": [
      "+----------+-----+\n",
      "|      word|total|\n",
      "+----------+-----+\n",
      "|     obama|26004|\n",
      "|   economy|25211|\n",
      "| president|22494|\n",
      "| microsoft|20551|\n",
      "|    barack|13091|\n",
      "|        us| 9940|\n",
      "|      said| 9342|\n",
      "|       new| 9267|\n",
      "|  economic| 8942|\n",
      "|      year| 5687|\n",
      "|     first| 5073|\n",
      "|       one| 4902|\n",
      "|   windows| 4736|\n",
      "| palestine| 4694|\n",
      "|    growth| 4633|\n",
      "|    obamas| 4203|\n",
      "|      last| 4109|\n",
      "|      2016| 3984|\n",
      "|washington| 3937|\n",
      "|    global| 3833|\n",
      "+----------+-----+\n",
      "only showing top 20 rows\n",
      "\n"
     ]
    },
    {
     "name": "stderr",
     "output_type": "stream",
     "text": [
      "\r",
      "[Stage 33:===================>                                      (1 + 2) / 3]\r",
      "\r",
      "                                                                                \r"
     ]
    }
   ],
   "source": [
    "rdd_news_title_total = handle(df_news_title_total)\n",
    "rdd_news_head_total = handle(df_news_head_total)\n",
    "#use spark write csv will repartition to worker folder, so use pandas to_csv to output\n",
    "rdd_news_title_total.toPandas().to_csv(path+\"outputs/q1/q1_news_title_total.csv\",index=False)\n",
    "rdd_news_head_total.toPandas().to_csv(path+\"outputs/q1/q1_news_headline_total.csv\",index=False)\n",
    "#rdd_news_title_total.coalesce(1).write.mode('overwrite').option(\"header\",True).csv(\"file://\"+path+\"/outputs/q1/q1_news_title_total.csv\")\n",
    "#rdd_news_head_total.coalesce(1).write.mode('overwrite').option(\"header\",True).csv(\"file://\"+path+\"/outputs/q1/q1_news_headline_total.csv\")\n",
    "\n",
    "print(\"Title total\")\n",
    "rdd_news_title_total.show(20)\n",
    "print(\"Headline total\")\n",
    "rdd_news_head_total.show(20)"
   ]
  },
  {
   "cell_type": "code",
   "execution_count": 19,
   "id": "4d21cab9",
   "metadata": {},
   "outputs": [],
   "source": [
    "topic_list = ['economy','microsoft','obama','palestine']"
   ]
  },
  {
   "cell_type": "code",
   "execution_count": 20,
   "id": "24b307b4",
   "metadata": {},
   "outputs": [],
   "source": [
    "lower_clean_str_udf = udf(lower_clean_str)"
   ]
  },
  {
   "cell_type": "code",
   "execution_count": 21,
   "id": "c0156728",
   "metadata": {},
   "outputs": [],
   "source": [
    "#lower word and remove symbol\n",
    "df_news = df_news.withColumn('Title',lower_clean_str_udf(df_news[\"Title\"]))\n",
    "df_news = df_news.withColumn('Headline',lower_clean_str_udf(df_news[\"Headline\"]))"
   ]
  },
  {
   "cell_type": "code",
   "execution_count": 22,
   "id": "331cff84",
   "metadata": {},
   "outputs": [],
   "source": [
    "df_news_cate = df_news.select('Title','Headline', 'Topic').where(df_news[\"Topic\"].isin(topic_list))\n",
    "df_news_date = df_news.select('Title','Headline', 'PublishDate').where((df_news['PublishDate']!=\"missing\")&(df_news[\"Topic\"].isin(topic_list)))"
   ]
  },
  {
   "cell_type": "code",
   "execution_count": null,
   "id": "eb957e91",
   "metadata": {},
   "outputs": [],
   "source": []
  },
  {
   "cell_type": "code",
   "execution_count": 23,
   "id": "07db57ac",
   "metadata": {
    "scrolled": true
   },
   "outputs": [
    {
     "name": "stderr",
     "output_type": "stream",
     "text": [
      "                                                                                \r"
     ]
    },
    {
     "name": "stdout",
     "output_type": "stream",
     "text": [
      "title total by cate\n"
     ]
    },
    {
     "name": "stderr",
     "output_type": "stream",
     "text": [
      "                                                                                \r"
     ]
    },
    {
     "name": "stdout",
     "output_type": "stream",
     "text": [
      "+-------+----------------+-----+\n",
      "|  Topic|Total_Title_cate|count|\n",
      "+-------+----------------+-----+\n",
      "|economy|         economy|24685|\n",
      "|economy|              us| 2773|\n",
      "|economy|        economic| 2623|\n",
      "|economy|          global| 1864|\n",
      "|economy|          growth| 1747|\n",
      "|economy|            says| 1626|\n",
      "|economy|           china| 1204|\n",
      "|economy|            2016| 1112|\n",
      "|economy|          chinas| 1074|\n",
      "|economy|             new|  999|\n",
      "+-------+----------------+-----+\n",
      "only showing top 10 rows\n",
      "\n",
      "head total by cate\n"
     ]
    },
    {
     "name": "stderr",
     "output_type": "stream",
     "text": [
      "[Stage 53:======================================>                   (2 + 1) / 3]\r"
     ]
    },
    {
     "name": "stdout",
     "output_type": "stream",
     "text": [
      "+-------+-------------------+-----+\n",
      "|  Topic|Total_Headline_cate|count|\n",
      "+-------+-------------------+-----+\n",
      "|economy|            economy|23931|\n",
      "|economy|           economic| 8232|\n",
      "|economy|             growth| 4351|\n",
      "|economy|               said| 4131|\n",
      "|economy|                 us| 3605|\n",
      "|economy|               year| 3381|\n",
      "|economy|             global| 3075|\n",
      "|economy|                new| 2754|\n",
      "|economy|            percent| 2573|\n",
      "|economy|            quarter| 2183|\n",
      "+-------+-------------------+-----+\n",
      "only showing top 10 rows\n",
      "\n"
     ]
    },
    {
     "name": "stderr",
     "output_type": "stream",
     "text": [
      "\r",
      "                                                                                \r"
     ]
    }
   ],
   "source": [
    "df_news_title_total_cate = df_news_cate.withColumn('Total_Title_cate',f.explode(f.split(f.column('Title'), ' ')))\n",
    "#filter stopwords\n",
    "df_news_title_total_cate = df_news_title_total_cate.filter(~df_news_title_total_cate[\"Total_Title_cate\"].isin(stopwords))\\\n",
    "                        .groupBy('Topic' ,'Total_Title_cate')\\\n",
    "                        .count()\\\n",
    "                        .sort(['Topic','count'],ascending=[True,False])\n",
    "df_news_head_total_cate = df_news_cate.withColumn('Total_Headline_cate',f.explode(f.split(f.column('Headline'), ' ')))\n",
    "#filter stopwords\n",
    "df_news_head_total_cate = df_news_head_total_cate.filter(~df_news_head_total_cate[\"Total_Headline_cate\"].isin(stopwords))\\\n",
    "                        .groupBy('Topic' ,'Total_Headline_cate')\\\n",
    "                        .count()\\\n",
    "                        .sort(['Topic','count'],ascending=[True,False])\n",
    "#use spark write csv will repartition to worker folder, so use pandas to_csv to output\n",
    "df_news_title_total_cate.toPandas().to_csv(path+\"outputs/q1/q1_news_title_total_cate.csv\",index=False)\n",
    "df_news_head_total_cate.toPandas().to_csv(path+\"outputs/q1/q1_news_headline_total_cate.csv\",index=False)\n",
    "#df_news_title_total_cate.coalesce(1).write.mode('overwrite').option(\"header\",True).csv(\"file://\"+path+\"/outputs/q1/q1_news_title_total_cate.csv\")\n",
    "#df_news_head_total_cate.coalesce(1).write.mode('overwrite').option(\"header\",True).csv(\"file://\"+path+\"/outputs/q1/q1_news_headline_total_cate.csv\")\n",
    "print(\"title total by cate\")\n",
    "df_news_title_total_cate.show(10)\n",
    "print(\"head total by cate\")\n",
    "df_news_head_total_cate.show(10)"
   ]
  },
  {
   "cell_type": "code",
   "execution_count": 24,
   "id": "2b965913",
   "metadata": {
    "scrolled": true
   },
   "outputs": [
    {
     "name": "stderr",
     "output_type": "stream",
     "text": [
      "                                                                                \r"
     ]
    },
    {
     "name": "stdout",
     "output_type": "stream",
     "text": [
      "title total by day\n"
     ]
    },
    {
     "name": "stderr",
     "output_type": "stream",
     "text": [
      "                                                                                \r"
     ]
    },
    {
     "name": "stdout",
     "output_type": "stream",
     "text": [
      "+-----------+---------------+-----+\n",
      "|PublishDate|Total_Title_day|count|\n",
      "+-----------+---------------+-----+\n",
      "| 2002-04-02|         wreath|    1|\n",
      "| 2002-04-02|       cemetery|    1|\n",
      "| 2002-04-02|       national|    1|\n",
      "| 2002-04-02|           lays|    1|\n",
      "| 2002-04-02|          obama|    1|\n",
      "| 2002-04-02|      arlington|    1|\n",
      "| 2008-09-20|           look|    1|\n",
      "| 2008-09-20|        economy|    1|\n",
      "| 2008-09-20|         health|    1|\n",
      "| 2008-09-20|        chinese|    1|\n",
      "+-----------+---------------+-----+\n",
      "only showing top 10 rows\n",
      "\n",
      "head total by day\n"
     ]
    },
    {
     "name": "stderr",
     "output_type": "stream",
     "text": [
      "[Stage 75:======================================>                   (2 + 1) / 3]\r"
     ]
    },
    {
     "name": "stdout",
     "output_type": "stream",
     "text": [
      "+-----------+------------------+-----+\n",
      "|PublishDate|Total_Headline_day|count|\n",
      "+-----------+------------------+-----+\n",
      "| 2002-04-02|            wreath|    2|\n",
      "| 2002-04-02|             obama|    2|\n",
      "| 2002-04-02|          cemetery|    1|\n",
      "| 2002-04-02|            barack|    1|\n",
      "| 2002-04-02|          unknowns|    1|\n",
      "| 2002-04-02|             honor|    1|\n",
      "| 2002-04-02|              tomb|    1|\n",
      "| 2002-04-02|              laid|    1|\n",
      "| 2002-04-02|         president|    1|\n",
      "| 2002-04-02|         arlington|    1|\n",
      "+-----------+------------------+-----+\n",
      "only showing top 10 rows\n",
      "\n"
     ]
    },
    {
     "name": "stderr",
     "output_type": "stream",
     "text": [
      "\r",
      "[Stage 77:======================================>                   (2 + 1) / 3]\r",
      "\r",
      "                                                                                \r"
     ]
    }
   ],
   "source": [
    "df_news_title_total_date = df_news_date.withColumn('Total_Title_day',f.explode(f.split(f.column('Title'), ' ')))\n",
    "#filter stopwords\n",
    "df_news_title_total_date = df_news_title_total_date.filter(~df_news_title_total_date[\"Total_Title_day\"].isin(stopwords))\\\n",
    "                        .groupBy('PublishDate' ,'Total_Title_day')\\\n",
    "                        .count()\\\n",
    "                        .sort(['PublishDate','count'],ascending=[True,False])\n",
    "df_news_head_total_date = df_news_date.withColumn('Total_Headline_day',f.explode(f.split(f.column('Headline'), ' ')))\n",
    "#filter stopwords\n",
    "df_news_head_total_date = df_news_head_total_date.filter(~df_news_head_total_date[\"Total_Headline_day\"].isin(stopwords))\\\n",
    "                        .groupBy('PublishDate' ,'Total_Headline_day')\\\n",
    "                        .count()\\\n",
    "                        .sort(['PublishDate','count'],ascending=[True,False])\n",
    "#use spark write csv will repartition to worker folder, so use pandas to_csv to output\n",
    "df_news_title_total_date.toPandas().to_csv(path+\"outputs/q1/q1_news_title_total_date.csv\",index=False)\n",
    "df_news_head_total_date.toPandas().to_csv(path+\"outputs/q1/q1_news_headline_total_date.csv\",index=False)\n",
    "#df_news_title_total_date.coalesce(1).write.mode('overwrite').option(\"header\",True).csv(\"file://\"+path+\"/outputs/q1/q1_news_title_total_date.csv\")\n",
    "#df_news_head_total_date.coalesce(1).write.mode('overwrite').option(\"header\",True).csv(\"file://\"+path+\"/outputs/q1/q1_news_headline_total_date.csv\")\n",
    "print(\"title total by day\")\n",
    "df_news_title_total_date.show(10)\n",
    "print(\"head total by day\")\n",
    "df_news_head_total_date.show(10)"
   ]
  },
  {
   "cell_type": "markdown",
   "id": "328d1142",
   "metadata": {},
   "source": [
    "# Q2"
   ]
  },
  {
   "cell_type": "code",
   "execution_count": 25,
   "id": "ab3aa486",
   "metadata": {},
   "outputs": [],
   "source": [
    "platform_list = [\"Facebook\",\"GooglePlus\",\"LinkedIn\"]"
   ]
  },
  {
   "cell_type": "code",
   "execution_count": 26,
   "id": "9b2ac7a8",
   "metadata": {},
   "outputs": [],
   "source": [
    "if not os.path.isdir(path+\"outputs/q2\"): os.mkdir(path+\"outputs/q2\")"
   ]
  },
  {
   "cell_type": "code",
   "execution_count": 27,
   "id": "774d45de",
   "metadata": {},
   "outputs": [],
   "source": [
    "header_per_day=['IDLink'] + ['TS'+str((count+1)*72) for count in range(2)]\n",
    "header_per_hour=['IDLink'] + ['TS'+str((count+1)*3) for count in range(48)]"
   ]
  },
  {
   "cell_type": "code",
   "execution_count": 28,
   "id": "85a5f705",
   "metadata": {
    "scrolled": true
   },
   "outputs": [
    {
     "name": "stderr",
     "output_type": "stream",
     "text": [
      "                                                                                \r"
     ]
    },
    {
     "name": "stdout",
     "output_type": "stream",
     "text": [
      "Facebook\n",
      "hour\n",
      "\n",
      "+----+--------------------+\n",
      "|  ID|             average|\n",
      "+----+--------------------+\n",
      "| ID1|  10.541666666666666|\n",
      "| ID2|  28.958333333333332|\n",
      "| ID3|  59.708333333333336|\n",
      "| ID4|  3.6666666666666665|\n",
      "| ID5|  20.354166666666668|\n",
      "| ID6|   99.14583333333333|\n",
      "| ID7|               9.875|\n",
      "| ID8|-0.16666666666666666|\n",
      "| ID9|   8.520833333333334|\n",
      "|ID10|   73.70833333333333|\n",
      "+----+--------------------+\n",
      "only showing top 10 rows\n",
      "\n",
      "None\n",
      "Facebook\n",
      "day\n",
      "\n",
      "+----+-------+\n",
      "|  ID|average|\n",
      "+----+-------+\n",
      "| ID1|   12.5|\n",
      "| ID2|   39.0|\n",
      "| ID3|   90.0|\n",
      "| ID4|    6.0|\n",
      "| ID5|   31.0|\n",
      "| ID6|  127.0|\n",
      "| ID7|   12.0|\n",
      "| ID8|    0.0|\n",
      "| ID9|   12.0|\n",
      "|ID10|  116.0|\n",
      "+----+-------+\n",
      "only showing top 10 rows\n",
      "\n",
      "None\n"
     ]
    },
    {
     "name": "stderr",
     "output_type": "stream",
     "text": [
      "                                                                                \r"
     ]
    },
    {
     "name": "stdout",
     "output_type": "stream",
     "text": [
      "GooglePlus\n",
      "hour\n",
      "\n",
      "+----+--------------------+\n",
      "|  ID|             average|\n",
      "+----+--------------------+\n",
      "| ID1|               0.375|\n",
      "| ID2|-0.04166666666666...|\n",
      "| ID3|  15.229166666666666|\n",
      "| ID4|              0.0625|\n",
      "| ID5|             -0.3125|\n",
      "| ID6|               36.75|\n",
      "| ID7|-0.02083333333333...|\n",
      "| ID8|-0.16666666666666666|\n",
      "| ID9|                 0.5|\n",
      "|ID10|  1.1666666666666667|\n",
      "+----+--------------------+\n",
      "only showing top 10 rows\n",
      "\n",
      "None\n",
      "GooglePlus\n",
      "day\n",
      "\n",
      "+----+-------+\n",
      "|  ID|average|\n",
      "+----+-------+\n",
      "| ID1|    0.5|\n",
      "| ID2|    0.0|\n",
      "| ID3|   22.5|\n",
      "| ID4|    0.5|\n",
      "| ID5|    0.0|\n",
      "| ID6|   47.0|\n",
      "| ID7|    0.0|\n",
      "| ID8|    0.0|\n",
      "| ID9|    1.0|\n",
      "|ID10|    2.0|\n",
      "+----+-------+\n",
      "only showing top 10 rows\n",
      "\n",
      "None\n"
     ]
    },
    {
     "name": "stderr",
     "output_type": "stream",
     "text": [
      "                                                                                \r"
     ]
    },
    {
     "name": "stdout",
     "output_type": "stream",
     "text": [
      "LinkedIn\n",
      "hour\n",
      "\n",
      "+----+--------------------+\n",
      "|  ID|             average|\n",
      "+----+--------------------+\n",
      "| ID1|  1.4791666666666667|\n",
      "| ID2|-0.04166666666666...|\n",
      "| ID3|             -0.3125|\n",
      "| ID4|   6.729166666666667|\n",
      "| ID5|             -0.3125|\n",
      "| ID6|              70.125|\n",
      "| ID7|-0.02083333333333...|\n",
      "| ID8|-0.16666666666666666|\n",
      "| ID9|   7.604166666666667|\n",
      "|ID10|  13.166666666666666|\n",
      "+----+--------------------+\n",
      "only showing top 10 rows\n",
      "\n",
      "None\n",
      "LinkedIn\n",
      "day\n",
      "\n",
      "+----+-------+\n",
      "|  ID|average|\n",
      "+----+-------+\n",
      "| ID1|    2.0|\n",
      "| ID2|    0.0|\n",
      "| ID3|    0.0|\n",
      "| ID4|   10.0|\n",
      "| ID5|    0.0|\n",
      "| ID6|   99.5|\n",
      "| ID7|    0.0|\n",
      "| ID8|    0.0|\n",
      "| ID9|   11.0|\n",
      "|ID10|   27.5|\n",
      "+----+-------+\n",
      "only showing top 10 rows\n",
      "\n",
      "None\n"
     ]
    }
   ],
   "source": [
    "for platform in platform_list:\n",
    "    df_plat = spark.read.csv(\"file:\"+path+\"datasets/\"+platform+\"_*.csv\",header='true', inferSchema='true')\n",
    "    df_popular_hour=df_plat.select(header_per_hour).rdd.map(list)\\\n",
    "                                               .flatMap(lambda x:((x[0], element) for element in x[1:]))\\\n",
    "                                               .reduceByKey(add).map(lambda x:(x[0], x[1]/48)).sortByKey()\\\n",
    "                                               .map(lambda x:('ID'+str(int(x[0])), x[1])).toDF((\"ID\", \"average\"))\n",
    "    df_popular_day=df_plat.select(header_per_day).rdd.map(list)\\\n",
    "                                              .flatMap(lambda x:((x[0], element) for element in x[1:]))\\\n",
    "                                              .reduceByKey(add).map(lambda x:(x[0], x[1]/2)).sortByKey()\\\n",
    "                                              .map(lambda x:('ID'+str(int(x[0])), x[1])).toDF((\"ID\", \"average\"))#\\\n",
    "    #use spark write csv will repartition to worker folder, so use pandas to_csv to output\n",
    "    #df_popular_hour.coalesce(1).write.mode('overwrite').option(\"header\",True).csv(\"file://\"+path+\"/outputs/q2/q2_popular_hour\")\n",
    "    #df_popular_day.coalesce(1).write.mode('overwrite').option(\"header\",True).csv(\"file://\"+path+\"/outputs/q2/q2_popular_day\")\n",
    "    df_popular_hour.toPandas().to_csv(path+\"/outputs/q2/df_popular_hour.csv\",index=False)\n",
    "    df_popular_day.toPandas().to_csv(path+\"/outputs/q2/df_popular_day.csv\",index=False)\n",
    "    print(platform+\"\\nhour\\n\")\n",
    "    print(df_popular_hour.show(10))\n",
    "    print(platform+\"\\nday\\n\")\n",
    "    print(df_popular_day.show(10))"
   ]
  },
  {
   "cell_type": "markdown",
   "id": "aabdec7f",
   "metadata": {},
   "source": [
    "# Q3"
   ]
  },
  {
   "cell_type": "code",
   "execution_count": 29,
   "id": "8b90b7fb",
   "metadata": {},
   "outputs": [],
   "source": [
    "if not os.path.isdir(path+\"outputs/q3\"): os.mkdir(path+\"outputs/q3\")"
   ]
  },
  {
   "cell_type": "code",
   "execution_count": 30,
   "id": "d9f12ed4",
   "metadata": {},
   "outputs": [],
   "source": [
    "def handle_senti(type1,type2):\n",
    "    df_news_senti = df_news.where(df_news[\"Topic\"].isin(topic_list)).select('Topic',type1,type2)\n",
    "    tmp = df_news_senti.groupBy(\"Topic\").sum(type2).orderBy(\"Topic\").toPandas()\n",
    "    df_seni_topic = list(tmp[\"Topic\"])\n",
    "    df_seni_sum = list(tmp[\"sum(\"+type2+\")\"])\n",
    "    df_seni_avg = list(df_news_senti.groupBy(\"Topic\").avg(type2).orderBy(\"Topic\").toPandas()['avg('+type2+')'])\n",
    "    pdf_news_senti_out = pd.DataFrame(zip(df_seni_topic,df_seni_sum,df_seni_avg),columns=['topic','sum','average'])\n",
    "    #use spark write csv will repartition to worker folder, so use pandas to_csv to output\n",
    "    pdf_news_senti_out.to_csv(path+\"outputs/q3/q3_\"+type1+\"_sentiment_score.csv\", index=False)\n",
    "    pdf_news_senti_out = spark.createDataFrame(pdf_news_senti_out)\n",
    "    #pdf_news_senti_out.coalesce(1).write.mode('overwrite').option(\"header\",True).csv(\"file://\"+path+\"outputs/q3/q3_\"+type1+\"_sentiment_score\")\n",
    "    print(type2)\n",
    "    pdf_news_senti_out.show(10)"
   ]
  },
  {
   "cell_type": "code",
   "execution_count": 31,
   "id": "0d8a2f9c",
   "metadata": {
    "scrolled": true
   },
   "outputs": [
    {
     "name": "stderr",
     "output_type": "stream",
     "text": [
      "                                                                                \r"
     ]
    },
    {
     "name": "stdout",
     "output_type": "stream",
     "text": [
      "SentimentTitle\n",
      "+---------+-------------------+--------------------+\n",
      "|    topic|                sum|             average|\n",
      "+---------+-------------------+--------------------+\n",
      "|  economy| -336.9370044373348|-0.01047591967283...|\n",
      "|microsoft|  49.43849052234931| 0.00231042576513456|\n",
      "|    obama|-15.743686315455399|-5.81484259111926...|\n",
      "|palestine|-164.48440896913743|-0.01986526678371...|\n",
      "+---------+-------------------+--------------------+\n",
      "\n"
     ]
    },
    {
     "name": "stderr",
     "output_type": "stream",
     "text": [
      "                                                                                \r"
     ]
    },
    {
     "name": "stdout",
     "output_type": "stream",
     "text": [
      "SentimentHeadline\n",
      "+---------+-------------------+--------------------+\n",
      "|    topic|                sum|             average|\n",
      "+---------+-------------------+--------------------+\n",
      "|  economy|-1271.3909442082195|-0.03952961304008...|\n",
      "|microsoft|-318.81900083682035|-0.01489947662570...|\n",
      "|    obama| -481.8388358106563|-0.01779644822938712|\n",
      "|palestine|-363.16995277670947|-0.04386110540781...|\n",
      "+---------+-------------------+--------------------+\n",
      "\n"
     ]
    }
   ],
   "source": [
    "handle_senti(\"Title\",\"SentimentTitle\")\n",
    "handle_senti(\"Headline\",\"SentimentHeadline\")"
   ]
  },
  {
   "cell_type": "markdown",
   "id": "d8d266ed",
   "metadata": {},
   "source": [
    "# Q4"
   ]
  },
  {
   "cell_type": "code",
   "execution_count": 32,
   "id": "589b992d",
   "metadata": {},
   "outputs": [],
   "source": [
    "if not os.path.isdir(path+\"outputs/q4\"): os.mkdir(path+\"outputs/q4\")"
   ]
  },
  {
   "cell_type": "code",
   "execution_count": 33,
   "id": "feacb8b4",
   "metadata": {},
   "outputs": [],
   "source": [
    "list_top100 = []\n",
    "def remove_others(string):\n",
    "    global list_top100\n",
    "    lowercased_str = string.lower()\n",
    "    punc='!\"#”$%&\\'()*+—–./:;<=>?@[\\\\]^_’ ‘`{|}~-…'\n",
    "    for ch in punc:\n",
    "        lowercased_str = lowercased_str.replace(ch, ',')\n",
    "    tsets = lowercased_str.split(',')\n",
    "    alist = [x for x in tsets if x in list_top100]\n",
    "    if not alist:\n",
    "        alist = [\"No Values\"]\n",
    "    return ','.join(alist)\n",
    "def handle_type_co_occurrence(df_word_count,df_news_type,topic,type1):\n",
    "    global list_top100\n",
    "    list_top100 = list(df_word_count.select('Total_'+type1+'_cate').toPandas()['Total_'+type1+'_cate'][0:100])\n",
    "\n",
    "    remove_others_udf = udf(remove_others)\n",
    "\n",
    "    df_news_type_new = df_news_type.withColumn(\"New_sentence\", remove_others_udf(df_news_type[type1])).select(\"New_sentence\").where(col('New_sentence') != \"No Values\")\n",
    "    \n",
    "    tmp_df = (df_news_type_new.withColumn(\"id\", monotonically_increasing_id()).select(\"id\", f.explode(f.split(\"New_sentence\", \",\"))))\n",
    "    df_occurrence_matrix = tmp_df.withColumnRenamed(\"col\", \"col_\").join(tmp_df, [\"id\"]).stat.crosstab(\"col_\", \"col\")\n",
    "    #use spark write csv will repartition to worker folder, so use pandas to_csv to output\n",
    "    #df_occurrence_matrix.coalesce(1).write.mode('overwrite').option(\"header\",True).csv(\"file://\"+path+\"outputs/q4/q4_\"+type1+\"_\"+topic+\"_co-occurrence_matrix\")\n",
    "    df_occurrence_matrix.toPandas().to_csv(path+\"outputs/q4/q4_\"+type1+\"_\"+topic+\"_co-occurrence_matrix.csv\", index=False)\n",
    "    print(\"Matrix: \"+topic+\" \"+type1)\n",
    "    df_occurrence_matrix.show(20)"
   ]
  },
  {
   "cell_type": "code",
   "execution_count": 34,
   "id": "fc1bfd4f",
   "metadata": {},
   "outputs": [
    {
     "name": "stdout",
     "output_type": "stream",
     "text": [
      "economy\n"
     ]
    },
    {
     "name": "stderr",
     "output_type": "stream",
     "text": [
      "2021-11-21 23:10:37,978 WARN util.package: Truncated the string representation of a plan since it was too large. This behavior can be adjusted by setting 'spark.sql.debug.maxToStringFields'.\n"
     ]
    },
    {
     "name": "stdout",
     "output_type": "stream",
     "text": [
      "Matrix: economy Title\n",
      "+---------+----+----+-----+----+----+---+----+------+---+-----+------+--------+-------+-----+------+-------+-----+------+----+-------+-------+--------+-------+--------+---+--------+---+-----+-----+----+---+------+---+------+----+----------+----+----+-------+-----+------+----+---+---+------+-----+------+-----+------+----+-----+---+------+-------+---+--------+---+-----+---+-------+---+-------+----+------+---------+------+-------+----+-----+---------+------+-----+-------+-----+----+----+-------+-----+-----+-------+-----+-----+--------+-----+-----+------+------+---+---+-----+-----+---+----+-----+----+-----+-----+----+-----+\n",
      "| col__col|2015|2016|ahead|amid|back|bad|bank|better|big|boost|brexit|business|central|china|chinas|chinese|could|crisis|data|despite|digital|economic|economy|economys| eu|expected|fed|first|focus|fuel|gdp|german|gig|global|good|government|grew|grow|growing|grows|growth|help|hit|imf|impact|india|indian|japan|japans|jobs|local|low|market|markets|may|minister|new|obama|oil|outlook|pct|percent|plan|policy|president|prices|quarter|rate|rates|recession|report|risks|russian|saudi|says|sees|sharing|shows|signs|slowing|slows|south|spending|state|still|stocks|strong|tax|top|trade|trump| uk|  us|warns|weak|world|would|year|years|\n",
      "+---------+----+----+-----+----+----+---+----+------+---+-----+------+--------+-------+-----+------+-------+-----+------+----+-------+-------+--------+-------+--------+---+--------+---+-----+-----+----+---+------+---+------+----+----------+----+----+-------+-----+------+----+---+---+------+-----+------+-----+------+----+-----+---+------+-------+---+--------+---+-----+---+-------+---+-------+----+------+---------+------+-------+----+-----+---------+------+-----+-------+-----+----+----+-------+-----+-----+-------+-----+-----+--------+-----+-----+------+------+---+---+-----+-----+---+----+-----+----+-----+-----+----+-----+\n",
      "|     rate|   9|  15|   20|  13|   0|  0|  29|     5|  2|   15|     2|       3|     10|    6|    11|      2|    4|     3|   6|      3|      1|      41|    412|       9|  2|      14| 86|   16|    1|   0|  6|    12|  0|    28|   4|         1|  54|   4|      4|   23|    57|  14|  1|  1|     8|    6|     5|   12|     4|  53|    0|  8|     1|      4| 21|      12| 14|    1|  3|     11| 26|     50|   0|     5|        0|     1|     67| 589|    4|        3|    11|    3|      2|    0|  40|  12|      0|    8|    8|      4|    6|    1|       2|    2|    8|     4|    14|  3|  0|    2|    0| 17| 168|    0|   6|    2|    4|  10|   17|\n",
      "|    warns|   0|  15|    2|   1|   0|  0|  22|     0|  1|    1|    76|       9|      2|   14|     5|      0|   28|     6|   0|      2|      1|      35|    241|       3| 23|       1|  5|    1|    1|   0|  0|     0|  0|    60|   0|         2|   0|   0|      8|    1|    12|   0|  9| 26|     6|    0|     1|   10|     2|   0|    1|  2|    11|      1|  6|      18|  5|    0|  1|      2|  0|      0|   2|     0|        2|     1|      1|   0|    2|        5|     5|   17|     10|    2|   9|   1|      1|    0|    1|      1|    0|    2|       5|    0|    1|     1|     1|  4|  1|    5|    5| 41|  21|  322|   5|   25|   23|   2|    1|\n",
      "|  economy| 423| 863|  159| 197| 202|208| 419|   212|190|  682|   737|     270|    179|  815|   837|    355|  572|   174| 231|    284|    222|     153|  24840|       1|319|     254|347|  282|  214| 288|145|   295|255|  1502| 307|       199| 312| 497|    388|  378|   789| 296|231|259|   233|  271|   280|  244|   223| 440|  220|206|   370|    169|371|     510|739|  208|508|    170|241|    319| 175|   176|      191|   224|    588| 412|  186|      253|   383|  228|    228|  167|1344| 208|    395|  262|  205|    215|  200|  234|     152|  317|  292|   244|   253|200|211|  155|  212|666|2169|  241| 278|  563|  307| 445|  208|\n",
      "|  despite|  14|  10|    3|   1|   0|  3|  11|     6|  2|    1|     5|       7|      3|   14|     8|      5|    3|     3|   5|    371|      1|      30|    284|       5|  1|       3|  6|    1|    2|   2|  2|     5|  0|    54|  10|         1|   2|  17|     18|   11|    37|   0|  1|  1|     1|    9|     8|    6|     6|  10|    2|  5|    18|      5|  1|       4|  8|    1| 20|      3|  3|      4|   4|     1|        2|     8|      1|   3|    3|        2|     7|    6|      4|    3|  15|   7|      0|    6|    6|     23|    1|    6|       2|    2|   22|     3|    20|  3|  3|    0|    0| 11|  32|    2|  22|    4|    0|   4|    3|\n",
      "|    trump|   0|   2|    0|   0|   1|  8|   1|     4|  3|    6|    10|       0|      0|    4|     3|      0|   28|     2|   1|      0|      0|      26|    212|       1|  0|       0|  1|    0|    2|   0|  0|     2|  1|    10|   2|         0|   0|   2|      1|    0|     1|   2|  0|  0|     1|    0|     0|    0|     0|   7|    0|  0|     0|      3|  2|       6|  4|    6|  0|      5|  0|      0|   6|     1|        9|     0|      0|   0|    0|        9|     4|    1|      0|    0|  33|   0|      0|    2|    0|      1|    0|    1|       0|    0|    1|     1|     1|  2|  5|    3|  293|  0|  44|    5|   0|    7|   38|   1|    0|\n",
      "| business|   9|  12|    0|   5|   6|  2|   5|     2|  6|    3|     9|     443|      0|    3|    10|      2|    5|     4|   2|      7|      5|      27|    270|       4|  2|       2|  2|    1|    0|   2|  2|    16|  4|    11|   6|         2|   1|   1|      5|    3|    24|   2|  6|  1|     4|    4|     1|    8|     3|   2|    9|  6|     5|      2|  3|       5| 19|    3|  1|      4|  0|      0|   4|     1|        1|     0|      3|   3|    0|        7|     5|    2|      2|    1|  12|   4|      9|    4|    1|      5|    3|    3|       8|    5|    6|     0|     4|  2|  2|    1|    0| 19|  22|    9|   4|    5|    4|   3|    7|\n",
      "|    years|  23|   6|    0|   2|   3|  0|  11|     0|  0|    6|     2|       7|      4|   17|    14|      3|   12|     7|   0|      3|      1|      32|    208|       2|  3|       4|  7|   16|    1|   3|  9|     8|  2|    18|   1|         0|   9|  10|      9|   32|    52|   1|  2|  1|     1|    8|    10|    1|     1|   8|    0|  4|     1|      0|  5|       2| 13|    2|  3|      0|  8|      2|   1|     1|        1|     1|      6|  17|    8|        7|     8|    0|      3|    8|  12|   7|      0|    1|    7|      3|   10|    1|       3|    0|    2|     0|     3|  0|  0|    0|    0|  4|  19|    1|   1|    7|    2|   0|  301|\n",
      "|   crisis|   0|   5|    0|  11|   4|  3|   2|     0|  1|    4|     8|       4|      3|   12|     4|      8|   21|   300|   0|      3|      1|      78|    174|       1|  2|       3|  1|    3|    3|   3|  4|     2|  0|    37|   1|         1|   0|   0|      1|    7|    10|   2|  2|  3|     1|    7|     2|    2|     0|   1|    0|  1|     0|      0|  4|       7|  7|    0|  8|      0|  0|      1|   0|     0|        0|     2|      3|   3|    0|        3|     1|    3|     10|    1|  20|   3|      0|    0|    6|      3|    1|    8|       2|    2|    2|     1|     0|  0|  2|    3|    2| 14|   3|    6|   0|   17|    3|   5|    7|\n",
      "|president|   6|   4|    0|   5|   1|  0|   3|     7|  2|    9|     4|       1|      2|    8|     9|     13|    2|     0|   0|      2|      0|      17|    191|       0|  2|       2|  2|    1|    2|   7|  0|     0|  0|     5|   1|         0|   0|   9|      2|    0|     7|   1|  3|  0|     2|    1|     5|    0|     0|   2|    1|  1|     0|      0|  3|       3| 20|   21|  3|      0|  5|      8|   1|     1|      252|     0|      0|   0|    0|        1|     3|    1|      3|    0|  30|   4|      0|    0|    0|      0|    0|    1|       0|    4|    4|     0|     1|  0|  2|    2|    9|  0|  13|    2|   1|    1|    7|   6|    1|\n",
      "| economys|   5|   5|    0|   0|   0|  8|   3|     2|  2|    0|     3|       4|      1|    4|     2|      6|    0|     1|  12|      5|      1|       1|      1|     244|  1|       0|  5|    1|    1|   0|  2|     4|  3|    14|   0|         0|   0|   0|      2|    1|    23|   1|  0|  2|     3|    1|     6|    0|     0|   6|    0|  2|     1|      2| 12|       1|  6|    2|  4|      2|  0|      1|   1|     2|        0|     4|      4|   9|    2|        0|     3|    1|      3|    1|  10|   1|     11|    0|    1|      1|    0|    0|       0|    1|    4|     5|    10|  1|  0|    1|    1|  6|  35|    3|   3|    6|    3|   4|    2|\n",
      "|      imf|   1|  18|    1|   2|   2|  2|   8|     0| 12|    1|    52|       1|      0|    7|     5|      7|   27|     3|   0|      1|      0|      25|    259|       2|  4|       0|  0|    0|    1|   0|  0|     7|  0|    67|   7|         0|   1|  20|      6|    0|    39|   1| 15|327|     5|   12|     1|    2|     0|   0|    0|  1|     0|      2|  2|       1|  9|    0| 12|     10| 16|      2|   3|     4|        0|     5|      0|   1|    5|        4|     1|   13|      2|    3|  51|  24|      0|    0|    0|      1|    1|    3|       0|    0|    7|     1|     1|  3|  2|    0|    0| 27|  11|   26|   3|   35|    4|  12|    1|\n",
      "|    india|   7|  23|    2|   6|   2|  3|   8|     5|  8|    5|     7|       4|      0|   20|     6|      1|    2|     7|   2|      9|      6|      47|    271|       1|  1|       2|  1|    0|    3|   0|  4|     0|  0|    61|   2|         5|   3|  18|     79|    2|    49|   7|  1| 12|     5|  426|     6|    0|     1|   0|    1|  1|     5|      2| 11|       3|  5|    0|  4|      3|  2|      7|   1|     4|        1|     2|      1|   6|    3|        2|    11|    1|      1|    0|  32|  16|      1|    0|    0|      0|    2|    0|       0|    1|    3|     2|     2|  6|  2|    3|    0|  3|  13|    0|   1|   30|    1|   5|    8|\n",
      "|   prices|   5|   5|    0|   7|   0|  6|   5|     3|  2|    5|     5|       0|      6|    8|     6|      6|   13|     2|   2|      8|      0|      15|    224|       4|  2|       8|  4|    0|    0|   7|  0|     1|  0|    22|   8|         1|   0|   1|      1|    0|     6|   3| 20|  5|    11|    2|     4|    3|     1|   8|    5| 83|     4|      1|  5|       4|  4|    0|175|      4|  0|      0|   1|     0|        0|   315|      0|   1|    3|        5|     0|    0|     12|   10|  11|   0|      1|    0|    0|      1|    1|    0|       1|    1|    0|     3|     1|  1|  1|    0|    0|  8|  26|    1|   3|    6|    2|   5|    1|\n",
      "|   market|   8|  33|    2|  10|   1|  3|   3|     2|  5|    7|     8|       5|      0|   86|    50|     13|   14|     0|   3|     18|      0|      33|    370|       1| 52|       0|  9|    1|    1|   2|  0|     5|  3|    29|   1|         1|   1|   3|      4|    3|     9|   1|  6|  0|    10|    5|     3|    6|     5|  17|    4|  4|   518|      0| 19|       4|  5|    2|  9|      8|  0|      0|   0|     0|        0|     4|      0|   1|    0|        4|    10|    3|      2|    2|  12|   2|      5|    3|    6|     17|    2|    4|       3|   18|    6|     4|    21|  0|  5|    2|    0|  8|  61|   11|   6|    3|    4|   6|    1|\n",
      "|       eu|   6|   4|    9|   1|   2|  1|  14|     2|  2|   12|    43|       2|      2|   39|    11|      3|   40|     2|   3|      1|      0|      38|    319|       1|437|       5|  0|    0|    6|   0|  2|    12|  0|    24|   2|         0|   6|   2|      0|    0|     8|   7| 14|  4|    13|    1|     0|    0|     1|   9|    1|  0|    52|      0| 21|      26|  5|    0|  1|      5|  1|      8|   2|     1|        2|     2|      0|   2|    1|        1|     4|   12|      1|    0|  44|   1|     11|    3|    0|      0|   12|    0|       1|    1|    6|     0|     1|  0|  1|   15|    0| 56|   7|   23|   0|    4|   38|   1|    3|\n",
      "|    signs|   0|   1|    1|  10|   1|  0|   1|     0|  0|    0|     0|       1|      1|   37|    32|      6|    0|     6|   4|      6|      1|      16|    205|       1|  0|       0|  1|    3|    2|   0|  3|     2|  0|    17|   2|         0|   1|   1|      1|    0|    20|   1|  1|  0|     0|    0|     1|    1|     1|   2|    0|  1|     6|      3|  1|       1|  4|    1|  1|      0|  0|      0|   0|    10|        0|     0|      3|   8|    0|        3|     2|    2|      3|    2|   4|   9|      0|   64|  241|     10|    5|    4|       1|    0|    2|    13|     3|  0|  0|    2|    0|  6|  47|    1|   5|    0|    0|  11|    7|\n",
      "|   stocks|   0|   2|    5|  33|   1|  2|   2|     1|  1|    2|     6|       0|      0|   48|    11|     13|    4|     1|  21|      3|      0|      31|    244|       5|  0|       0| 13|    1|    8|   1|  1|     0|  0|    68|   6|         0|   0|   0|      3|    1|     9|   2|  7|  1|     1|    2|     0|    3|     0|   7|    1|  2|     4|      4|  4|       0|  9|    0| 21|      5|  0|      0|   1|     0|        0|     3|      0|   4|    2|        3|     4|    0|      3|    1|   6|   0|      0|    3|   13|      3|    3|    4|       1|    0|    1|   338|     3|  0|  0|    4|    1|  2|  79|    1|   7|   29|    0|   0|    0|\n",
      "| economic|  39| 113|   48|  50|  18| 11|  62|    11| 22|   22|    69|      27|     23|  137|   135|     48|   65|    78|  90|     30|      3|    2631|    153|       1| 38|      26| 26|   22|   14|   4| 31|    27|  0|   179|  19|        13|   2|   6|     16|    3|   477|  13| 18| 25|    32|   47|     9|   23|    22|  33|    2| 18|    33|     26| 47|      35| 82|   19| 41|     93|  8|     25|  49|    34|       17|    15|     32|  41|   23|       16|    38|   36|     36|   49| 102|  25|      3|   29|   16|     11|   37|   22|      19|   10|   37|    31|     8| 11| 23|   18|   26| 58| 188|   35|  21|   56|   28|  38|   32|\n",
      "|    state|   7|  26|    0|   1|   0|  1|   0|     3|  5|    6|     0|       5|      1|    8|     9|      8|    5|     2|   1|      2|      0|      10|    317|       1|  1|       2|  2|    2|    4|   0|  6|     1|  1|     7|   1|         1|   1|   3|      2|    0|    14|   1|  0|  0|     4|    1|     0|    0|     0|   4|    1|  1|    18|      3|  3|       7|  7|   11|  2|      1|  3|      2|   1|     0|        4|     1|      0|   2|    3|        2|    10|    0|      2|    0|  31|   6|      4|    7|    0|      1|    0|    3|       2|  400|    4|     0|    18|  5|  2|    2|    0|  0|  16|    0|   0|    4|    2|   2|    0|\n",
      "|       uk|  25|  27|    6|  14|  11|  5|  24|     0| 14|   17|   256|      19|      0|    5|     0|      0|   62|    14|  14|     11|     14|      58|    666|       6| 56|       6|  2|   16|    1|   1| 25|     2|  1|    40|   7|        11|  16|  13|      8|   18|   106|   3| 44| 27|    14|    3|     2|    1|     1|  10|    0|  7|     8|      3| 25|      14| 10|    0|  9|     11|  2|     10|   4|     2|        0|     8|     37|  17|   10|       10|     8|   15|      2|    0|  78|   9|      5|   12|    6|     13|   27|    1|       8|    0|    6|     2|    11|  9|  5|   14|    0|854|   4|   41|   3|   13|   61|   9|    4|\n",
      "+---------+----+----+-----+----+----+---+----+------+---+-----+------+--------+-------+-----+------+-------+-----+------+----+-------+-------+--------+-------+--------+---+--------+---+-----+-----+----+---+------+---+------+----+----------+----+----+-------+-----+------+----+---+---+------+-----+------+-----+------+----+-----+---+------+-------+---+--------+---+-----+---+-------+---+-------+----+------+---------+------+-------+----+-----+---------+------+-----+-------+-----+----+----+-------+-----+-----+-------+-----+-----+--------+-----+-----+------+------+---+---+-----+-----+---+----+-----+----+-----+-----+----+-----+\n",
      "only showing top 20 rows\n",
      "\n"
     ]
    },
    {
     "name": "stderr",
     "output_type": "stream",
     "text": [
      "/home/osboxes/.local/lib/python3.8/site-packages/pyspark/sql/pandas/conversion.py:202: PerformanceWarning: DataFrame is highly fragmented.  This is usually the result of calling `frame.insert` many times, which has poor performance.  Consider joining all columns at once using pd.concat(axis=1) instead.  To get a de-fragmented frame, use `newframe = frame.copy()`\n",
      "  df[column_name] = series\n"
     ]
    },
    {
     "name": "stdout",
     "output_type": "stream",
     "text": [
      "Matrix: economy Headline\n",
      "+---------+----+----+---------+----+----+--------+----+-------+-----+------+-------+-----+-------+--------+----+-------+-----------+--------+--------+---------+-------+--------+--------+-------+-------+---------+-----+------+------+----------+----+----+-------+------+------+--------+-------------+----------+----+----+---+----+------+-------+---+--------+------+-----+------+--------+----+----+----+---+-------+----+------+----+-------+------+---------+------+-----+-------+----+-----+------+---------+------+-------+-------+----+----+------+------+------+-----+--------+--------+-----+------+-----+------+-----+-----+--------+----+-----+-------+---+---+-----+----+---------+----+-----+------+-----+----+-----+\n",
      "| col__col|2015|2016|according|also|bank|business|cent|central|china|chinas|chinese|could|country|countrys|data|despite|development|domestic|economic|economies|economy|european|expected|federal|finance|financial|first|friday|global|government|grew|grow|growing|growth|impact|interest|international|investment|jobs|last|low|many|market|markets|may|minister|monday|month|months|national| new|next| oil|one|outlook|pace|people| per|percent|policy|president|prices|prime|quarter|rate|rates|recent|recession|report|reserve|reuters|said|says|second|sector|showed|since|slowdown|spending|state|states|still|strong|third|three|thursday|time|trade|tuesday|two| uk|union|  us|wednesday|week|world|worlds|would|year|years|\n",
      "+---------+----+----+---------+----+----+--------+----+-------+-----+------+-------+-----+-------+--------+----+-------+-----------+--------+--------+---------+-------+--------+--------+-------+-------+---------+-----+------+------+----------+----+----+-------+------+------+--------+-------------+----------+----+----+---+----+------+-------+---+--------+------+-----+------+--------+----+----+----+---+-------+----+------+----+-------+------+---------+------+-----+-------+----+-----+------+---------+------+-------+-------+----+----+------+------+------+-----+--------+--------+-----+------+-----+------+-----+-----+--------+----+-----+-------+---+---+-----+----+---------+----+-----+------+-----+----+-----+\n",
      "|     rate| 146| 101|       81|  42| 228|      25| 185|    144|   43|   105|     19|   70|     25|      31| 125|     44|         14|      93|     245|       19|   1323|      24|     131|    166|     23|       43|  223|    96|   110|        68| 272|  71|     63|   524|    33|     271|           17|        40| 156| 126| 86|  20|    73|     25| 60|      50|    40|   82|   129|      51| 121|  52|  54| 33|     18|  83|    31| 188|    513|    71|       30|    72|   18|    383|1586|   71|    43|       25|    48|    150|     59| 308|  41|    91|    29|   110|  107|      58|      90|   37|    18|   47|    74|   71|  138|      51|  31|   10|     72| 55| 25|    4| 434|      103|  26|   31|    49|   44| 218|  125|\n",
      "|  economy|1434|1264|     1220| 668|1392|     866| 886|    778| 1031|  1422|    678| 1170|    687|     838|1119|    632|        333|     821|    2319|      185|  28987|     832|    1009|    767|    630|      874| 1559|   774|  2902|      1409|1548| 794|    805|  3270|   513|     584|          550|       576| 920|1404|535| 459|  1084|    712|904|    1567|   567|  535|   933|     589|2174| 743|1081|891|    472| 850|   520|1001|   2760|   545|      899|   942|  459|   2367|1323|  556|   505|      796|   896|    589|    698|3928| 939|   647|   582|   704|  816|     557|     695|  876|   482|  598|   675|  665|  865|     632| 614|  452|    737|650|645|  600|3321|      662| 477| 1377|   860| 1215|3190| 1428|\n",
      "|  despite|  46|  51|       23|  10|  56|      33|  23|     23|   58|    42|     35|   19|     20|      43|  38|    696|         14|      24|     216|        9|    632|      25|      29|     19|     11|       56|   30|    47|   147|        35|  31|  29|     39|   240|    14|      15|           17|        28|  36|  61| 25|   9|    54|     51| 22|      42|    10|   25|    31|      15|  61|  15|  34| 16|     28|  24|    17|  26|     88|    12|       26|    33|   22|     73|  44|   15|    36|       14|    22|     16|     22| 139|  36|    16|    28|    35|   20|      58|      27|   13|    10|   45|    47|   21|   17|      17|   8|   15|     14| 25| 15|   14| 119|       23|  38|   55|    30|   16| 104|   31|\n",
      "| business|  60|  46|       81|  28|  45|    1280|   9|     12|   33|    23|     17|   62|     18|      19|  50|     33|         24|      18|     304|       10|    866|      35|      37|      9|     23|       29|   55|    16|   104|        70|  46|  29|     32|   150|    33|      17|           31|        93|  29|  73| 16|  29|    31|     21| 29|      37|    27|   36|    37|      48| 154|  25|  24| 43|     56|  38|    30|  11|     52|    29|       21|    20|   18|    103|  25|   17|    21|       22|    59|     11|     26| 145|  75|    17|    42|    22|   22|      34|      71|   44|    24|   17|    31|   28|   29|      14|  18|   29|     49| 29| 33|   33| 111|       17|  25|   52|    26|   38|  96|   43|\n",
      "|   people|  13|  17|       24|  18|  20|      30|  10|     14|    9|    14|      7|   18|     18|      10|  15|     17|          9|       3|     135|        7|    520|      15|       7|     11|     12|       11|   22|    15|    25|        35|   3|   8|     18|    51|     9|       3|            5|         4|  69|  26|  7|  32|    50|      6| 20|      19|    13|    9|    24|       9|  77|  10|  11| 33|     11|  11|   718|  10|     40|     4|       22|    12|    9|      5|  31|    6|    20|        4|    29|      4|     19|  71|  20|     3|    12|     9|   23|      15|      14|   10|    20|   30|     7|    2|   16|       8|  30|    5|      5| 13|  7|   12|  51|        7|  14|   21|    10|   34|  39|   27|\n",
      "|    years| 140| 105|       99|  19|  84|      43|  76|     49|   65|   116|     36|   87|     55|      59|  78|     31|         38|      65|     382|       24|   1428|      40|      72|     37|     51|       81|  215|    47|   172|       117| 175|  68|     61|   394|    17|      37|           33|        42|  42| 191| 51|  50|    61|     23| 64|      78|    39|   24|    40|      36| 155| 189|  60| 74|     28| 154|    27|  83|    249|    23|       45|    85|   31|    207| 125|   51|    78|       85|    59|     32|     43| 210|  44|    54|    37|    87|   99|      43|      61|   33|    29|   50|    46|   28|  153|      47|  70|   14|     33|241| 27|   35| 187|       38|  34|  105|    63|   63| 197| 1691|\n",
      "|president|  24|  46|       25|  22| 137|      21|   4|     74|   22|    37|     56|   26|     54|      74|   9|     26|         33|       7|     340|       14|    899|      47|      21|     80|     25|       30|   38|    65|    81|        76|   9|  15|     26|   108|    12|      21|           11|        16|  31|  49|  8|  13|    35|     19| 51|      71|    41|   22|    13|      35| 107|  44|  33| 47|     21|  10|    22|   8|     56|    51|     1410|    19|   22|     17|  30|   14|    11|       31|    26|     72|     70| 304|  66|    13|     5|     3|   21|       4|      11|  125|    26|   18|    27|    4|   17|      64|  32|    8|     67| 25|  4|   51| 189|       57|  24|   44|    14|   66|  93|   45|\n",
      "|  reserve|  17|  22|       19|  16| 212|      11|  16|     62|    8|    12|     13|   61|     13|       2|  29|     16|          4|      20|     149|       11|    589|      17|      35|    597|      5|       40|   61|    39|   109|        10|  19|   8|     24|    97|    18|     217|            4|         5|  66|  48| 12|  20|    79|     29| 49|       2|    26|   74|    34|       8|  63|  35|  21| 17|     38|  30|     4|  17|     30|    89|       72|    38|    0|     34| 150|  172|    39|        7|    54|    736|     28| 186|  39|    10|    19|    32|   17|      18|      21|   14|    16|   26|    58|    8|   14|      38|  38|    1|     30| 21|  2|   13| 427|       68|  42|   19|    18|   33|  56|   32|\n",
      "|   prices|  64|  73|       33|  52| 100|      20|  25|     46|   49|    51|     34|   54|     45|      46|  61|     33|         10|      49|     221|       42|    942|      22|      55|     29|     15|       42|   56|    58|   226|        78|  41|  37|     21|   156|    49|      37|           38|        34|  22|  72|242|  31|    64|     73| 34|      51|    30|   24|    19|      12|  67|  26| 748| 22|     24|  40|    12|  33|    143|    23|       19|  1243|   20|     69|  72|   23|    34|       39|    30|     38|     25| 164|  33|    14|    21|    36|   63|      35|      41|   21|    12|   25|    38|   25|   33|      34|  40|   13|     24| 26| 11|   11| 144|       43|  15|   77|    22|   50| 169|   85|\n",
      "| domestic| 142|  61|       74|  32|  48|      18|  81|     24|   48|    54|     13|   32|     15|      47| 152|     24|         17|     908|     196|        6|    821|      10|      91|     40|     15|       26|  141|    54|   104|        70| 185|  44|     25|   273|     4|       7|           21|        48|   7|  92| 35|   7|    41|     20| 21|      30|    38|   27|    96|      26|  48|  26|  42| 19|     25|  72|     3|  87|    427|    25|        7|    49|    5|    314|  93|   10|     9|       36|    47|     20|     49| 258|  26|    45|    38|   107|   30|      54|      68|   18|    12|   14|    56|  100|  113|      37|  18|   40|     60| 18| 23|    5| 111|       38|  12|   34|    33|   27| 259|   65|\n",
      "|     said| 287| 227|       88| 154| 567|     145| 150|    281|  196|   302|    104|  240|    179|     266| 166|    139|        148|     258|    1141|       82|   3928|     237|     278|    235|    261|      203|  273|   379|   526|       428| 266| 216|    102|   902|   123|     141|          236|       123| 152| 286| 97|  38|   195|    120|138|     653|   265|  107|   200|     157| 337| 180| 202|112|    122| 118|    71| 170|    977|   170|      304|   164|  151|    411| 308|  124|    91|      104|   226|    186|    253|4639|  55|   144|   104|   103|  149|     119|     129|  181|    76|  105|   149|   99|  192|     325| 101|   97|    331| 99|112|  188| 441|      340|  70|  325|    98|  503| 744|  210|\n",
      "|   market|  57|  72|       52|  50|  55|      31|  26|     43|  158|   158|     59|  103|     31|      39|  87|     54|          9|      41|     256|       24|   1084|      84|      49|    105|     20|       99|   62|    41|   201|        32|  19|  16|     44|   165|    28|      49|           13|        42|  96|  81| 40|  27|  1453|     48| 58|      37|    33|   38|    49|      12| 107|  42|  75| 51|     30|  41|    50|  30|     87|    49|       35|    64|   22|     85|  73|   52|    87|       35|    68|     79|     36| 195|  32|    27|    18|    49|   63|      72|      47|   41|    18|   56|    43|    9|   23|      32|  36|   31|     30| 17| 18|   47| 335|       46|  26|   64|    45|   59| 190|   61|\n",
      "|    union|  13|   9|       40|  18|  31|      33|   7|     15|   50|    15|      3|  129|     25|      47|  25|     14|         12|       5|     179|       24|    600|     607|      18|     18|     54|       43|   44|    37|   166|        23|   9|   1|     13|    73|    38|      14|           53|        12|  26|  32|  7|  17|    47|     27| 34|     105|    38|    3|    26|       7|  45|  45|  13| 25|     20|   2|    12|   9|     53|     4|       51|    11|   22|      8|   4|   15|    10|       20|    16|     13|     77| 188|  15|     8|     2|     8|   18|      21|       8|   57|    20|   20|    15|    9|   16|      36|  21|   27|     36| 20| 97|  756|  53|       20|  27|   63|    14|  186|  46|   35|\n",
      "| economic| 337| 436|      331| 228| 331|     304| 192|    192|  367|   472|    151|  293|    270|     290| 390|    216|        521|     196|    8904|       76|   2319|     215|     215|    201|    165|      274|  335|   194|   808|       455| 148| 115|    124|  2009|   270|     132|          189|       152| 158| 345|107| 143|   256|    202|225|     451|   157|  117|   193|     206| 590| 223| 282|305|    333| 145|   135| 230|    600|   271|      340|   221|  160|    335| 245|  120|   182|      157|   318|    149|    134|1141| 201|   115|   144|   160|  236|     305|     176|  254|   173|  136|   153|   89|  160|     176| 176|  204|    165|198|113|  179| 746|      187| 167|  411|   162|  351| 767|  382|\n",
      "|    three| 206|  71|       65|  19| 101|      29| 112|     60|    9|    22|      3|   21|      5|      22| 110|     17|         14|     113|     160|       12|    865|      24|      67|     18|     12|       21|  284|    68|    62|        70| 236|  34|     25|   275|    11|      32|           20|        19|  17| 130| 20|  11|    23|      9| 31|      47|    34|   16|   522|      50|  63|  27|  31| 22|     10|  96|    16| 119|    359|    25|       17|    33|   24|    284| 138|   24|     8|       30|    22|     14|     45| 192|  27|    69|    36|    82|   52|      24|      55|    9|     6|   15|    24|   43|  931|      44|  30|   18|     58| 43| 32|   16| 143|       34|  26|   23|    30|   25| 243|  153|\n",
      "|    state|  26|  45|       66|  21|  47|      44|  18|     21|   23|    47|     20|   24|     40|      34|  23|     13|         24|      18|     254|       23|    876|      14|      32|     26|     33|       18|   40|    33|    71|        61|  22|  18|     27|    78|    33|       8|           24|        16|  31|  58|  6|  10|    41|     22| 16|      47|    39|   19|    15|      22|  88|  26|  51| 31|     25|  12|    10|  24|     94|    23|      125|    21|   12|     44|  37|   10|    22|       11|    47|     14|     19| 181|  28|    19|    18|    24|   27|       7|      17| 1217|    65|   20|    29|   12|    9|      30|  24|   19|     44| 23| 10|   57| 107|       39|  14|   47|    36|   50|  90|   33|\n",
      "|       uk|  52|  23|       99|  25|  53|      33|  42|      3|    5|     1|      2|   88|     15|      13|  33|     15|          8|      23|     113|       15|    645|     111|      40|      3|      7|       28|   34|    14|    83|        27|  55|  23|     13|   135|    28|      11|           17|        11|  23|  41| 12|   6|    18|     17| 17|      24|     6|    8|    24|      28|  52|  31|   9| 32|     26|  17|     7|  44|     10|     8|        4|    11|    9|     59|  25|   11|     3|       35|    43|      2|      7| 112|  24|    11|    25|    15|   16|      22|      16|   10|     4|   11|    14|   22|   32|      15|  18|   26|      7| 17|833|   97|  23|       14|  20|   30|     9|  109|  66|   27|\n",
      "|    would|  40|  71|       69|  58| 102|      38|  22|     40|   70|    52|     23|  102|     43|      86|  31|     16|         19|      27|     351|       19|   1215|     207|      29|     34|     67|       50|   47|    57|   130|        98|  22|  62|     27|   167|    63|      34|           45|        28|  77|  40| 30|  23|    59|     40| 23|     150|    42|   16|    25|      25|  78|  49|  52| 63|     19|  15|    34|  30|    167|    37|       66|    50|   24|     36|  44|   37|    14|       68|    52|     33|     99| 503|  63|    21|    12|    14|   24|       9|      25|   50|    16|   41|    11|   12|   25|      36|  37|   44|     47| 21|109|  186| 134|       66|  33|  105|    27| 1671| 172|   63|\n",
      "|   chinas| 120| 102|       56|  27| 106|      23|  68|     62|  153|  1762|    132|   32|     55|      68| 130|     42|         62|      54|     472|       14|   1422|      33|      60|      2|     27|       93|  144|    56|   247|       108| 159|  41|     45|   409|    20|      24|           42|        92|   4|  90| 37|  26|   158|    133|105|      30|    42|   32|    42|      50|  91|  45|  40| 62|     61|  94|    14|  69|    217|    44|       37|    51|    1|    231| 105|   21|    59|       19|    22|     12|     76| 302|  36|    73|    44|    89|   72|     156|      25|   47|     7|   81|    20|   17|   22|      39|  19|   31|     40| 40|  1|   15|  61|       40|  35|   93|   122|   52| 268|  116|\n",
      "|   recent|  18|  34|       46|  14|  32|      21|  16|     25|   35|    59|     41|   32|     21|      18|  72|     36|          8|       9|     182|        6|    505|      17|      24|     42|      8|       58|   30|    18|    81|        34|  23|   9|     18|   102|    15|      17|           23|         9|  38|  21| 13|  16|    87|     57| 31|      14|    14|    7|    74|      19|  40|  12|  41| 28|     19|  17|    20|  16|     46|    21|       11|    34|    5|     37|  43|   12|   653|       21|    46|     39|     25|  91|  18|    14|    12|    28|   29|      49|      12|   22|    14|   31|    16|    6|    8|      16|  19|   12|     18| 15|  3|   10| 153|       23|   4|   21|    34|   14|  62|   78|\n",
      "+---------+----+----+---------+----+----+--------+----+-------+-----+------+-------+-----+-------+--------+----+-------+-----------+--------+--------+---------+-------+--------+--------+-------+-------+---------+-----+------+------+----------+----+----+-------+------+------+--------+-------------+----------+----+----+---+----+------+-------+---+--------+------+-----+------+--------+----+----+----+---+-------+----+------+----+-------+------+---------+------+-----+-------+----+-----+------+---------+------+-------+-------+----+----+------+------+------+-----+--------+--------+-----+------+-----+------+-----+-----+--------+----+-----+-------+---+---+-----+----+---------+----+-----+------+-----+----+-----+\n",
      "only showing top 20 rows\n",
      "\n",
      "microsoft\n"
     ]
    },
    {
     "name": "stderr",
     "output_type": "stream",
     "text": [
      "                                                                                \r"
     ]
    },
    {
     "name": "stdout",
     "output_type": "stream",
     "text": [
      "Matrix: microsoft Title\n",
      "+----------+---+---+----+---+---+---+---+---+----+---+------+-------+---------+---+-----+----+---------+-----+----+---+-------+----+-----+--------+---+---+-----+-----------+-------+-----+----+----+--------+----+----------+--------+-----+----+----+-----+---+----+------+----+-----+--------+--------+---+------+------+--------+--------+----+-----+----+---+---------+----------+------+----+-------+---+----+------+---+----+---+-----+-----+-------+---+-------+-------+--------+------+-----+----+--------+------+-------+--------+-----+--------+-----+-----+-------+-------+----+----------+---+------+-------+-------+---+-----+-----+---+-----+-------+----+\n",
      "|  col__col| 10|  2|2016|  3|365|  4|  5|950|adds| ai|amazon|android|announces|app|apple|apps|available|azure|band|big|billion|book|build|business|buy|ceo|cloud|corporation|cortana|could|data|deal|dynamics|edge|enterprise|facebook|first|free|game|games|get|gets|google|help|heres|hololens|internet|ios|iphone|latest|launches|linkedin|live|lumia|make|may|microsoft|microsofts|mobile|msft|nadella|new|next|office|one|open| pc|phone|power|preview|pro|project|release|releases|review|satya|says|security|server|service|services|skype|software|stock|store|support|surface|tech|technology| uk|update|updates|upgrade| us|users|video| vs|wants|windows|xbox|\n",
      "+----------+---+---+----+---+---+---+---+---+----+---+------+-------+---------+---+-----+----+---------+-----+----+---+-------+----+-----+--------+---+---+-----+-----------+-------+-----+----+----+--------+----+----------+--------+-----+----+----+-----+---+----+------+----+-----+--------+--------+---+------+------+--------+--------+----+-----+----+---+---------+----------+------+----+-------+---+----+------+---+----+---+-----+-----+-------+---+-------+-------+--------+------+-----+----+--------+------+-------+--------+-----+--------+-----+-----+-------+-------+----+----------+---+------+-------+-------+---+-----+-----+---+-----+-------+----+\n",
      "|   cortana| 34|  9|   0|  0|  0|  0|  0|  0|   5|  2|     1|     45|        0| 14|    4|   2|        5|    2|  13|  2|      0|   2|    7|       3|  0|  2|    0|          0|    263|    1|   8|   0|       1|  16|         0|       0|    3|   0|   1|    2|  2|  11|    11|   3|    1|       4|       0| 36|    10|     3|      11|       0|   0|    0|   4|  2|      174|        68|     7|   1|      6| 18|   1|     1|  7|   0|  2|    0|    7|      4|  0|      0|      1|       6|     1|    6|   0|       0|     0|      1|       0|    3|       0|    0|    0|      7|      1|   1|         0|  0|     9|      7|      0|  2|    3|    1|  7|    1|     36|   9|\n",
      "|     stock|  3|  1|   9|  1|  0|  1|  3|  1|   0|  0|     3|      0|        0|  0|    7|   1|        0|    0|   1|  2|      7|   0|    0|       0|  6|  1|   10|         39|      0|   11|   0|   7|       0|   0|         0|       0|    0|   2|   1|    0|  0|   1|     2|   0|    4|       0|       0|  0|     1|     0|       0|       3|   0|    1|   1|  1|      161|        23|     0|  65|      0|  4|   0|     2|  3|   1|  0|    0|    0|      0|  0|      0|      0|       0|     0|    1|   3|       0|     0|      0|       0|    0|       0|  190|    0|      0|      0|  10|         4|  1|     3|      0|      2|  1|    0|    0|  0|    1|      1|   6|\n",
      "|  business| 11|  0|   2|  1| 15|  2|  1|  0|   3|  0|     1|      9|       13| 15|    4|  10|        2|    5|   0|  5|      4|   0|    2|     377|  1|  3|   30|          5|      3|    5|   7|   7|       7|   1|         4|       2|    0|   5|   0|    0|  6|   8|     2|   0|    2|       1|       0|  1|     5|     0|      12|       7|   1|   11|   1|  2|      301|        47|     9|   9|      0| 32|   4|    23|  6|   6|  1|   35|    6|     11|  6|      2|      1|       1|     0|    0|   4|       2|     1|      3|       2|   65|      13|    0|    8|      3|      7|   6|         5|  2|     6|      4|      1|  5|   14|    3|  6|    2|     21|   4|\n",
      "|   support| 63|  5|  10|  0|  8|  3|  1|  0|  44|  0|     5|     18|       12| 15|   25|   1|        0|   11|   7|  5|      1|   0|    7|       3|  2|  0|    9|          0|      7|    5|  10|   0|       5|  28|         2|      14|    2|   5|   1|    1|  5|  20|    16|   2|    0|       2|      26| 25|     2|     5|       4|       0|   2|    2|   1|  4|      388|        25|    10|   2|      0| 24|  12|    20|  7|   0|  3|    4|    1|      4|  0|      1|      1|       2|     0|    0|   8|       4|    12|      2|       3|   13|       2|    0|    9|    430|      4|  17|         3|  1|     8|      7|      4|  2|    5|    3|  1|    0|    115|  15|\n",
      "|  services|  1|  0|   3|  1|  6|  0|  0|  0|   5|  0|     3|      2|        8|  0|    0|   4|        4|   34|   0|  6|     14|   0|    0|       2|  0|  0|   87|          0|      0|    5|  10|   0|       4|   0|        13|       0|    0|   3|   0|    0|  1|   6|     0|   3|    0|       0|       2|  0|     0|     0|       4|       0|   2|    0|   1|  0|      172|        13|     5|   2|      1| 18|   2|     6|  1|   0|  0|    0|    1|      5|  1|      4|      0|       0|     0|    0|   0|       3|     3|      0|     189|    3|       5|    0|    0|      3|      1|   0|         1|  3|     2|      3|      0|  0|    0|    0|  0|    0|      3|   2|\n",
      "|       ios| 18|  1|   1|  2|  6|  2|  1|  1|  11|  0|     1|     67|        0| 69|   10|  21|        6|    2|   1|  0|      0|   0|    0|       1|  2|  0|    0|          1|     36|    3|   0|   0|       0|   0|         0|       3|    2|   3|   3|    0|  3|  19|     7|   1|    0|       0|       0|262|     6|     1|      18|       0|   0|    1|   3|  0|      185|        55|    15|   1|      0| 25|   1|    25|  1|   2|  0|    4|    1|      1| 11|      3|      0|       9|     3|    0|   3|       0|     0|      0|       0|   16|       1|    0|    0|     25|      3|   0|         0|  0|     5|     15|      0|  2|    3|    7|  4|    0|     35|   2|\n",
      "|    review| 13| 37|   3|  4|  0| 44|  1| 33|   0|  0|     1|      0|        0|  3|    1|   0|        0|    1|  41|  2|      0|  28|    0|       0|  0|  0|    1|          0|      1|    1|   1|   0|       0|   0|         0|       0|    8|   0|   1|    0|  0|   1|     1|   1|    0|       1|       0|  3|     4|     0|       0|       1|   0|   40|   0|  1|      176|        19|     6|   0|      0|  2|   0|     0|  8|   0|  5|   11|    1|      0| 49|      0|      0|       0|   209|    0|   0|       0|     0|      0|       0|    0|       4|    0|    0|      0|     81|   5|         0|  1|     0|      0|      0|  0|    0|    0|  0|    0|     23|   6|\n",
      "|  hololens| 10|  2|   8|  2|  0|  1|  3|  0|   2|  1|     0|      0|        6| 25|    1|  19|        8|    0|   0|  8|      0|   0|   15|       1|  0|  2|    0|          3|      4|    7|   0|   1|       0|   9|         4|       0|   24|   0|   3|   19|  8|   7|    15|   3|   10|     533|       0|  0|     0|     9|       7|       0|   0|    0|   7| 10|      389|       126|     0|   2|      2| 24|   4|     0| 11|   4|  1|    2|    0|      2|  0|      5|      9|       3|     1|    1|   7|       1|     0|      0|       0|    0|       1|    0|    4|      2|      3|   3|         3|  3|     4|      3|      0|  5|    0|   15|  5|   15|     16|  10|\n",
      "|    amazon|  0|  6|   4|  2|  0|  0|  0|  8|   1|  0|   277|      0|        0|  1|   34|   1|        2|   10|   4| 11|      8|   0|    0|       1|  4|  1|   63|          1|      1|    2|   9|   1|       0|   2|         0|      19|    1|   0|   1|    0|  4|   4|    61|   0|    7|       0|       0|  1|     0|     0|       0|       0|   0|   12|   2|  2|      239|        10|     0|   6|      1|  2|   0|     0|  5|   1|  0|    0|    0|      1|  1|      0|      0|       0|     1|    1|   9|       0|     1|     13|       3|    0|       0|    3|    1|      5|      2|  12|         0| 13|     1|      0|      0|  0|    5|    1| 12|    0|      1|   1|\n",
      "|    server|  4|  0|  89|  0|  0|  1|  0|  0|   4|  0|     1|      0|        5|  0|    0|   0|        7|   17|   0|  3|      0|   0|    2|       1|  1|  0|   15|          0|      0|    5|   6|   4|       2|   0|         4|       0|    5|   8|   0|    0|  1|   2|     0|   0|    0|       0|       0|  0|     0|     8|       5|       0|   0|    0|   0|  0|      172|        20|     0|   1|      0| 15|   3|     3|  0|   0|  0|    0|    1|      4|  0|      8|      9|      14|     0|    0|   1|       6|   200|      1|       3|    1|       0|    0|    0|     12|      0|   0|         0|  0|     4|      4|      1|  0|    3|    0|  0|    1|     55|   1|\n",
      "|         4| 14| 10|  10| 13|  0|408| 12|  3|   1|  0|     0|      0|        1|  1|   28|   1|        3|    2|   5|  2|      2|  64|    2|       2|  6|  1|    1|          0|      0|    1|   0|   3|       0|   1|         2|       2|    8|  22|   3|    0|  1|   4|     3|   2|    4|       1|       0|  2|     0|     4|       8|       1|   2|    5|   0|  5|      330|        39|     0|   2|      2| 27|   3|     1| 29|   0|  7|    1|    3|      1|362|      1|      7|       4|    44|    2|   7|       0|     1|      1|       0|    1|       0|    1|   10|      3|    379|   5|         0|  6|    14|     10|      0|  4|    3|    1| 57|    0|     16|  32|\n",
      "|   surface| 29| 26|  32|114|  1|379| 88|  5|   0|  0|     2|      0|        7|  3|   48|   1|       12|    0|  10|  5|      2| 293|    3|       7| 12|  3|    6|         17|      1|   19|   2|   7|       0|   0|         3|       1|   25|  13|   9|    0| 11|  10|     2|   2|   11|       3|       0|  3|     6|    15|      16|       0|   5|   15|   2| 23|     1001|       212|     6|   9|      1| 85|  15|     5| 29|   1| 17|  124|   62|      2|639|      2|     75|      17|    81|    1|  19|       1|     0|      0|       1|    4|       1|    0|   13|      4|   1430|  10|         2| 39|    34|     31|      2| 11|    6|    3| 81|    3|     41|  19|\n",
      "|        uk|  3| 12|   8|  9|  2|  6|  2| 22|   0|  1|    13|      0|        3|  0|    4|   0|       11|    3|  17|  0|      0|  19|    2|       2|  2|  6|   13|          1|      0|    3|  20|   2|       0|   0|         1|       7|    9|   4|   0|    4|  3|   8|     8|   0|    0|       3|       0|  0|     1|     0|       3|       0|   1|   30|   0|  0|      145|        29|     1|   2|      1|  5|   2|     4|  2|   8|  0|    1|    0|      0| 15|      0|     10|       0|     1|    0|   9|       0|     0|      3|       3|    0|       0|    1|   12|      1|     39|   2|         0|183|     0|      0|      0|  3|    0|    0|  0|    1|      3|   3|\n",
      "|  security| 19|  0|  13|  0| 19|  0|  2|  0|   6|  0|     0|      0|        6| 10|    5|   2|        2|   20|   0|  0|      2|   0|    2|       2|  0|  1|   33|          2|      0|    2|   6|   0|       1|   3|        14|       1|    2|   2|   0|    0|  5|   7|     9|   0|    0|       1|       7|  0|     0|     2|       7|       0|   1|    0|   0|  2|      247|        19|     4|   1|      5| 30|   1|    22|  1|   0|  3|    1|    0|      0|  0|      2|      0|       7|     0|    3|   1|     288|     6|      5|       3|    0|       6|    0|    0|      4|      1|   2|         1|  0|     6|      7|      6|  2|    8|    0|  0|    0|     31|   0|\n",
      "|enterprise| 16|  1|   4|  0|  5|  2|  2|  0|   3|  0|     0|      0|        4|  1|    2|   4|        2|   13|   0|  4|      1|   0|    1|       4|  3|  1|   62|          2|      0|    1|   4|   1|       3|   2|       218|       0|    2|   0|   0|    0|  2|   2|     8|   1|    0|       4|       1|  0|     0|     3|       2|       1|   0|    0|   2|  0|      189|        16|     3|   1|      0| 19|   0|     5|  0|   0|  0|    3|    1|      0|  5|      0|      1|       1|     0|    0|   0|      14|     4|      1|      13|    2|       5|    0|    1|      2|      3|   0|         1|  1|     3|      0|      2|  1|    3|    0|  2|    0|     24|   1|\n",
      "|     heres| 23|  2|   5|  0|  2|  4|  3|  4|   0|  0|     7|      0|        0|  3|    7|   0|        0|    1|   1|  4|      2|   2|    4|       2|  5|  7|    4|          2|      1|    6|   1|   2|       0|   0|         0|       5|    0|   7|   2|    3|  4|   4|    11|   1|  185|      10|       0|  0|     5|     3|       0|       9|   0|    5|   2|  1|      135|        31|     4|  10|      4|  9|   5|     5|  9|   0|  2|    5|    1|      3|  7|      0|      3|       1|     0|    4|   0|       0|     0|      0|       0|    0|       2|    4|    1|      0|     11|   0|         2|  0|     6|      0|      2|  0|    0|    1|  4|    2|     34|   6|\n",
      "|   project|  3|  0|  15|  1|  5|  1|  0|  0|   2|  2|     0|      8|       10| 15|    0|   6|        1|    3|   0|  1|      1|   0|    1|       2|  0|  0|    5|          3|      0|    8|   7|   0|       5|   0|         0|       0|    1|   1|   5|    1|  2|   2|     1|   2|    0|       5|       2|  3|     0|     1|       7|       0|   0|    0|   0|  1|      133|        59|     0|   0|      0| 10|   1|     8|  7|   3|  2|    2|    1|      5|  0|    201|      0|       2|     0|    0|   0|       2|     8|      5|       4|    3|       0|    0|    0|      1|      2|   0|         0|  0|     4|      1|      2|  0|    1|    1|  0|    3|      4|  14|\n",
      "|       big| 20|  6|   8|  0|  0|  2|  2|  2|   0|  4|    11|      3|        3|  1|   12|   0|        0|    5|   2|260|      0|   2|    4|       5|  4|  4|   14|          6|      2|    7|  43|  19|       1|   0|         4|       5|    5|   2|   0|    1|  1|   6|     8|   5|    4|       8|       1|  0|     1|     0|       4|       6|   2|    3|   8|  0|      197|        47|     7|   8|      3| 13|  12|     5| 17|   0|  1|    1|    2|      1|  3|      1|      2|       1|     2|    7|   7|       0|     3|      0|       6|    3|       0|    2|    2|      5|      5|   7|         2|  0|    14|      3|      0|  0|    0|    1|  2|    0|     24|  10|\n",
      "|  launches| 21|  2|   5|  1|  5|  8|  0| 10|   0|  5|     0|     16|        2| 31|    8|   5|        1|   28|   0|  4|      0|   0|    4|      12|  0|  0|    9|          4|     11|    0|   9|   4|       8|   3|         2|       0|    8|   7|   1|    1|  1|   0|     8|   7|    0|       7|      14| 18|     3|     1|     341|       0|   1|   26|   0|  0|      322|        10|     2|   6|      0| 35|   0|    23|  4|   1|  0|    5|    1|     22| 11|      7|      0|       0|     0|    0|   0|       7|     5|      8|       4|   10|       1|    0|   26|      4|     16|   1|         2|  3|     5|      4|      5|  6|    6|    3|  0|    2|     34|   6|\n",
      "|      band|  6|226|   2|  6|  0|  5|  2|  1|  14|  0|     4|     11|        0| 11|   16|   2|        8|    0| 379|  2|      0|   1|    1|       0|  2|  0|    0|          3|     13|    4|   5|   7|       0|   1|         0|       4|    4|   2|   1|    0|  9|  18|     2|   2|    1|       0|       0|  1|     0|     5|       0|       0|   0|    3|   0|  3|      374|        12|     0|   2|      0| 19|   2|     0|  6|   1|  2|    1|    6|      0|  5|      0|      4|       2|    41|    0|   0|       0|     0|      0|       0|    0|       2|    1|    7|      7|     10|   2|         1| 17|    31|      6|      0|  2|    8|    0|  8|    2|      8|   3|\n",
      "+----------+---+---+----+---+---+---+---+---+----+---+------+-------+---------+---+-----+----+---------+-----+----+---+-------+----+-----+--------+---+---+-----+-----------+-------+-----+----+----+--------+----+----------+--------+-----+----+----+-----+---+----+------+----+-----+--------+--------+---+------+------+--------+--------+----+-----+----+---+---------+----------+------+----+-------+---+----+------+---+----+---+-----+-----+-------+---+-------+-------+--------+------+-----+----+--------+------+-------+--------+-----+--------+-----+-----+-------+-------+----+----------+---+------+-------+-------+---+-----+-----+---+-----+-------+----+\n",
      "only showing top 20 rows\n",
      "\n"
     ]
    },
    {
     "name": "stderr",
     "output_type": "stream",
     "text": [
      "                                                                                \r"
     ]
    },
    {
     "name": "stdout",
     "output_type": "stream",
     "text": [
      "Matrix: microsoft Headline\n",
      "+---------+---+----+----+---+---+---------+----+-------+---------+---+-----+----+---------+-----+---+-------+-----+--------+---+-----+---------+-------+--------+----------+----+-----+---------+----+----------+------+-------+----+--------+-----+----+----+-----+---+-----+------+----+--------+--------+----+------+--------+----+-----+----+----+----+------+---+---------+----------+-------+------+----+-------+---+----+------+---+------+---------+------+-----+--------+----+--------+-------+--------+----+-----+--------+-------+--------+--------+-----+-------+-------+------+----+----------+----+-----+---+------+---+---+-----+-----+-------+----+-------+-----+-----+----+----+-----+\n",
      "| col__col| 10|2015|2016|365|  4|according|also|android|announced|app|apple|apps|available|azure|big|billion|build|business|ceo|cloud|companies|company|companys|conference|corp|could|customers|data|developers|device|devices|edge|features|first|free|game|games|get|giant|google|help|hololens|internet|last|latest|launched|like|lumia|made|make|many|market|may|microsoft|microsofts|million|mobile|msft|nadella|new|next|office|one|online|operating|people|phone|platform| pro|recently|release|released|said|satya|security|service|services|software|store|support|surface|system|tech|technology|time|today|two|update| us|use|users|using|version|week|windows|world|would|xbox|year|years|\n",
      "+---------+---+----+----+---+---+---------+----+-------+---------+---+-----+----+---------+-----+---+-------+-----+--------+---+-----+---------+-------+--------+----------+----+-----+---------+----+----------+------+-------+----+--------+-----+----+----+-----+---+-----+------+----+--------+--------+----+------+--------+----+-----+----+----+----+------+---+---------+----------+-------+------+----+-------+---+----+------+---+------+---------+------+-----+--------+----+--------+-------+--------+----+-----+--------+-------+--------+--------+-----+-------+-------+------+----+----------+----+-----+---+------+---+---+-----+-----+-------+----+-------+-----+-----+----+----+-----+\n",
      "| business| 72|  37|  58| 67| 12|       31|  32|     17|      147| 44|   33|  71|       50|   53| 33|     55|   19|    1229| 37|  227|       46|    169|      54|        24|  97|   34|       56|  67|         7|    15|     26|   3|      39|   55|  13|   7|    4| 31|   38|    35|  31|       4|      23|  62|    30|      43|  30|   28|  23|  30|  19|    58| 29|      990|       235|     39|    94|  26|     46|215|  19|   113| 42|    26|       31|    26|   85|      31|  12|      12|     20|      14|  98|   44|      10|     68|      77|     123|   18|     20|     38|    23|  41|        62|  21|   75| 43|    12| 37| 22|  105|   28|     24|  32|    123|   30|   42|  14|  56|   39|\n",
      "|  support|161|   7|  38| 10|  8|       21|  26|     26|      118| 61|   39|  28|       29|   41|  7|      4|   29|      20| 11|   36|       22|     80|      20|        15|  25|   15|       31|  19|        14|    13|     25| 101|      30|   34|  13|  16|   19| 22|   16|    45|  15|       9|     126|  42|    49|      17|  19|   13|  19|  22|  16|    10| 16|      765|       118|      4|    34|  12|      6|138|  47|    34|109|    12|       37|     8|   15|      41|   5|      17|     26|      19|  61|    5|      44|     33|      38|      36|   29|    821|     11|    25|  34|        22|  19|   67| 28|    61| 18| 38|   96|   23|     85|  58|    330|    5|   69| 104|  33|   23|\n",
      "| services| 22|  14|  53| 65|  2|       11|  24|     20|      156| 22|    8|  38|       28|  228| 14|     51|   33|      77| 30|  410|       49|    100|      27|        15|  84|   14|       66|  94|        16|     9|     22|   0|      14|   30|  18|   1|    0| 17|   37|    33|  34|       1|      23|  15|    17|       8|  25|    1|   7|  28|   8|    24| 19|      855|       128|      9|    45|  12|     41|166|  31|    99| 42|    71|       13|    11|    8|      67|   4|       9|      3|       9|  68|   41|      27|     55|     911|      87|   11|     38|      4|    19|  38|        53|   6|   86| 29|    17| 37| 48|   62|   13|     23|  14|     47|   26|   30|  26|  28|   31|\n",
      "|   people|112|  11|   8|  8| 10|       15|  16|      8|       31| 27|   14|  15|        5|   12| 11|     11|   19|      26|  8|   15|        7|     54|      14|        10|   5|    9|        7|   6|        12|    14|     38|  15|       6|   28|  36|   6|    9| 42|   15|    15|  24|      18|      19|  17|    20|      21|  32|    4|   8|  30|  44|     8| 13|      413|        89|     23|    11|   2|      8|119|   8|    17| 51|    27|       23|   494|   11|       9|  15|       3|     14|      17|  48|    8|       8|     16|      11|      40|    6|      8|     22|    33|  13|         8|  12|   24|  9|    39|  8| 41|   52|   31|     15|  17|    162|   29|   25|  23|  19|   10|\n",
      "|    years| 55|  20|  26|  5|  8|       18|  14|     14|       50| 20|   37|  18|        9|    9| 26|     39|   18|      39| 43|   49|       11|     94|      36|        22|  39|   20|        8|  14|        14|     9|     27|   6|       6|   41|  17|  19|   16| 15|   24|    51|  10|      11|      12|  68|    15|      16|  30|   11|  39|  12|  26|    38| 12|      643|        88|     19|    32|  17|     42| 77|  49|    27| 78|     6|       30|    10|   10|      14|  12|      12|     12|      15|  36|   43|      10|     13|      31|      36|    9|     23|     47|    31|  26|        22|  28|   34|113|     9| 14| 12|   31|    5|     17|  15|    120|   24|   35|  57|  33|  642|\n",
      "| hololens| 38|  23|  48|  0|  1|       10|  30|      1|       55| 50|    2|  36|       23|    2| 11|      0|   68|       4|  1|    6|       12|     65|      39|        29|   3|   27|       16|   3|       143|    87|     31|   1|       7|   96|   3|  12|   23| 31|   15|    14|  11|     795|       2|  31|    17|       8|  25|    1|  19|  22|   3|    15| 23|      615|       208|      3|     5|   6|      3|118|  22|     3| 56|     5|        6|    18|    6|      32|   1|      13|     16|      15|  12|    3|       1|      4|       1|      24|   10|      9|     10|    11|  25|        48|  21|   61| 24|    12| 27| 44|   25|   39|     33|  29|     72|   30|   29|  23|  49|   11|\n",
      "|    giant| 59|  11|  15|  3| 13|       20|  15|     15|       59| 33|   18|  16|        7|    8| 19|     36|   20|      38| 21|   41|       33|     67|      13|        12|  20|   26|        7|  42|        16|     8|     34|  12|      10|   32|   8|  12|    8|  9|  581|    10|  19|      15|      35|  21|    27|      38|  24|    9|  17|  19|   6|    16| 13|      563|        77|     19|    40|  21|     28|127|  15|    11| 33|    17|       10|    15|   21|      11|  30|      23|      6|      19|  69|   25|      13|      7|      37|     259|   20|     16|     47|    18| 218|       105|   7|   14| 13|     8| 58|  7|   33|   10|      8|  11|     96|   17|   21|  23|  29|   24|\n",
      "|operating|332|  26|  13|  1|  6|       23|  12|     31|       45| 29|   12|  34|       36|   16| 14|     14|   40|      31|  9|   28|        8|     92|      43|         4|  54|    3|        8|  26|        15|     3|     66|  18|      32|   45|  23|   5|    4| 41|   10|    12|  15|       6|      22|  26|    90|      23|  17|   17|  30|  15|  13|    32| 13|      548|       168|     41|    87|   8|     16|199|   9|    23| 51|     1|      597|    23|   13|      14|  14|      10|     32|      37|  47|   20|      12|     19|      13|      75|   27|     37|      8|   469|   6|         9|  33|   20| 25|    60|  7| 29|  107|   15|     57|  20|    565|   16|   24|  16|  34|   30|\n",
      "|     corp| 33|  21|  75| 12|  6|       20|  26|      6|      131|  4|   26|   3|       20|   26| 24|     88|   19|      97| 35|  118|       65|    123|      74|        26| 805|   18|       24|  50|         5|    16|     18|   8|       4|   21|  11|  29|    0|  4|   20|    32|  27|       3|      17|  14|    39|      23|  19|    6|  15|  28|   7|    58| 23|      892|        53|     49|    30|  70|     69|122|  21|    28| 55|    25|       54|     5|   13|      32|   2|      12|      4|       6| 181|   65|      11|     21|      84|     126|    9|     25|      6|    48|  34|        60|  13|   32| 35|     7| 69|  9|   30|   17|     21|  42|     65|   18|   52|  60|  25|   39|\n",
      "|companies| 26|  16|  22| 16|  2|       22|  12|      7|       54| 10|   77|  23|       15|   35| 25|     23|   23|      46| 16|   86|      670|     61|      11|         3|  65|   19|       21|  93|         7|     8|     27|   2|      14|   37|   7|   4|    2| 17|   33|   112|  50|      12|      47|  22|    23|      16|  54|    0|  19|  13|  14|    36| 11|      608|        68|      6|    21|  21|     22|129|  10|    32| 56|    33|        8|     7|    4|      13|   0|       6|      7|      13|  55|   17|      26|     35|      49|      57|    9|     22|      5|     7| 122|        94|  16|   24| 76|     4| 80| 21|   24|   26|     11|  17|     30|   33|   34|   3|  23|   11|\n",
      "|     said|175|  12|  42| 23| 19|       28|  51|     26|       69| 32|   45|  23|       21|   28| 18|    103|   24|      98| 70|  137|       55|    249|      94|        33| 181|   26|       42|  86|        34|    13|     79|  25|       5|   40|  28|  29|   23| 23|   69|    37|  37|      12|      25|  69|    40|      18|  34|   27|  32|  28|  23|    45| 35|     1259|       151|    118|    60|  22|    130|166|  38|    44|118|    41|       47|    48|   39|      43|  32|       9|     26|      18|1228|  111|      33|     38|      68|     123|   18|     61|     53|    44|  72|        68|  22|   58| 48|    80|105| 28|  104|   41|     35|  67|    299|   21|  159| 115|  80|   36|\n",
      "|   market| 42|  31|  41|  9| 21|       35|  12|     19|       41|  7|   57|  14|       17|   18| 22|     37|   10|      58| 23|   71|       36|     59|      42|         5|  58|   19|       12|  30|         6|    15|     24|   6|       5|   37|   6|  25|    9| 14|   16|    71|  10|      15|      12|  28|    31|      11|  19|   26|   2|  24|  20|   702| 20|      581|       150|     29|    68|  26|     26| 97|  12|    14| 71|     4|       32|     8|   28|      15|  41|      10|      8|      16|  45|   25|       2|     21|      24|      52|    0|     10|     63|    31|  18|        43|  22|   24| 40|     2| 26|  4|   19|    4|     16|  15|     88|   14|   22|  50|  46|   38|\n",
      "|        4| 34|  16|  48|  0|617|       12|  29|      1|       42|  2|   43|   3|       39|    2| 12|     10|    6|      12|  8|    1|        2|     41|      10|        12|   6|    4|        8|   2|         0|    37|     66|   0|      14|   50|  19|  14|   12| 14|   13|     2|   6|       1|       4|  30|    34|      32|  30|   10|   7|  16|  11|    21| 17|      493|       113|     10|    12|  10|      8|104|  11|     2| 87|     9|        6|    10|    5|       7| 581|       8|     17|      36|  19|    8|       1|      2|       2|      14|   21|      8|    736|    11|  12|         9|  23|   44| 16|    27| 17|  3|   27|    7|     23|  10|     48|    1|    6|  79|  29|    8|\n",
      "|    using| 73|   4|  18| 27|  7|       11|  13|     27|       53| 49|    8|  32|       17|   31|  7|      6|   32|      28| 18|   62|       26|     44|      29|         3|  17|   12|       23|  75|        30|    20|     21|  22|      11|   24|  13|  13|   13| 28|   10|    23|  32|      39|      32|  17|    18|       4|  20|   16|  11|  24|   7|     4| 21|      505|        92|      5|    23|   5|     21|116|   7|    52| 46|    12|       15|    31|   10|      47|  14|      10|      7|      15|  41|   22|      19|     16|      13|      24|   14|     23|     18|    24|  19|        48|  16|   20| 15|    22| 22| 43|   70|  517|     25|  11|    134|    8|   37|  16|  20|    5|\n",
      "|   system|297|  20|  43|  6| 11|       21|  16|     30|       54| 29|    9|  28|       37|   17| 15|      6|   39|      23|  9|   33|        7|     81|      41|         7|  48|   12|        6|  46|        12|     9|     62|  17|      39|   48|  23|   8|    6| 36|   18|    12|  15|      11|      15|  20|    87|      33|  19|   14|  30|  10|  13|    31| 10|      608|       191|     32|    73|   7|     14|253|  21|    37| 76|     3|      469|    33|   10|      26|  16|      11|     35|      40|  44|   17|      21|     20|      19|      75|   25|     25|     17|   757|   7|        22|  31|   30| 14|    76|  9| 26|  104|   24|     74|  17|    522|   18|   20|  64|  31|   31|\n",
      "|  surface| 83|  80|  49|  5|736|       84| 115|      4|      106| 12|  107|  16|       72|    3| 37|      8|   14|      38| 14|    7|        5|    133|      37|         4|   6|   55|       49|  23|         1|   143|    257|   3|      27|  127|  27|  28|    9| 46|   47|    11|  19|      10|       5| 118|    84|      62|  89|   43|  41|  32|  56|    63| 66|     1589|       445|     47|    26|  19|      6|364|  40|    14|136|    19|        8|    22|  151|       5|1423|      28|     66|     101|  53|    6|       4|      7|       4|      49|   52|     11|   2962|    17|  45|        24|  84|  117| 70|    84| 47| 23|   95|   18|     59|  53|    170|   12|   43|  37| 128|   47|\n",
      "| released|216|  43|  65| 21| 36|       18|  38|     42|       33|106|   14|  36|       29|   29| 12|      4|  102|      14|  4|   18|       13|    104|      16|         4|   6|   10|        7|  14|        22|    19|     47|  50|      42|   83|  30|   9|   19| 16|   19|    18|  20|      15|      27|  66|    59|      14|  31|   41|  18|  21|  14|    16| 16|      829|        81|     14|    59|  15|      5|268|  27|    66| 85|     4|       37|    17|   18|      20|  51|      45|     38|     781|  18|    5|      45|     11|       9|      47|   16|     19|    101|    40|  16|        18|  22|  126| 35|   182| 10|  5|   71|   15|     89|  51|    364|    6|   18|  69|  59|   15|\n",
      "| security| 86|  12|  41| 49|  1|       37|  23|      1|       78| 23|    8|   9|       13|   51|  8|      3|    2|      10| 25|   92|       26|     68|      30|         5|  11|   18|       23|  47|         1|     6|     14|  35|      30|   29|  12|   0|    0|  9|   13|    16|  20|       1|      91|  38|    32|       7|  10|    2|  21|  14|  12|     2| 14|      604|       100|     14|    17|   3|     29|115|  16|    73| 25|    19|       12|     8|   10|      19|   1|      15|     13|      45|  33|   26|     784|     30|      27|      57|    1|     44|      4|    21|  20|        38|  26|   62| 20|    41|  9| 23|   64|   19|     10|  26|    194|   11|   17|   2|  47|   10|\n",
      "|    would|103|  16|  30| 15|  6|       23|  21|     31|      128| 31|   39|  46|       33|   10| 16|     22|   24|      42| 16|   33|       34|    159|      33|        16|  52|   22|       16|  55|        43|    28|     41|  16|      12|   53|  17|  27|   33| 23|   21|    35|  45|      29|      16|  94|    23|      15|  55|   25|  21|  40|  25|    22| 22|      687|        97|     19|    38|  15|     32|119|  19|    34|113|     8|       24|    25|   24|      28|  12|      17|     16|      18| 159|   25|      17|     14|      30|      46|   37|     69|     43|    20|  45|        28|  14|   35| 35|    19| 51| 20|   64|   37|     21|  43|    223|   16|  750| 110|  91|   35|\n",
      "|   online| 38|  10|  19| 30|  9|       12|   8|      2|       70| 13|    9|  14|       28|   17|  6|     10|   14|      26|  3|   34|       33|     74|      10|         8|  25|    7|       16|  42|        12|     9|     20|   8|       8|   25|  38|   9|   15| 19|   17|    21|  16|       5|      17|   9|    12|      23|  19|   13|   9|  20|  12|     4| 18|      456|        76|     14|    13|   5|      0| 93|   9|    72| 38|   512|        1|    27|    3|      19|   6|      15|     10|       4|  41|    0|      19|     28|      71|      47|   58|     12|     19|     3|  18|        11|  13|   40| 12|    26| 37| 38|   59|   12|     11|  16|     62|   14|    8|  32|  10|    6|\n",
      "+---------+---+----+----+---+---+---------+----+-------+---------+---+-----+----+---------+-----+---+-------+-----+--------+---+-----+---------+-------+--------+----------+----+-----+---------+----+----------+------+-------+----+--------+-----+----+----+-----+---+-----+------+----+--------+--------+----+------+--------+----+-----+----+----+----+------+---+---------+----------+-------+------+----+-------+---+----+------+---+------+---------+------+-----+--------+----+--------+-------+--------+----+-----+--------+-------+--------+--------+-----+-------+-------+------+----+----------+----+-----+---+------+---+---+-----+-----+-------+----+-------+-----+-----+----+----+-----+\n",
      "only showing top 20 rows\n",
      "\n",
      "obama\n"
     ]
    },
    {
     "name": "stderr",
     "output_type": "stream",
     "text": [
      "                                                                                \r"
     ]
    },
    {
     "name": "stdout",
     "output_type": "stream",
     "text": [
      "Matrix: obama Title\n",
      "+-----------+----+------+-------+--------------+-------+---------+------+-------+----+------+----+------+------+-----+--------+------+-------+-------+--------+-------+-----+-----+----+----+----+------+---------+-----+-----+-----+---+---+----+----+-------+---------+--------+-----+-----------+----+----+-------+----+---+-------+------+----+-----+----+--------+--------+---+----+-------+-------+-----+------+---+-------+-----+----+----+-----+------+---------+----------+-----------+-------+----+--------+------+--------+----+-----+------+-----+------+-------+-----+---+-----+------+-----+----+-------+-----+------+-----+-----+---+-----+-----+---+-----+-----+----+-----+-----+----+----+\n",
      "|   col__col|2016|action|address|administration|america|americans|attack|attacks|back|barack|bill|brexit|budget|calls|campaign|change|climate|clinton|congress|control|could|court|cruz|cuba|deal|donald|executive|fight|final|first|gop|gun|guns|help|hillary|hiroshima|historic|house|immigration|iran|isis|islamic|last|law|leaders|legacy|make|makes|meet|michelle|national|new|next|nominee|nuclear|obama|obamas|one|orlando|paris|pick|plan|plans|policy|president|republican|republicans|sanders|says|security|senate|shooting|show|signs|speech|state|summit|supreme|syria|tax|tells|terror|trade|trip|trudeau|trump|trumps|union|urges| us|visit|wants|war|watch|white|wont|world|would|year|zika|\n",
      "+-----------+----+------+-------+--------------+-------+---------+------+-------+----+------+----+------+------+-----+--------+------+-------+-------+--------+-------+-----+-----+----+----+----+------+---------+-----+-----+-----+---+---+----+----+-------+---------+--------+-----+-----------+----+----+-------+----+---+-------+------+----+-----+----+--------+--------+---+----+-------+-------+-----+------+---+-------+-----+----+----+-----+------+---------+----------+-----------+-------+----+--------+------+--------+----+-----+------+-----+------+-------+-----+---+-----+------+-----+----+-------+-----+------+-----+-----+---+-----+-----+---+-----+-----+----+-----+-----+----+----+\n",
      "|     legacy|  15|     0|      0|             1|      2|        0|     1|      0|   0|    11|   5|     3|     1|    1|       3|     3|     21|     23|       0|      2|    4|    9|   1|   2|   5|     0|        2|    9|    7|    4|  1|  1|   0|   0|     11|        3|       0|    2|         19|   4|   1|      0|   5|  0|      0|   311|   2|    1|   0|       5|       2|  2|   4|      2|      9|  123|   183|  3|      0|   12|   0|   1|    1|     9|       36|         0|          2|      5|   1|       5|     0|       0|   0|    0|     1|    4|     2|      2|    1|  0|    1|     2|    2|   1|      0|   10|     1|    4|    0|  4|    8|    0|  6|    1|    2|   2|    2|    1|   2|   0|\n",
      "|      trump|  12|     3|      7|             4|     13|        7|     9|     17|  15|    65|   6|    17|     0|   14|      32|     6|     12|    100|       1|      5|   10|   14|  46|   2|   8|   314|       13|    4|   10|    6| 56| 10|   9|   7|     36|        4|       1|   10|          9|   7|  24|      2|   6|  2|     20|    10|  12|    5|   2|      13|       2| 12|   3|      9|     10| 1000|   146| 21|      9|    1|   6|  14|    4|    15|      106|        13|         13|     19| 111|       1|     2|       7|  26|    0|    28|   14|     4|     13|    0|  1|    4|     5|   15|   6|      1| 1240|     0|   14|    4| 27|    9|    5|  6|   11|   11|  22|   29|   18|   2|   0|\n",
      "|republicans|   3|     1|      1|             4|      1|        1|     2|      4|   3|     3|   2|     0|     6|    4|       4|     0|      8|      4|       6|      6|    3|   31|   0|   0|   3|     6|        1|    6|    2|    1|  6|  7|   1|   3|      1|        0|       0|   16|          1|   3|   4|      2|   3|  3|      0|     2|   2|    1|   4|       0|       0|  6|   2|      4|      1|  179|    65|  4|      1|    9|   8|   7|    0|     0|       12|         0|        285|      0|   8|       2|    20|       0|   3|    0|     0|    4|     0|     31|    1|  0|    1|     2|    1|   0|      0|   13|     5|    1|    2|  6|    0|    1|  0|    1|    4|   1|    1|    2|   1|   4|\n",
      "|     trumps|   0|     0|      0|             1|      2|        0|     3|      6|   0|     4|   1|     0|     0|   10|       9|     0|      2|      5|       0|      0|    0|    0|   0|   0|   0|    54|        0|    0|    4|    1| 10|  0|   0|   1|      1|        1|       0|    1|          1|   0|   0|      1|   0|  0|      5|     1|   2|    1|   0|       0|       1|  3|   0|      0|      6|  175|    38|  5|      5|    1|   0|   9|    5|     7|       11|         4|          5|      1|  12|       3|     0|       2|   7|    0|     5|    0|     1|      1|    0|  1|    0|     1|    0|   0|      0|    0|   234|    0|    3|  4|    1|    1|  0|    1|    1|   1|   13|    3|   0|   0|\n",
      "|    leaders|   1|    12|      0|             1|      2|        0|     0|      0|   2|    12|   1|     1|     3|    9|       5|     2|     11|      3|       2|      0|    0|   19|   0|   0|   1|     6|        1|   15|    3|    3| 33|  0|   0|   1|      1|        2|       0|   21|          0|   0|  15|      8|   0|  0|    309|     0|   1|    0|  46|       1|       0|  1|  16|      2|     22|  283|    20|  0|      0|    8|   0|   2|    1|     1|       11|        14|          0|      0|  18|      13|     4|       0|   0|    0|     1|    8|    37|      6|    1|  0|    6|    10|    9|   1|      1|   20|     5|    0|    2| 18|    1|    0|  0|    0|   23|   2|   59|    1|   4|   0|\n",
      "|      court|   1|    11|      0|            27|      0|        3|     0|      1|   8|     2|   0|     0|     0|    8|       5|     7|     20|     14|       2|      1|   26|  908|   2|   0|   0|     0|        8|   40|    3|    3| 78|  3|   0|   0|      5|        0|       0|   14|        126|   0|   0|      0|   3| 12|     19|     9|  10|   11|  14|       1|       0| 10|  11|    151|      1|  697|   189|  2|      0|    0| 106|  71|    5|     2|       30|        17|         31|      0|  45|       0|    43|       0|   0|    1|     4|    0|     0|    675|    0|  0|    1|     0|    1|   0|      0|   14|     0|    0|   14| 39|    3|    3|  5|    3|   21|  12|    0|   12|   3|   0|\n",
      "|      tells|   0|     0|      0|             5|     11|        9|     2|      2|  10|     7|   0|     3|     0|    0|       0|     5|      1|      2|       3|      1|    0|    1|   1|   2|   2|     1|        0|    1|    0|    3|  0|  2|   0|   0|      3|        1|       3|    3|          0|   0|   0|      6|   1|  1|      6|     1|   1|    3|   0|       9|       1|  3|   1|      2|      0|  185|     2|  2|      2|    2|   1|   0|    0|     1|       12|         4|          1|      0|   2|       2|     0|       0|   1|    0|     1|    8|     0|      1|   14|  0|  190|     6|    0|   2|      2|    4|     0|    1|    0| 21|    1|    0|  1|    2|    1|   4|    7|    0|   0|   0|\n",
      "|     donald|   5|     0|      1|             0|      2|        1|     6|      2|   5|    60|   3|     3|     0|    6|      12|     1|      2|     26|       0|      1|    3|    0|  14|   1|   1|   380|        2|    1|    4|    0| 19|  1|   1|   1|     26|        1|       0|    3|          0|   0|   9|      2|   3|  0|      6|     0|   0|    2|   0|       5|       0|  3|   2|      1|      3|  295|    41|  7|      7|    0|   0|   3|    6|     1|       67|         3|          6|      7|  42|       0|     0|       4|   5|    0|     7|    6|     0|      0|    0|  0|    1|     1|    1|   1|      1|  314|    54|    5|    1| 10|    1|    0|  0|    2|    5|   9|    7|    6|   1|   0|\n",
      "|     barack|  12|     3|     11|             4|     11|        3|    10|      7|  15|  1187|   8|    15|     2|   10|      11|     8|     14|     45|       3|      9|   15|    2|   6|  12|   4|    60|        3|   10|    8|   19|  6| 22|   3|   6|     46|       12|       6|   35|          0|   1|  22|      4|  11|  2|     12|    11|  12|    7|  20|      57|       4| 21|  10|      0|      5|  994|   165| 10|      6|    6|   0|   9|    9|     8|      166|         7|          3|     15|  57|       6|     3|       5|   9|    0|     9|   16|     4|      1|   14|  3|    7|     9|    5|   8|     10|   65|     4|    8|    4| 88|   35|    4|  3|   30|   37|   2|   19|   12|   7|   2|\n",
      "|       zika|   2|     6|      0|             7|      0|        0|     0|      0|   2|     2|  18|     0|     0|   13|       0|     0|      2|      1|      66|      0|    2|    0|   0|   3|   0|     0|        0|   33|    0|    0|  3|  0|   0|   6|      1|        0|       0|    6|          0|   0|   0|      0|   0|  0|      0|     0|   1|    0|   1|       0|       0|  1|   0|      0|      0|  159|    23|  0|      0|    0|   0|   4|    1|     0|       13|         1|          4|      0|  14|       0|     4|       0|   0|    1|     0|    0|     0|      0|    0|  0|    0|     0|    1|   1|      0|    0|     0|    0|    9|  4|    0|   15|  0|    0|    1|   2|    0|    1|   0| 182|\n",
      "|   shooting|   0|     5|      3|             1|      0|        3|     5|      0|   1|     5|   0|     0|     0|   26|       0|     0|      0|      2|       0|     14|    0|    0|   0|   0|   0|     4|        0|    0|    0|    2|  0| 36|   4|   0|      1|        0|       0|    2|          0|   0|   1|      1|   0|  2|      0|     0|   0|    0|   6|       0|       0|  0|   2|      0|      0|  224|    10|  1|     76|    0|   0|   0|    0|     0|       20|         0|          0|      0|  26|       0|     1|     242|   0|    0|     2|    0|     0|      0|    0|  0|    0|    17|    0|   2|      0|    7|     2|    0|    2|  9|   10|    0|  0|    4|    2|   2|    0|    0|   0|   0|\n",
      "|  president|  36|    10|     42|            13|     21|       10|    11|     11|  10|   166|  21|     9|    17|   57|       6|    13|     23|     69|      21|     16|   15|   30|  13|  48|  15|    67|       12|   17|   31|   73| 18| 41|  19|  11|     66|       36|      22|   60|         10|   6|  40|      7|  27| 10|     11|    36|  19|   12|  39|      24|      19| 45|  37|      9|     10| 2004|   427| 20|     27|   14|   7|  30|    7|     8|     2528|        12|         12|     28|  92|      19|     4|      20|  18|   31|    26|   38|    12|     36|    4| 12|   12|    21|    9|  19|     11|  106|    11|   23|    9|129|  132|   19| 11|   72|   73|  31|   13|   15|   8|  13|\n",
      "|      makes|   1|     1|      2|             2|      4|        0|     2|      3|   1|     7|   1|     7|     0|    0|       3|     1|      0|      2|       1|      1|    0|   11|   2|   3|   0|     2|        1|    1|    1|   11|  2|  3|   2|   0|      1|       12|      14|    3|          0|   0|   3|      2|   3|  0|      0|     1|   0|  185|   0|      11|       3|  4|   0|      3|      0|  161|    15|  2|      1|    5|   7|   1|    0|     3|       12|         0|          1|      0|   8|       2|     3|       0|   4|    0|     2|    2|     0|     11|    1|  1|    3|     2|    1|   8|      0|    5|     1|    1|    0| 20|   31|    0|  1|    0|    2|   1|    1|    3|   0|   0|\n",
      "|       show|   1|     2|      0|             2|      0|        0|     0|      1|   0|     9|   2|     0|     0|    2|       3|     2|      1|      1|       1|      2|    3|    0|   0|   2|   0|     5|        2|    0|    3|    3|  4| 25|   0|   6|      3|        1|       0|    3|          0|   0|   0|      0|   0|  0|      0|     0|   0|    4|   2|       6|       0|  4|   0|      1|      2|  172|    19|  0|      0|    0|   0|   0|    4|     2|       18|         0|          3|      1|  22|       1|     2|       0| 212|    1|     0|    3|     0|      0|    0|  0|    1|     2|    5|   0|      2|   26|     7|    2|    1|  4|   12|    1|  1|    1|    2|   2|    6|    1|   0|   0|\n",
      "|      signs|   0|     0|      0|             1|      0|        0|     1|      0|   0|     0|  91|     0|     4|    0|       1|     0|      0|      0|       1|      0|    0|    1|   0|   2|   0|     0|        5|    0|    0|    2|  0|  4|   0|   1|      0|        0|       1|    7|          1|   2|   0|      5|   0| 57|      0|     0|   0|    0|   0|       2|       3|  3|   0|      0|      2|  212|     4|  0|      4|    0|   0|   4|    0|     0|       31|         0|          0|      0|   3|       0|     0|       0|   1|  216|     0|    5|     0|      1|    0|  4|    0|     0|   15|   1|      0|    0|     0|    0|    0| 10|    0|    1|  0|    0|    7|   0|    0|    0|   1|   1|\n",
      "|      union|  19|     0|     62|             0|      4|        2|     0|      0|   2|     8|   0|     0|     0|    4|       2|     2|      3|      1|       6|      0|    0|    0|   3|   0|   0|     5|        0|    0|   73|    3|  5|  3|   0|   0|      0|        0|       0|    1|          0|   0|   1|      0|  34|  0|      0|     4|   0|    1|   4|       9|       1|  1|   0|      0|      0|  139|   123|  2|      0|    0|   0|   1|    1|     1|       23|         3|          1|      0|   6|       1|     0|       0|   2|    0|    22|  243|     0|      0|    0|  0|    1|     0|    0|   1|      0|   14|     0|  268|    1|  6|    0|    0|  2|    6|    1|   0|    0|    0|   2|   0|\n",
      "|      state|  22|     1|     70|             2|     12|        5|     2|     12|   4|    16|   2|     0|     2|   11|      13|     2|      5|      5|       6|      1|    0|    0|   4|   1|   1|     6|        0|   31|   78|   10| 10|  4|   0|   4|      6|        0|       0|    5|          0|   3|   5|    223|  36|  0|      8|     4|   8|    2|  12|      17|      10|  4|  15|      0|      0|  419|   178|  4|      0|    3|   0|   4|    1|     2|       38|         6|          4|      1|  23|      16|     1|       0|   3|    5|    24|  623|     8|      0|   20|  0|    8|     3|    0|   0|     15|   14|     0|  243|    6| 42|   26|    3|  7|    8|    5|   5|    2|    2|   2|   0|\n",
      "|     terror|   1|    10|      8|             1|      2|        6|    24|     23|   0|     9|   1|     0|     0|   16|       0|     2|      6|      6|       1|      1|    1|    0|   4|   0|   1|     1|        0|   13|    0|    0|  2|  3|   1|   0|      1|        0|       0|    4|          0|   1|   8|      7|   1|  0|     10|     2|   1|    2|   3|       1|       0|  9|   0|      0|     11|  215|    33|  1|     26|   10|   0|   1|    0|     2|       21|         2|          2|      0|  27|      10|     1|      17|   2|    0|     8|    3|     2|      0|    2|  0|    6|   259|    0|   0|      0|    5|     1|    0|    1| 19|    0|    0|  9|    3|    3|   1|   13|    0|   1|   0|\n",
      "|   security|   1|    13|      3|             2|      0|        0|     2|      2|   0|     6|   4|     0|     0|    4|       2|     4|      8|      7|       0|      0|    3|    0|   2|   0|   2|     0|        0|    2|    5|    0|  2|  1|   2|   1|      1|        0|       0|    1|          0|   1|   6|     14|   4|  0|     13|     5|   2|    2|  14|       0|      52|  1|   0|      0|     33|  199|    53|  1|      0|    5|   0|   2|    0|     2|       19|         0|          2|      6|  10|     260|     0|       0|   1|    0|     1|   16|    22|      0|    1|  0|    2|    10|    6|   1|      0|    1|     3|    1|    1| 16|    4|    1|  0|    3|    0|   1|    6|    0|   0|   0|\n",
      "|       cuba|   7|     0|      2|            20|      4|        1|     2|      5|   2|    12|   0|     0|     0|   10|       0|    14|      0|      0|       3|      0|    3|    0|   2| 453|   4|     1|        0|    0|    0|    5|  3|  0|   0|   3|      1|        0|      82|   11|          0|   5|   0|      0|  19|  0|      0|     2|  14|    3|  12|       0|       0| 16|  17|      0|      0|  353|    96|  1|      0|    0|   0|   2|    7|     8|       48|         1|          0|      0|  23|       0|     0|       0|   2|    2|     4|    1|     1|      0|    0|  0|    2|     0|    4| 107|      0|    2|     0|    0|    0| 39|  135|    7|  4|    1|    9|   1|    0|    0|   3|   3|\n",
      "+-----------+----+------+-------+--------------+-------+---------+------+-------+----+------+----+------+------+-----+--------+------+-------+-------+--------+-------+-----+-----+----+----+----+------+---------+-----+-----+-----+---+---+----+----+-------+---------+--------+-----+-----------+----+----+-------+----+---+-------+------+----+-----+----+--------+--------+---+----+-------+-------+-----+------+---+-------+-----+----+----+-----+------+---------+----------+-----------+-------+----+--------+------+--------+----+-----+------+-----+------+-------+-----+---+-----+------+-----+----+-------+-----+------+-----+-----+---+-----+-----+---+-----+-----+----+-----+-----+----+----+\n",
      "only showing top 20 rows\n",
      "\n"
     ]
    },
    {
     "name": "stderr",
     "output_type": "stream",
     "text": [
      "                                                                                \r"
     ]
    },
    {
     "name": "stdout",
     "output_type": "stream",
     "text": [
      "Matrix: obama Headline\n",
      "+-----------+----+-------+--------------+--------+---------+---------+----+------+------+--------+------+-------+-------+---+----------+--------+-----+-------+-----+----+---+----------+------+---------+-------+-----+-----+------+------+---+----+-------+-----+-------+-------+----+----+---+-------+----+----+---+-------+--------+--------+------+--------+-------+----+----+----+-------+-------+-----+------+------+---+-----+----+------+----+------+---------+---------+------------+-----+-----+----------+-----------+----+--------+------+----+--------+------+------+-----+------+------+------+-------+--------+----+----+-----+-------+---+-----+------+----+---+-----+----------+---------+----+-----+-----+-----+----+-----+\n",
      "|   col__col|2016|address|administration|american|americans|announced|  ap|barack|called|campaign|change|climate|clinton|cnn|conference|congress|could|country|court|cuba|day|democratic|donald|executive|federal|final|first|former|friday|gun|help|hillary|house|islamic|justice|lady|last|law|leaders|made|make|may|meeting|michelle|minister|monday|national|nations| new|news|next|nominee|nuclear|obama|obamas|office|one|paris|part|people|plan|policy|political|president|presidential|press|prime|republican|republicans|said|saturday|saying|says|security|senate|speech|state|states|summit|sunday|supreme|thursday|time|told|trump|tuesday|two|union|united|  us|use|visit|washington|wednesday|week|white|world|would|year|years|\n",
      "+-----------+----+-------+--------------+--------+---------+---------+----+------+------+--------+------+-------+-------+---+----------+--------+-----+-------+-----+----+---+----------+------+---------+-------+-----+-----+------+------+---+----+-------+-----+-------+-------+----+----+---+-------+----+----+---+-------+--------+--------+------+--------+-------+----+----+----+-------+-------+-----+------+------+---+-----+----+------+----+------+---------+---------+------------+-----+-----+----------+-----------+----+--------+------+----+--------+------+------+-----+------+------+------+-------+--------+----+----+-----+-------+---+-----+------+----+---+-----+----------+---------+----+-----+-----+-----+----+-----+\n",
      "|     sunday|  14|    136|            14|      34|       53|       15|  14|   398|    26|       9|     7|     11|     17| 21|        13|      11|   19|     22|    6|  61| 11|         9|    25|        4|      8|    9|   76|    31|    11| 17|  11|     20|   84|     52|     10|  16|  23| 10|     16|  19|  41|  5|     12|      18|      13|    13|      13|      8|  42|  47|  17|     11|     25|  723|    99|    87| 33|   27|   7|    53|  15|    14|       12|      685|          47|   11|   21|        33|         12| 161|       5|    30|  15|      16|     7|    41|   64|    40|    15|   746|      7|       2|  30|  22|   22|      4| 27|   18|    46| 228| 20|   75|        64|        3|  18|   85|   25|   44|   7|   26|\n",
      "|      trump|  45|     29|            25|      34|       14|        2|  18|   438|    38|     115|     8|     14|    113| 49|        20|       4|   17|     13|    8|   1| 24|        43|   880|       19|      2|   23|   44|    29|    80| 16|  13|     89|   95|     22|      3|   6|  21|  0|     44|  27|  11| 20|     12|      12|       3|    34|      21|      5|  46|  27|  19|    112|     23| 1021|   127|    31| 45|    1|   4|    35|   8|    23|       36|      794|         243|   23|    4|       379|         40| 199|      22|    52|  72|      15|     7|    50|   43|    20|     9|    22|      6|      45|  11|  37| 1212|     98| 12|   26|    23| 145|  8|   11|        84|       46|  21|   87|   45|   67|   7|   18|\n",
      "|republicans|  16|     15|            31|      17|       14|        5|  44|   317|    24|      11|    10|     15|     15| 15|         8|      43|   21|      4|  216|   0|  4|        17|    37|       23|     16|   18|   22|    17|    22| 16|  15|     17|   98|      6|     61|   1|  14| 31|     10|  13|  17|  7|     10|       1|       1|    22|       6|     12|  22|  14|  15|    116|      2|  642|   106|    18| 30|   19|   1|    13|  22|     7|       41|      516|          28|    8|    1|        31|        672| 124|      19|    23|  23|       9|   181|     3|   26|    19|     3|    12|    185|      34|  12|  21|   40|     56| 10|   12|    16|  70|  6|    1|        94|       83|   9|   69|    2|   58|  21|   31|\n",
      "|     people|  18|     52|            87|     120|       64|       30|  82|   554|    68|      14|     7|     10|     17| 25|        24|      28|   34|     40|   31|  30| 46|        27|    28|       17|     26|   23|   37|     7|    97| 88|  45|     19|   94|     21|     18|   6|  39| 66|     11|  26|  28| 21|     21|      19|       4|    33|      32|     27|  55|  20|  14|      9|     13| 1118|    87|    36| 64|   28|  15|  1144|  13|    11|       11|      790|          17|   18|    3|        31|         13| 277|      56|    36|  72|      24|     6|    31|   44|    60|     8|    53|     17|      97|  35|  38|   35|    101| 54|   36|    71| 234| 44|   57|       101|       47|  23|  100|   39|   56|  45|   30|\n",
      "|    leaders|   7|     15|            25|      43|       12|        6|  64|   490|    40|      20|    30|     49|      4| 11|        24|       7|   17|     12|   33|   7| 25|         9|    41|        2|      4|   15|   38|     2|    80|  5|  14|      4|  147|     47|      8|   4|  23|  9|    811|   8|  27| 22|    100|       2|      29|    63|      11|     89|  23|  16|  67|     33|     59|  835|    54|    35| 18|   56|  13|    11|  11|     9|       24|      678|          39|   19|   30|        91|         10| 151|      11|    16|  21|      47|    50|    11|   65|    36|   183|    16|     28|      59|  15|  19|   44|     63| 69|    9|    47| 246| 11|   67|       151|       68|  67|  139|  138|   37|  38|   15|\n",
      "|      years|  19|     42|            83|      53|       29|       27|  44|   477|    15|      36|    31|     13|     31| 15|         5|      40|   23|     33|   14|  53| 26|         9|    17|       17|     32|   32|  155|    15|    37| 29|  13|     23|  130|      9|      4|  13|  87| 33|     15|  45|  17| 15|      4|      31|      16|    22|      20|     13| 107|  14|  66|      2|     23|  940|   140|    82| 60|    3|  16|    30|  18|    30|       31|      699|          39|   11|   19|        22|         31| 128|      17|    16|  27|      22|    14|    24|   48|    32|    11|    26|      7|      48|  47|  22|   18|     42| 81|   22|    32| 201|  7|   82|       114|       85|  28|  131|   35|   61|  40|  974|\n",
      "|      court|  21|      4|           118|      10|        8|       36|  72|   652|    18|      16|    14|     23|     26| 38|         7|      26|   62|     11| 1542|   3| 20|        15|    16|       48|    125|    4|   34|    38|    43|  3|   5|     17|   98|      0|    309|  11|  35| 61|     33|  30|  27| 14|      8|       6|       0|    56|       7|     56|  48|  22|  41|    340|      1| 1084|   276|    19| 45|    0|   3|    31|  87|    10|       55|     1001|           8|   14|    0|        98|        216| 221|      50|    32|  40|       2|   211|     2|   17|    40|     0|     6|   1104|      82|  16|  24|    8|     78| 21|    2|    23| 273| 14|   11|       226|      209|  37|  110|    2|  114|  31|   14|\n",
      "|     donald|  44|     24|            24|      28|       10|        3|  32|   492|    31|     123|     6|     10|     94| 52|        18|       4|   17|     14|   16|   1| 19|        41|  1024|       17|      6|   22|   45|    31|    81| 17|  10|    100|   80|     20|      5|   5|  27|  3|     41|  19|  15| 13|     14|       8|       2|    34|      22|      7|  45|  25|  13|    116|     30|  912|   111|    31| 40|    0|  15|    28|  10|    22|       34|      826|         260|   20|    3|       380|         37| 176|      19|    54|  76|      19|     7|    47|   39|    21|    12|    25|     11|      55|  11|  29|  880|     98| 12|   25|    24| 155|  7|   13|       101|       55|  20|   70|   42|   50|   6|   17|\n",
      "|     barack| 413|    468|           346|     372|      339|      256| 914| 12782|   319|     416|   274|    296|    418|477|       269|     416|  271|    265|  652| 334|278|       373|   492|      261|    327|  441|  935|   316|   857|457| 285|    414| 1746|    434|    259| 162| 470|290|    490| 354| 322|271|    420|     198|     432|   668|     563|    341| 782| 238| 434|    334|    327|13131|  1706|   553|612|  311| 219|   554| 227|   183|      268|    12143|         581|  249|  442|       546|        317|2012|     409|   299| 558|     439|   295|   294|  997|   552|   348|   398|    542|     782| 349| 263|  438|    940|405|  421|   618|3920|223|  966|      2095|      918| 453| 1690|  437|  707| 475|  477|\n",
      "|  president| 566|    785|           521|     641|      540|      458|1001| 12143|   480|     591|   421|    477|    660|554|       448|     651|  372|    388| 1001| 575|441|       551|   826|      538|    521|  701| 1651|   554|  1256|793| 391|    630| 2584|    691|    424| 267| 788|412|    678| 592| 479|402|    663|     261|     554|  1087|     821|    470|1240| 467| 663|    518|    482|19868|  2985|   855|931|  499| 353|   790| 375|   293|      401|    23229|         796|  411|  577|       885|        516|2996|     557|   463| 760|     602|   527|   494| 1557|   795|   501|   685|    863|    1188| 603| 427|  794|   1452|636|  626|   879|5004|357| 1561|      2572|     1404| 814| 2492|  617| 1011| 696|  699|\n",
      "|       said|  63|    126|           226|     110|      123|       38| 162|  2012|    92|     120|    85|     88|    131| 96|       100|     192|  127|    136|  221| 107| 90|       142|   176|       69|    102|   65|  225|    98|   323|178| 126|    105|  784|    193|    105|  28| 122| 64|    151| 102| 142| 54|    143|      41|     110|   331|     170|     78| 190| 101| 185|    102|    138| 4185|   263|   157|170|   82|  71|   277|  75|    32|       67|     2996|         181|  122|  115|       196|        124|3956|     158|    62|  37|     211|    99|    70|  275|   268|   122|   161|    184|     367|  88|  93|  199|    348|107|  117|   313|1231| 86|  281|       495|      351| 150|  774|  160|  520| 124|  128|\n",
      "|      union|  28|    383|            23|      19|       36|        9|  19|   421|    12|      22|    14|      5|      1| 20|         5|      49|   30|     33|    2|   2| 22|         4|    25|        2|      4|  288|   50|     4|    70|  6|   2|      1|   57|      9|      0|  16|  88|  1|      9|  34|  27| 10|      2|      19|      17|     8|      15|     10|  22|   7|  30|      2|      0|  665|   166|    26| 42|    0|   8|    36|   1|     5|       21|      626|          32|    5|   18|        32|         12| 117|       9|    24|  11|       5|     4|    96|  515|    39|     1|    18|      2|      23|  20|  15|   26|    134| 12|  743|    88| 178| 18|   36|       103|       14|  23|   42|   16|   64|  41|   22|\n",
      "|    meeting|  26|     13|            10|      17|        7|       12|  30|   420|    17|      19|    17|     22|     22| 16|        15|       6|    9|     11|    8|   9| 24|        19|    14|       12|      4|   10|   41|    19|    44| 45|   7|     17|  192|     25|      4|   6|  29|  5|    100|  21|  11|  8|    723|       4|      73|    69|      80|     33|  30|   7|  17|      7|     23|  785|    50|    57| 13|   30|  11|    21|   5|    10|       13|      663|          18|   23|   76|        17|         10| 143|      14|     8|  10|      95|    15|     8|   61|    29|    70|    12|      7|      78|  13|  21|   12|     56| 31|    2|    35| 234|  2|   33|       117|       51|  55|  191|   11|   17|  10|    4|\n",
      "|      state|  53|    434|           143|      50|       80|       43|  81|   997|    33|     107|    44|     39|    116| 24|        25|      66|   34|     48|   17|  23| 24|        50|    39|       12|     66|  321|  142|    94|    68| 25|  62|    120|  244|    601|     10|  41| 120| 23|     65|  37|  30| 16|     61|      57|      77|   123|      91|     50|  96|  34|  47|      7|     22| 1779|   306|    69| 86|   63|  29|    44|  17|    28|       55|     1557|          75|   28|   74|        68|         26| 275|      42|    44|  66|      87|    16|   129| 2028|   110|    49|    64|     16|      80|  34|  40|   43|    232| 40|  515|   123| 424| 38|   93|       288|      114|  81|  231|   39|  102|  72|   48|\n",
      "|   security|  23|     18|            56|      23|       26|       13|  45|   439|    18|      28|    21|     24|     11| 14|         9|       9|   15|     11|    2|   5| 12|         7|    19|        7|     24|   16|   26|    37|    84|  5|  23|     12|  139|     60|      3|   0|  38|  8|     47|  14|  17|  6|     95|       0|      38|    52|     302|     29|  51|  16|  29|      2|    134|  729|   103|    17| 26|   20|  16|    24|  10|    23|        7|      602|          11|   26|   37|        12|          9| 211|      15|     5|  41|     766|     4|     9|   87|    42|    98|    16|      1|      64|  12|  22|   15|     58| 29|    5|    50| 240| 10|   33|       165|       61|  24|  134|   49|   59|  35|   22|\n",
      "|       cuba|  12|     13|            84|      52|       20|       27|  34|   334|     8|       3|    24|      6|      1| 18|        15|      26|    5|     15|    3| 691| 16|         4|     1|        6|      1|   14|  139|    18|    14|  0|  12|      1|   35|      1|      1|  16|  47|  4|      7|  18|  35|  8|      9|      20|       1|    25|      10|      3|  56|  24|  52|      2|      2|  630|   110|    33| 48|    3|  22|    30|  25|    28|       12|      575|          18|   12|    0|         9|          0| 107|      13|     7|   9|       5|     1|     8|   23|    43|     0|    61|      4|      20|  27|  18|    1|     68| 38|    2|    44| 291| 15|  246|        58|       26|  39|   35|    6|   44|  26|   53|\n",
      "|      would|  32|     20|           155|      43|       39|       82|  48|   707|    25|      43|    34|     17|     40| 25|        18|      83|   41|     40|  114|  44| 27|        24|    50|       52|     43|   29|  107|    27|   125| 63|  73|     28|  178|     57|     41|   7|  59| 39|     37|  45|  62| 14|     17|      17|      35|    77|      43|     26| 133|  25|  62|     38|     55| 1386|   190|    47| 63|   36|  28|    56|  67|    20|       24|     1011|          42|   23|   37|        47|         58| 520|      61|    63|  40|      59|    60|    16|  102|   101|    34|    44|     89|      80|  39|  53|   67|    118| 30|   64|   113| 459| 35|   84|       193|       78|  52|  158|   31| 1500|  66|   61|\n",
      "| democratic|  31|      9|            20|       5|        5|        8|  33|   373|    15|      89|     6|      6|    240| 19|         5|      16|   19|     12|   15|   4|  8|       693|    41|        8|      5|   11|   36|    41|    37| 14|  20|    215|   99|      1|      4|   5|  11|  1|      9|  16|   5|  7|     19|       4|       4|    23|      50|      7|  43|  13|  39|     67|      0|  652|    74|    22| 18|    1|   1|    27|   0|     3|       20|      551|         189|   11|    7|        59|         17| 142|      12|    10|  23|       7|    38|    14|   50|    15|     3|     9|     13|      59|  28|  24|   43|     47| 30|    4|     6|  83|  1|   10|        57|       55|  29|   78|    5|   24|   8|    9|\n",
      "|    tuesday|  70|    131|           145|      34|       74|       86| 113|   940|    70|     106|    42|     64|     81| 48|        49|      96|   41|     38|   78|  68| 38|        47|    98|       72|     51|  139|  113|    29|     7|105|  43|     75|  303|     80|     20|  16|  78| 25|     63|  52|  33| 20|     56|      22|      34|    13|     113|     51| 132|  31|  44|     46|     17| 1616|   190|    61| 64|   72|  41|   101|  93|     8|       44|     1452|         103|   46|   34|       139|         56| 348|       3|    60|  19|      58|    54|    57|  232|    83|    33|     4|     64|       5|  45|  38|   98|   1566| 46|  134|    86| 353| 29|   92|       308|       16|  20|  277|   36|  118| 106|   42|\n",
      "|      world|  14|     24|            15|      22|       18|        7|  44|   437|    27|      13|    51|     51|      6|  8|        23|       5|   19|     10|    2|   6| 23|         5|    42|        1|      0|   20|  106|    19|   103|  2|   4|      3|   40|     28|     14|  13|  27|  9|    138|  36|  14| 27|     11|      21|      13|    26|       8|     24|  27|  10|  21|     11|    164|  761|    66|    15| 45|   63|   6|    39|   3|    23|        5|      617|          23|   12|   13|        21|          2| 160|      42|    31|  30|      49|     1|    21|   39|    44|    69|    25|      3|      51|  16|  26|   45|     36| 35|   16|    54| 229| 11|   88|        77|       29|  30|   41|  800|   31|  18|   35|\n",
      "+-----------+----+-------+--------------+--------+---------+---------+----+------+------+--------+------+-------+-------+---+----------+--------+-----+-------+-----+----+---+----------+------+---------+-------+-----+-----+------+------+---+----+-------+-----+-------+-------+----+----+---+-------+----+----+---+-------+--------+--------+------+--------+-------+----+----+----+-------+-------+-----+------+------+---+-----+----+------+----+------+---------+---------+------------+-----+-----+----------+-----------+----+--------+------+----+--------+------+------+-----+------+------+------+-------+--------+----+----+-----+-------+---+-----+------+----+---+-----+----------+---------+----+-----+-----+-----+----+-----+\n",
      "only showing top 20 rows\n",
      "\n",
      "palestine\n"
     ]
    },
    {
     "name": "stderr",
     "output_type": "stream",
     "text": [
      "                                                                                \r"
     ]
    },
    {
     "name": "stdout",
     "output_type": "stream",
     "text": [
      "Matrix: palestine Title\n",
      "+-----------+----+----+---+-----+----+--------+----+----+----+-----+--------+----+----------+--------+---+---+----+----+---+-----+-----+--------+------+------+------+----+-----+-----+-----+----+----+----+-----+-------------+------+-------+------------------+---------------+-------+---------+------+-------+------+---+----+------+------+---+-----+------+--------+---------+---+----------+---+---------+----------+-----------+------------+----------+-----+------+---------+------------+---------+--------+------+------+-------+----+------+--------+----+------+----------+--------+-----+--------+-------+------+------+-----+-----+----+-----+-----+-----+---+---+---+----------+-----+---+-----+---+----+----+-----+-----+\n",
      "|   col__col|2015|2016|  4|abbas|arab|arrested|bank|boys|call|calls|children|city|conference|conflict|day| de|dead|east| eu|first|flood|flooding|forces|france|french|gaza|greek|group|hamas|help|high|home|human|international|israel|israeli|israelipalestinian|israelpalestine|israels|jerusalem|jewish|justice|killed| la|land|latest|leader|man|media|middle|minister|netanyahu|new|occupation|one|palestine|palestines|palestinian|palestinians|parliament|peace|police|president|propalestine|recognize|refugees|report|rights|sanders|says|school|shooting|shot|soccer|solidarity|solution|state|students|support|sushma|swaraj|syria|talks|team|texas|today|trump|two| uk| un|university|urges| us|visit|war|week|west|woman|world|\n",
      "+-----------+----+----+---+-----+----+--------+----+----+----+-----+--------+----+----------+--------+---+---+----+----+---+-----+-----+--------+------+------+------+----+-----+-----+-----+----+----+----+-----+-------------+------+-------+------------------+---------------+-------+---------+------+-------+------+---+----+------+------+---+-----+------+--------+---------+---+----------+---+---------+----------+-----------+------------+----------+-----+------+---------+------------+---------+--------+------+------+-------+----+------+--------+----+------+----------+--------+-----+--------+-------+------+------+-----+-----+----+-----+-----+-----+---+---+---+----------+-----+---+-----+---+----+----+-----+-----+\n",
      "|     killed|   0|   0| 40|    0|   0|       0|   3|   0|   0|    0|      11|   0|         0|       0|  0|  0|   2|  19|  0|    0|    4|      40|     4|     0|     0|   4|    0|    1|    2|   1|   3|   2|    0|            0|    12|     16|                 0|              0|      0|        0|     0|      0|   134|  0|   0|     4|     0|  4|    1|     0|       0|        0|  2|         1|  2|       36|         0|         34|          18|         0|    0|    16|        0|           0|        0|       1|     0|     0|      1|   0|     1|       1|   1|     0|         0|       0|    0|       0|      0|     0|     0|    2|    0|   0|   34|    0|    0|  9|  0|  2|         0|    0|  3|    0|  0|   1|   4|   37|    0|\n",
      "|    israels|   0|   0|  0|    1|   1|       0|   2|   0|   0|    1|       3|   0|         0|       0|  0|  2|   0|   0|  0|    3|    0|       0|     0|     0|     4|   3|    0|    0|    0|   0|   0|   0|    0|            0|     1|      0|                 0|              0|    101|        0|     0|      1|     0|  0|   2|     0|     0|  0|    0|     0|       1|        5|  2|        10|  0|       38|         1|         17|           6|         0|    6|     0|        2|           0|        0|       0|     3|     1|      0|   0|     0|       1|   0|     0|         0|       0|    1|       0|      1|     0|     0|    1|    1|   0|    0|    0|    1|  2|  1|  7|         2|    1|  0|    0|  7|   0|   3|    0|    1|\n",
      "|      trump|   0|   0|  0|    0|   0|       0|   3|   0|   2|    2|       0|   1|         0|       9|  0|  0|   0|   0|  0|    0|    0|       0|     0|     0|     0|   0|    0|    0|    0|   0|   0|   0|    0|            0|    12|      1|                 3|             28|      1|        0|     0|      0|     0|  0|   1|     0|     1|  0|    0|     0|       0|        0|  0|         0|  5|       15|         0|          2|           1|         0|    5|     0|        1|           0|        0|       0|     0|     0|      2|   5|     0|       0|   5|     0|         0|       0|    0|       0|      2|     0|     0|    0|    0|   0|    0|    0|   65|  0|  0|  1|         0|    0|  0|    0|  0|   0|   3|    0|    0|\n",
      "|    support|   0|   0|  0|    7|   1|       0|   3|   0|   2|    2|       1|   0|         2|       1|  0|  0|   0|   0|  6|    0|    2|       0|     2|     1|     2|   2|    1|    0|    0|   1|   0|   0|    1|            5|     9|      0|                 1|              2|      1|        0|     1|      1|     0|  0|   0|     0|     0|  0|    0|     0|       1|        1|  2|         0|  0|       71|         3|         30|           4|         1|    3|     0|        5|           0|        0|       6|     1|     1|      1|   2|     1|       0|   0|     0|         1|       2|    8|       1|    145|     1|     0|    1|    1|   0|    0|    1|    2|  0|  0|  6|         2|    5|  9|    0|  0|   0|   3|    0|    3|\n",
      "|     school|   0|   0|  0|    0|   1|       6|   1|   0|   0|    0|       2|   0|         2|       0|  0|  0|   0|   1|  0|    0|    0|       0|     0|     0|     0|   2|    0|    1|    0|   2|  38|   0|    1|            0|     2|      7|                 0|              0|      0|        0|     2|      0|     1|  0|   0|     0|     0|  1|    0|     0|       0|        0|  2|         0|  2|       44|         0|          5|           1|         0|    2|    16|        0|           2|        0|       0|     3|     1|      0|   1|    74|      25|   3|     0|         0|       0|    0|       2|      1|     0|     0|    1|    0|   0|    2|    0|    0|  0|  2|  0|         0|    0|  1|    1|  0|   0|   2|    0|    0|\n",
      "|       gaza|   0|   0|  0|    1|   0|       0|  12|   0|   1|    3|       6|   3|         0|       0|  2|  4|   0|   0|  2|    2|    0|       0|     2|     0|     0| 151|    0|    1|   12|   1|   0|   3|    1|            0|    23|     27|                 0|              0|      3|        2|     1|      0|     4|  1|   1|     0|     0|  0|    1|     0|       0|        0|  4|         1|  1|       27|         1|         29|           6|         1|    0|     0|        0|           1|        0|       4|     1|     0|      0|   2|     2|       0|   1|     0|         1|       2|    2|       0|      2|     0|     0|    1|    1|   0|    0|    0|    0|  3|  0|  4|         0|    3|  0|    2|  1|   0|  11|    1|    0|\n",
      "|   children|   0|   0|  6|    0|   1|       1|   0|   0|   2|    0|      79|   0|         0|       1|  1|  0|   2|   0|  0|    1|    4|       6|     2|     0|     0|   6|    0|    2|    1|   0|   0|   0|    0|            0|     9|     13|                 0|              1|      3|        0|     1|      0|    11|  0|   0|     0|     0|  3|    1|     0|       0|        1|  3|         0|  2|       27|         5|         29|           1|         0|    1|     2|        0|           0|        0|       0|     0|     1|      0|   1|     2|       0|   0|     0|         0|       0|    0|       1|      1|     0|     0|    0|    0|   0|    4|    0|    0|  1|  1|  1|         0|    1|  2|    1|  6|   0|   0|    4|    0|\n",
      "|palestinian|   0|   4|  0|   24|  17|       6|  34|   0|   3|   18|      29|  10|         6|       8| 21|  2|  32|   9|  9|    5|    0|       0|    26|    16|    11|  29|   12|   10|   12|   8|   1|  16|    7|           19|   182|    186|                 0|              3|     17|       23|    13|      5|    34|  0|  19|     4|    16| 14|   18|     3|      10|        7| 34|        17| 11|       43|         2|       1483|           1|        12|   20|     8|       32|           0|       12|      36|     9|    25|      4|  26|     5|       2|  25|     2|        22|       3|   53|      13|     30|     8|     5|    9|   10|   6|    1|    3|    2| 16| 13| 46|        21|    8| 28|    9|  7|   4|  30|   15|   11|\n",
      "|      hamas|   0|   0|  0|    1|   0|       0|   1|   0|   0|    1|       1|   1|         2|       0|  0|  0|   0|   1|  0|    0|    0|       0|     0|     1|     2|  12|    0|    0|   69|   0|   0|   0|    0|            0|     4|      3|                 0|              1|      0|        0|     0|      0|     2|  0|   1|     0|     5|  0|    0|     1|       0|        0|  1|         0|  0|       14|         1|         12|           2|         0|    4|     0|        1|           0|        0|       0|     1|     0|      0|   7|     0|       0|   0|     0|         0|       0|    3|       0|      0|     0|     0|    0|    2|   0|    0|    0|    0|  1|  0|  1|         0|    1|  3|    0|  0|   1|   1|    0|    0|\n",
      "|       city|   0|   0|  0|    0|   0|       0|   1|   0|   0|    0|       0|  57|         0|       0|  1|  0|   0|   3|  0|    1|    0|       0|     0|     0|     0|   3|    0|    0|    1|   0|   0|   1|    0|            0|     4|      2|                 0|              0|      0|        1|     0|      0|     0|  0|   0|     0|     0|  0|    0|     0|       0|        0|  2|         1|  3|       31|         2|         10|           0|         0|    0|     3|        0|           0|        0|       0|     0|     0|      0|   0|     0|       0|   0|     0|         0|       0|    1|       1|      0|     0|     0|    0|    0|   0|    2|    0|    1|  2|  0|  0|         1|    0|  0|    0|  1|   0|   1|    0|    0|\n",
      "|   shooting|   0|   0|  0|    1|   0|      17|   1|   0|   0|    0|       0|   0|         0|       0|  0|  0|   0|   0|  0|    0|    0|       0|     0|     0|     0|   0|    0|    0|    0|   0|  26|   0|    0|            0|     1|      0|                 0|              0|      1|        0|     0|      1|     1|  0|   0|     0|     0|  4|    0|     0|       0|        0|  0|         0|  4|       43|         0|          2|           1|         0|    0|    20|        0|           0|        0|       0|     0|     0|      0|   0|    25|      58|   0|     0|         0|       0|    1|       0|      0|     0|     0|    0|    0|   0|    0|    0|    0|  3|  0|  0|         0|    0|  0|    0|  0|   0|   1|    1|    0|\n",
      "|  president|   0|   3|  0|   22|   0|       0|   0|   0|   1|   12|       0|   0|         1|       0|  0|  0|   0|   1|  0|    0|    0|       0|     0|     0|     0|   0|    0|    0|    1|   0|   0|   0|    0|            2|    15|      2|                 2|              0|      2|        1|     0|      0|     0|  0|   1|     0|     1|  0|    0|     0|       1|        2|  1|         2|  0|       44|         4|         32|           1|         0|    3|     1|      104|           0|        1|       0|     0|     0|      0|   0|     0|       0|   0|     0|         0|       0|   11|       0|      5|     1|     1|    2|    1|   0|    0|    0|    1|  3|  1|  2|         0|    4|  3|    6|  0|   0|   1|    0|    1|\n",
      "|      talks|   0|   2|  0|    0|   0|       0|   1|   0|   1|    5|       0|   0|         1|       1|  0|  0|   0|   4|  6|    0|    0|       0|     0|    15|     5|   1|    0|    0|    2|   1|   0|   0|    1|            0|    33|      1|                 4|             15|      1|        0|     0|      0|     0|  0|   0|     0|     0|  0|    0|     4|       3|        9|  1|         0|  0|       51|         2|         10|           5|         0|   29|     0|        1|           0|        2|       0|     1|     0|      0|   3|     0|       0|   0|     0|         0|       1|    2|       0|      1|     5|     6|    4|  111|   0|    0|    0|    0|  1|  0|  4|         0|    1|  4|    0|  0|   0|   0|    0|    3|\n",
      "|      greek|   0|   0|  0|    2|   1|       0|   0|   0|   0|    4|       0|   0|         0|       0|  0|  0|   0|   0|  0|    0|    0|       0|     0|     0|     0|   0|   58|    0|    0|   0|   0|   0|    0|            0|     3|      1|                 0|              0|      0|        0|     0|      0|     0|  0|   0|     0|     0|  0|    0|     0|       3|        0|  0|         0|  0|       39|         0|         12|           0|        45|    0|     0|        0|           0|       20|       0|     0|     0|      0|   0|     0|       0|   0|     0|         0|       0|   20|       0|      1|     0|     0|    0|    0|   0|    0|    0|    0|  0|  0|  0|         0|    5|  0|    2|  0|   1|   0|    0|    0|\n",
      "|     french|   0|   0|  0|    1|   4|       0|   0|   0|   1|    1|       0|   0|         5|       0|  0|  0|   0|   1|  0|    0|    0|       0|     0|     0|    59|   0|    0|    0|    2|   0|   0|   0|    0|            0|     9|      6|                 0|              4|      4|        0|     2|      0|     0|  0|   0|     0|     3|  0|    0|     1|       1|        6|  1|         0|  0|       25|         0|         11|           3|         0|   24|     0|        0|           0|        1|       0|     0|     1|      0|   2|     0|       0|   0|     0|         0|       1|    0|       0|      2|     0|     0|    0|    5|   0|    0|    1|    0|  0|  0|  0|         0|    0|  0|    2|  1|   0|   0|    0|    0|\n",
      "|         eu|   0|   1|  0|    1|   0|       0|   0|   0|   1|    4|       0|   0|         1|       2|  0|  0|   0|   2| 67|    0|    0|       0|     0|     0|     0|   2|    0|    0|    0|   0|   1|   0|    0|            2|    12|      4|                 2|             10|      0|        0|     0|      0|     0|  0|   0|     1|     0|  0|    0|     2|       0|        3|  3|         0|  0|       30|         0|          9|           2|         1|    6|     0|        0|           0|        2|       4|     3|     0|      0|   0|     0|       0|   0|     0|         0|       1|    0|       0|      6|     0|     0|    0|    6|   0|    0|    0|    0|  0|  0|  0|         0|    2|  1|    1|  0|   0|   0|    0|    3|\n",
      "|          4|   0|   9| 62|    0|   0|       1|   1|   1|   0|    0|       6|   0|         0|       0|  0|  1|   1|  17|  0|    0|    4|      37|     0|     0|     0|   0|    0|    0|    0|   0|   0|   0|    0|            0|     0|      1|                 0|              0|      0|        0|     0|      0|    40|  2|   0|     2|     0|  0|    0|     0|       0|        0|  1|         0|  0|       22|         0|          0|           1|         0|    0|    17|        0|           0|        0|       0|     0|     0|      0|   0|     0|       0|   0|     0|         0|       0|    0|       0|      0|     0|     0|    0|    0|   0|   28|    0|    0|  0|  0|  1|         0|    0|  0|    0|  0|   0|   1|   30|    0|\n",
      "| parliament|   0|   0|  0|    1|   1|       0|   0|   0|   0|    4|       0|   0|         0|       0|  0|  0|   0|   0|  1|    0|    0|       0|     0|     0|     0|   1|   45|    0|    0|   0|   0|   0|    0|            0|     3|      0|                 0|              0|      0|        0|     0|      0|     0|  0|   0|     0|     0|  0|    0|     0|       1|        0|  0|         0|  0|       37|         1|         12|           0|        56|    0|     0|        0|           0|       18|       0|     0|     0|      0|   0|     0|       0|   0|     0|         0|       0|   19|       0|      1|     0|     0|    0|    0|   0|    0|    0|    0|  0|  3|  0|         0|    5|  0|    1|  0|   2|   0|    0|    0|\n",
      "|   flooding|   0|   0| 37|    0|   0|       0|   0|   0|   0|    3|       6|   0|         0|       0|  0|  0|   3|  19|  0|    0|    0|      92|     0|     0|     0|   0|    0|    0|    0|   0|   0|   2|    0|            0|     0|      0|                 0|              0|      0|        0|     0|      0|    40|  0|   0|    13|     0|  0|    0|     0|       0|        0|  0|         0|  2|       37|         0|          0|           0|         0|    0|    17|        0|           0|        0|       0|     0|     0|      0|   0|     0|       0|   0|     0|         0|       0|    0|       0|      0|     0|     0|    0|    0|   0|   47|    0|    0|  0|  0|  0|         0|    0|  0|    0|  0|   0|   0|   28|    0|\n",
      "|   arrested|   0|   0|  1|    0|   0|      58|   0|   0|   0|    0|       1|   0|         0|       0|  0|  0|   1|   1|  0|    0|    0|       0|     0|     0|     0|   0|    0|    0|    0|   0|   6|   1|    0|            0|     4|      1|                 0|              0|      0|        0|     1|      0|     0|  0|   0|     0|     0| 19|    0|     0|       0|        0|  3|         0|  3|       36|         0|          6|           0|         0|    0|     8|        0|           0|        0|       0|     0|     0|      0|   0|     6|      17|   2|     0|         0|       0|    0|       0|      0|     0|     0|    0|    0|   0|    1|    0|    0|  3|  0|  0|         0|    0|  0|    0|  0|   0|   0|    0|    0|\n",
      "+-----------+----+----+---+-----+----+--------+----+----+----+-----+--------+----+----------+--------+---+---+----+----+---+-----+-----+--------+------+------+------+----+-----+-----+-----+----+----+----+-----+-------------+------+-------+------------------+---------------+-------+---------+------+-------+------+---+----+------+------+---+-----+------+--------+---------+---+----------+---+---------+----------+-----------+------------+----------+-----+------+---------+------------+---------+--------+------+------+-------+----+------+--------+----+------+----------+--------+-----+--------+-------+------+------+-----+-----+----+-----+-----+-----+---+---+---+----------+-----+---+-----+---+----+----+-----+-----+\n",
      "only showing top 20 rows\n",
      "\n"
     ]
    },
    {
     "name": "stderr",
     "output_type": "stream",
     "text": [
      "                                                                                \r"
     ]
    },
    {
     "name": "stdout",
     "output_type": "stream",
     "text": [
      "Matrix: palestine Headline\n",
      "+------------+----+----+-----+---------+-------+------+----+---------+----+------+------+----+--------+---+---+----------+----+-----+------+-------+------+----+-------+----------+-----+-------------+-------+------+-------+------------------+---------------+-------+-------+---------+------+------+----+----+----------+-------+---+-----+---+-----+-------+------+-------+--------+------+-------+----+---+----+----------+--------+---+------------+---------+----------+-----------+------------+----+-----+------+------+---------+-----+--------+------+----+--------+----+------+--------+-------+-----+----------+-----+--------+------+-------+-----+-----+--------+----+-----+-------+---+---+------+----------+---+-----+----+---------+----+----+-----+----+-----+\n",
      "|    col__col|2015|2016|abbas|according|affairs|agency|arab|authority|bank|called|center|city|conflict|day| de|department|east|first|forces|foreign|friday|gaza|general|government|group|international|islamic|israel|israeli|israelipalestinian|israelpalestine|israels|january|jerusalem|jewish|killed|land|last|liberation|mahmoud|man|march|may|media|meeting|middle|million|minister|monday|nations|near|new|news|occupation|occupied|one|organization|palestine|palestines|palestinian|palestinians|part|peace|people|police|president|prime|ramallah|rights|said|saturday|says|school|security|service|since|solidarity|state|students|sunday|support|texas|three|thursday|time|today|tuesday|two| un|united|university| us|visit|wafa|wednesday|week|west|world|year|years|\n",
      "+------------+----+----+-----+---------+-------+------+----+---------+----+------+------+----+--------+---+---+----------+----+-----+------+-------+------+----+-------+----------+-----+-------------+-------+------+-------+------------------+---------------+-------+-------+---------+------+------+----+----+----------+-------+---+-----+---+-----+-------+------+-------+--------+------+-------+----+---+----+----------+--------+---+------------+---------+----------+-----------+------------+----+-----+------+------+---------+-----+--------+------+----+--------+----+------+--------+-------+-----+----------+-----+--------+------+-------+-----+-----+--------+----+-----+-------+---+---+------+----------+---+-----+----+---------+----+----+-----+----+-----+\n",
      "|      sunday|  16|   4|    8|        5|     27|     5|   3|        3|   7|     2|     2|   8|       3|  7|  0|         8|   4|   10|     4|      7|     2|   4|      2|         6|    4|            5|      7|    17|     32|                 1|              1|      2|      4|        8|    10|     2|   0|   3|         8|      3|  7|    4|  1|    2|      2|     3|      1|      36|     6|      2|   4|  2|   7|         1|       5|  3|           2|       93|         0|         79|           8|   5|    5|     9|     2|       18|   11|      39|     2|  36|       1|   0|     0|       2|      2|    4|         5|    9|       4|   161|      8|    1|    7|       3|   7|    1|      2|  5|  0|     2|         6|  5|   13|  13|        0|   0|   9|    0|   2|    0|\n",
      "|      killed|   6|   6|    2|        8|      1|     1|   2|        2|  20|     2|     0|  17|       0|  4|  0|        12|  33|    3|    14|      0|    10|  13|      0|         0|    4|            2|      3|    19|     71|                 0|              1|      1|      2|       14|    10|   193|   0|   8|         1|      2| 15|    0|  1|    1|      0|     0|      0|       7|    13|      0|   3|  1|   9|         4|      13| 12|           1|      102|         0|         96|          33|   1|    0|    17|    37|        2|    7|       3|     1|  25|      22|   8|     2|       8|      1|   18|         0|    4|       1|     2|      0|   86|    8|      12|   0|    1|      6| 12|  0|     0|         2|  8|    7|   3|        7|   8|  23|    0|   5|    8|\n",
      "|organization|   8|  26|    4|        4|      3|     6|   5|       13|   9|     5|     2|   3|       6|  1|  0|         5|   2|    3|     3|      2|     2|   2|     35|        11|    9|            7|     31|    15|     39|                 3|              0|      6|      4|       12|     6|     1|   9|   1|        89|      4|  0|   27|  1|    6|      6|     2|      7|      10|    18|     17|  10|  5|   6|         3|       3|  1|         168|      130|         2|         62|          17|   3|    1|     5|     3|        8|    2|      24|     3|  24|       3|   2|     4|       5|      2|    0|         2|    5|      10|     2|      4|    0|    3|       6|   1|    0|     20|  1|  4|    16|         4|  7|    0|  30|        7|   0|   9|    2|   5|    6|\n",
      "|     israels|   5|   5|    6|        6|      1|     8|   0|        3|  19|     5|     0|   2|       1|  3|  0|         2|   7|    3|     9|      4|    10|   8|      7|         2|    6|           16|      3|    16|     24|                 2|              1|    177|      2|       13|     5|     1|   7|   7|         9|      8|  1|    1|  9|    2|      7|     3|      1|      24|    15|      9|   2|  6|   3|        38|      10|  3|           6|       82|         3|         96|          21|   1|    6|     3|     4|       12|   13|       7|    10|  25|       2|   4|     1|      20|      3|    3|         7|    8|       1|     2|      3|    0|    1|       8|   1|   15|      3|  6|  9|    11|         1| 10|    2|   3|        3|   2|  19|    5|   4|    4|\n",
      "|     support|   9|  16|    7|        3|      6|    17|   1|        7|   5|     3|     1|   8|       4|  6|  0|         0|   8|    2|     1|      8|     3|   6|      6|        20|   10|           23|     15|    25|     12|                 5|              3|      3|      5|       10|     2|     0|   3|   1|         2|      5|  0|   10|  1|    1|      6|     2|     21|      14|     9|     15|   1| 14|   5|         5|       6|  4|           4|      120|         2|        113|           7|   6|   12|    22|     2|       13|    4|      11|     6|  16|       2|   3|     2|       2|      0|    5|         9|   19|       2|     8|    228|    4|    0|       6|   2|    5|      6|  4|  3|    15|         3|  9|    9|  11|        6|   1|   5|   11|   8|    6|\n",
      "|      school|   5|   3|    0|        3|      0|     1|   4|        0|   7|     0|     5|   6|       7| 10|  0|         1|  32|    8|     3|      2|    25|   3|      2|         0|   11|           16|      0|    12|     11|                 3|              0|      1|      3|        2|     3|     2|   0|   5|         1|      0|  7|    1|  1|    2|      2|     5|     12|       0|     7|      2|   3| 17|   3|         3|       3| 23|           4|      189|         1|         26|           2|   6|    1|     3|    39|        1|    1|       3|     3|   9|       6|   9|   268|       0|      1|    0|         0|   10|      33|     0|      2|   19|    9|       4|   2|    0|      1|  4|  2|     6|         3|  1|    5|   1|        3|   6|   7|    2|   4|   14|\n",
      "|        gaza|  17|  27|    3|        6|      3|     8|   3|        9|  38|     4|     3|  48|       6| 11|  6|         3|  17|    8|    14|      1|    19| 338|      8|        12|    7|           10|     10|    67|     74|                 2|              0|      8|      4|       13|     1|    13|   4|   6|         6|      6|  2|   17| 14|   12|      2|     1|     10|       6|     6|     15|  13|  7|   2|         2|      11|  9|           2|      104|         2|        170|          25|  10|    1|     6|     1|        4|    4|       6|     2|  42|       7|   3|     3|      10|      0|   12|         5|    8|       5|     4|      6|    0|   19|       5|   0|   10|     19| 13|  7|    19|         5|  2|    4|  21|        8|   6|  39|    4|   9|   15|\n",
      "|      people|  10|   9|    3|        5|      4|     4|   8|        2|  12|    11|     1|  12|       9| 37|  0|         5|  22|   14|     1|      2|     8|   6|     16|         6|   13|           36|      8|    58|     21|                 3|              9|      3|      2|        9|     9|    17|  21|   8|         1|      3|  7|   13|  8|    5|      6|     5|      6|      10|    10|     14|   4| 15|   4|         7|       9| 15|           5|      171|        16|        179|           8|   6|   19|   354|     9|        2|    7|      14|    13|  36|       7|   3|     3|       6|      1|    5|        30|   12|       3|     9|     22|   30|    7|       4|   8|    5|      3| 15| 13|    17|         5|  6|    4|   9|        1|   4|  11|   13|  13|   10|\n",
      "| palestinian| 152| 165|  251|      105|     44|    64|  86|      286| 286|    69|    17| 145|      30| 99|  6|        31|  98|  120|   151|     85|    79| 170|     93|        89|   95|          178|     69|   404|    793|                18|             12|     96|     69|      160|    88|    96| 102|  87|        98|    241| 86|   91| 83|   60|    104|    54|     59|     210|   100|    100|  82|131|  66|       100|     185|105|          62|      588|        42|       3954|         145|  52|  100|   179|    45|      310|  104|     280|   130| 346|      73|  57|    26|     150|     13|   90|        69|  250|      39|    79|    113|    1|   80|      89|  42|   57|    157|140| 86|   111|        33| 71|   73| 148|      105|  69| 301|   97|  75|  105|\n",
      "|        city|  12|  17|    7|       29|      3|     2|   5|        2|  70|     3|     4| 425|       4|  8|  1|        16|  21|   13|    34|      1|    19|  48|      4|         3|   10|            5|     18|    19|     69|                 1|              2|      2|      1|       19|    12|    17|   9|   7|         7|      9| 14|   17| 11|    1|      6|     3|      2|       2|    12|      6|  21| 30|   6|         0|      21| 38|           3|      228|        13|        145|          16|   7|    6|    12|    22|       10|    0|      33|     2|  34|      12|   9|     6|      13|      1|   11|         5|    7|      10|     8|      8|   18|    7|      18|   5|   15|     13| 18|  3|     7|         8|  9|   14|   4|        8|   7|  73|    3|   1|   14|\n",
      "|       years|   3|  15|    6|        9|      0|     4|   5|        4|   7|     2|     2|  14|      19|  8|  1|         1|  33|   37|     3|      5|     2|  15|      5|         3|    4|           12|      0|    29|     30|                11|              4|      4|      1|       10|    11|     8|   9|  22|         7|      8| 12|    2| 23|    0|      1|     6|     11|       9|     7|      8|   8| 16|   5|         6|       6| 21|           6|      167|         6|        105|          31|   2|   14|    10|     2|        6|    5|      11|     0|  25|       8|   3|    14|       4|      2|   15|         7|   20|       5|     0|      6|   11|   11|       2|   4|    3|      2| 30|  6|     9|         3|  9|    3|  12|        2|   7|  11|   11|  20|  292|\n",
      "|   president|  20|  20|  247|       10|     21|     8|   7|       74|  14|    16|    29|  10|      40|  8|  0|         0|  15|   28|     2|     11|     7|   4|      6|        25|   10|           26|      7|    69|     38|                27|              9|     12|     23|       13|     5|     2|  11|  11|        19|    219|  2|   10|  5|    4|     39|    10|      1|      74|    55|     38|   0| 20|   9|         6|       4| 10|           8|      220|        13|        310|          11|  50|   27|     2|     1|      590|   43|      41|     3|  87|      17|  12|     1|       4|      2|    8|         0|   80|       8|    18|     13|    0|   12|      24|   9|    9|     24| 26| 13|    18|         8| 36|   66|  15|       21|  12|  21|   10|  21|    6|\n",
      "|        said|  25|  57|   39|        9|     24|    26|  22|       24|  59|    10|     7|  34|      41|  6| 10|        27|  36|   12|    44|     49|    49|  42|     31|        24|   22|           40|     39|   106|    147|                25|              8|     25|     12|       30|    12|    25|  18|  24|        52|     34| 12|   25| 17|    6|     33|    16|     13|      67|    50|     19|  15| 19|   9|         9|       8| 17|          24|      410|        13|        346|          52|  16|   51|    36|    26|       87|   23|      72|    10| 705|      38|   4|     9|      84|      5|    8|         3|   77|       5|    36|     16|   37|   21|      37|  11|   20|     54| 39| 16|    18|        12| 29|   18|  64|       56|  25|  56|   37|  26|   25|\n",
      "|       march|   9| 126|    6|        5|      1|     7|   0|        8|  16|     3|    27|  17|       5| 20|  0|         4|  32|    2|    10|     17|    21|  17|     23|         3|    6|           40|     21|    34|     47|                 3|              2|      1|      2|        9|     2|     0|  34|   1|        19|      9|  1|  244|  1|   24|      5|    29|      7|      17|    13|     11|  11|  3|   8|        12|       6|  9|          27|      162|        18|         91|          11|   8|   17|    13|     0|       10|    3|      53|     3|  25|       0|   0|     1|       4|     24|    0|         2|    7|       5|     4|     10|    6|    2|       8|   1|   20|     20|  5|  4|    12|         5|  5|    8|  59|       15|  12|  16|    3|   0|    2|\n",
      "|    occupied|   7|  15|    3|        4|      1|     1|  10|        1|  80|     6|     2|  21|       1|  6|  0|         1|  18|    8|    15|      3|     9|  11|     13|         7|    4|           16|      1|    32|     88|                 0|              2|     10|      8|       40|     5|    13|  15|   1|         7|      3|  8|    6|  5|    3|      3|     3|      3|       2|     5|     15|  13|  7|   1|        12|     252|  7|           3|       89|         4|        185|          22|   2|    8|     9|     6|        4|    2|      13|    22|   8|       8|   5|     3|       8|      0|   12|         2|    6|       2|     5|      6|    0|    3|       8|   2|    5|     17| 10| 18|    18|         3|  3|    3|   8|       10|   2|  85|    9|   2|    6|\n",
      "|       three|  18|   4|    3|        7|      6|     4|   2|        3|  16|     0|     2|   7|       3|  5|  0|         1|  18|    7|     7|      4|     8|  19|      4|         0|    6|            3|      3|    24|     33|                 2|              1|      1|      4|        4|     1|     8|   0|   3|         1|      3|  6|    2|  5|    1|      0|     1|      4|      11|     1|      8|   3| 11|   4|         1|       3| 11|           3|       62|         0|         80|           8|   2|    1|     7|     9|       12|    1|      17|     2|  21|      15|   0|     9|       4|      0|    8|         1|    9|       9|     7|      0|    9|  156|       4|   1|    6|      8| 16|  2|     9|         3|  0|    8|  16|        5|   0|  18|    3|   2|   11|\n",
      "|     meeting|   6|  15|   23|        2|      5|     3|  26|       14|  15|     3|     0|   6|       6|  2|  0|         0|  13|    8|     0|     24|     3|   2|     30|         5|    7|           18|      6|    18|     32|                 6|              8|      7|      3|       20|     0|     0|   2|   5|        19|     23|  0|    5| 18|    1|    205|     7|      2|      25|    10|      9|   0| 10|   4|         5|       3|  2|           6|       98|         3|        104|           3|   3|   16|     6|     0|       39|    9|      37|     3|  33|       0|   0|     2|      31|      2|    2|         6|   13|       3|     2|      6|    0|    0|      10|   8|    2|     23|  5| 10|    12|         0|  8|    6|   3|       14|  25|  17|    2|   2|    1|\n",
      "|       state|  15|  14|   64|       13|     14|     8|  22|       37|  11|    17|     4|   7|      14|  9|  7|        10|  41|   34|     9|     28|    22|   8|      4|        34|   16|           25|     37|    98|     40|                12|              8|      8|      9|       16|    24|     4|   4|  16|         3|     51|  1|    7|  6|    6|     13|    11|      6|      56|     9|     25|   1| 39|   7|         2|       6|  9|           5|      349|         3|        250|          31|   7|   43|    12|     5|       80|   25|       8|     4|  77|      27|  18|    10|      12|      0|   14|         1|  594|       5|     9|     19|   13|    9|      13|  13|   10|     25| 46| 16|    21|         4| 45|   32|   5|       12|  19|  16|    3|  21|   20|\n",
      "|      israel|   9|  41|   14|       26|     84|     7|  27|       54|  50|    36|     6|  19|      79| 27|  0|         5|  47|   50|    19|     47|    31|  67|     24|        19|   27|           53|     28|  1149|    118|                20|             12|     16|     26|       46|    39|    19|  36|  18|        21|     17|  9|   34| 20|   19|     18|    39|     16|     131|    25|     54|  15| 60|   6|        26|      32| 38|          15|      624|        20|        404|          68|  23|  108|    58|    14|       69|   43|      27|    35| 106|      28|  28|    12|      36|      4|   36|        17|   98|      16|    17|     25|    1|   24|      25|  26|   29|     27| 53| 31|    59|        10| 53|  107|  19|       21|  12|  82|   17|  15|   29|\n",
      "|        land|   4|  47|   10|       12|      0|     1|   5|        2|  18|     6|     0|   9|       5| 34|  0|         0|   4|    3|     2|      5|     2|   4|     16|         7|    1|           14|      0|    36|     61|                 2|              1|      7|      5|        8|     4|     0| 219|   4|        10|      6|  1|   34| 10|    4|      2|     1|      0|       2|     6|      2|  15|  7|   4|        26|      15|  4|           9|       95|         9|        102|          33|   5|    6|    21|     0|       11|    0|      41|     5|  18|       3|   2|     0|       2|      2|    5|         1|    4|       0|     0|      3|    3|    0|       4|   3|    2|     12|  0|  5|     2|         2|  3|    1|  46|        1|   3|  18|    7|   1|    9|\n",
      "+------------+----+----+-----+---------+-------+------+----+---------+----+------+------+----+--------+---+---+----------+----+-----+------+-------+------+----+-------+----------+-----+-------------+-------+------+-------+------------------+---------------+-------+-------+---------+------+------+----+----+----------+-------+---+-----+---+-----+-------+------+-------+--------+------+-------+----+---+----+----------+--------+---+------------+---------+----------+-----------+------------+----+-----+------+------+---------+-----+--------+------+----+--------+----+------+--------+-------+-----+----------+-----+--------+------+-------+-----+-----+--------+----+-----+-------+---+---+------+----------+---+-----+----+---------+----+----+-----+----+-----+\n",
      "only showing top 20 rows\n",
      "\n"
     ]
    }
   ],
   "source": [
    "for topic in topic_list:\n",
    "    print(topic)\n",
    "    tmp_df_title = df_news_cate.select('Title') .where(col('Topic') == topic)\n",
    "    tmp_df_head = df_news_cate.select('Headline').where(col('Topic') == topic)\n",
    "    handle_type_co_occurrence(df_news_title_total_cate.where(df_news_title_total_cate[\"Topic\"] == topic),tmp_df_title,topic,'Title')\n",
    "    handle_type_co_occurrence(df_news_head_total_cate.where(df_news_head_total_cate[\"Topic\"] == topic),tmp_df_head,topic,'Headline')"
   ]
  },
  {
   "cell_type": "code",
   "execution_count": null,
   "id": "03a63904",
   "metadata": {},
   "outputs": [],
   "source": []
  },
  {
   "cell_type": "code",
   "execution_count": null,
   "id": "c490059b",
   "metadata": {},
   "outputs": [],
   "source": []
  }
 ],
 "metadata": {
  "kernelspec": {
   "display_name": "Python 3 (ipykernel)",
   "language": "python",
   "name": "python3"
  },
  "language_info": {
   "codemirror_mode": {
    "name": "ipython",
    "version": 3
   },
   "file_extension": ".py",
   "mimetype": "text/x-python",
   "name": "python",
   "nbconvert_exporter": "python",
   "pygments_lexer": "ipython3",
   "version": "3.8.10"
  }
 },
 "nbformat": 4,
 "nbformat_minor": 5
}